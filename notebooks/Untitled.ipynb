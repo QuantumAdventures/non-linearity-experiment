{
 "cells": [
  {
   "cell_type": "code",
   "execution_count": 1,
   "id": "7638eb11",
   "metadata": {},
   "outputs": [],
   "source": [
    "import os\n",
    "import numpy as np\n",
    "import pandas as pd\n",
    "import matplotlib.pyplot as plt\n",
    "import scipy.signal as signal\n",
    "from scipy.optimize import curve_fit"
   ]
  },
  {
   "cell_type": "code",
   "execution_count": 4,
   "id": "4c9ce861",
   "metadata": {},
   "outputs": [],
   "source": [
    "kbT = 1.38065e-23*293\n",
    "m = 3.368e-18\n",
    "def model (x,omega,gamma,b,tau):\n",
    "    t = tau\n",
    "    A = kbT/m\n",
    "    __S0__ = 2*A*gamma/(gamma**2*x**2 + (x**2-omega**2)**2)\n",
    "    num = 3*b*np.exp(-gamma*t/2)*A**2\n",
    "    den = 256*m*gamma*omega**4*np.power(-gamma**2/4 + omega**2,3/2)*(gamma**2*x**2+\\\n",
    "        (x**2-omega**2)**2)**2\n",
    "    return __S0__ + num/den*(np.exp(gamma*t)*(32*np.sqrt(-gamma**2+\\\n",
    "        4*omega**2)*(gamma**6*x**2+2*gamma**5*t*x**2*omega**2+4*gamma\\\n",
    "        *t*omega**2*(x**2-omega**2)**3+4*omega**2*(-x**2+omega**2)**3\\\n",
    "        +gamma**2*(x-omega)*(x+omega)*(x**2-11*omega**2)*(x**2+omega**2)+\\\n",
    "        gamma**4*(2*x**4-3*x**2*omega**2-3*omega**4)+2*gamma**3*t*omega**2\\\n",
    "        *(3*x**4-4*x**2*omega**2+omega**4))*np.cos(t*np.sqrt(-gamma**2/4\\\n",
    "        +omega**2))-32*gamma*(gamma**2*x**2*(gamma**2+x**2)**2+x**2*\\\n",
    "        (gamma**4*(-5+2*gamma*t)+gamma**2*(3+2*gamma*t)*x**2+4*x**4)*omega**2\\\n",
    "        -(3*gamma**4+3*gamma**2*(-1+4*gamma*t)*x**2+4*(5+2*gamma*t)*x**4)*\\\n",
    "        omega**4+(gamma**2*(17+2*gamma*t)+4*(7+4*gamma*t)*x**2)*omega**6-\\\n",
    "        4*(3+2*gamma*t)*omega**8)*np.sin(t*np.sqrt(-gamma**2/4+omega**2)))-\\\n",
    "        32*(gamma**2-4*omega**2)*(gamma**2*x**2+(x**2-omega**2)**2)*((gamma\\\n",
    "        **2+x**2-omega**2)*np.sqrt(-gamma**2+4*omega**2)*np.cos(t/2*np.sqrt\\\n",
    "        (-gamma**2+4*omega**2))+gamma*(gamma**2+x**2-3*omega**2)*np.sin\\\n",
    "        (t/2*np.sqrt(-gamma**2+4*omega**2))))\n",
    "\n",
    "\n",
    "def S0(x, omega, gamma):\n",
    "    A = kbT/m\n",
    "    S0 = 2*A*gamma/(gamma**2*x**2 + (x**2-omega**2)**2)\n",
    "    return S0"
   ]
  },
  {
   "cell_type": "code",
   "execution_count": 3,
   "id": "7403dc77",
   "metadata": {},
   "outputs": [
    {
     "data": {
      "text/plain": [
       "3.368444650551144e-18"
      ]
     },
     "execution_count": 3,
     "metadata": {},
     "output_type": "execute_result"
    }
   ],
   "source": [
    "omega = 2*np.pi*8e4\n",
    "gamma = 13555\n",
    "rho = 2200\n",
    "particle_diameter = 0.143e-6 # m\n",
    "particle_radius = particle_diameter/2\n",
    "m = rho*4*np.pi*np.power(particle_radius,3)/3\n",
    "m"
   ]
  },
  {
   "cell_type": "code",
   "execution_count": null,
   "id": "a38b3374",
   "metadata": {},
   "outputs": [],
   "source": [
    "T0 = C*(2*omega)/(gamma*omega(gamma**2+omega**2))\n",
    "T1 = "
   ]
  }
 ],
 "metadata": {
  "kernelspec": {
   "display_name": "Python 3 (ipykernel)",
   "language": "python",
   "name": "python3"
  },
  "language_info": {
   "codemirror_mode": {
    "name": "ipython",
    "version": 3
   },
   "file_extension": ".py",
   "mimetype": "text/x-python",
   "name": "python",
   "nbconvert_exporter": "python",
   "pygments_lexer": "ipython3",
   "version": "3.9.13"
  }
 },
 "nbformat": 4,
 "nbformat_minor": 5
}
