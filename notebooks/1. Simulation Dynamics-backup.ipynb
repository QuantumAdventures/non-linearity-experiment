{
 "cells": [
  {
   "cell_type": "code",
   "execution_count": 13,
   "id": "74eb26a9",
   "metadata": {},
   "outputs": [],
   "source": [
    "import os\n",
    "import numpy as np\n",
    "import matplotlib.pyplot as plt\n",
    "import non_linearity.utils.constants as ct\n",
    "\n",
    "from tqdm import tqdm\n",
    "from non_linearity.environment import Particle\n",
    "from non_linearity.simulation import simulation\n",
    "from scipy import signal as sn"
   ]
  },
  {
   "cell_type": "code",
   "execution_count": 2,
   "id": "13d158bc",
   "metadata": {},
   "outputs": [],
   "source": [
    "freq = 81.5e3\n",
    "omega = 2*np.pi*freq\n",
    "T = 1 / freq\n",
    "max_time = 1600 * T\n",
    "delta_t = T / 400\n",
    "N_time = int(max_time / delta_t)\n",
    "t = np.linspace(0, max_time, N_time)\n",
    "gamma = 65e3"
   ]
  },
  {
   "cell_type": "code",
   "execution_count": 3,
   "id": "faf25466",
   "metadata": {},
   "outputs": [],
   "source": [
    "env = Particle(omega, gamma, radius=73e-9)"
   ]
  },
  {
   "cell_type": "code",
   "execution_count": 4,
   "id": "d9835176",
   "metadata": {
    "scrolled": true
   },
   "outputs": [
    {
     "data": {
      "text/plain": [
       "(0.001226993865030675, 100.0)"
      ]
     },
     "execution_count": 4,
     "metadata": {},
     "output_type": "execute_result"
    }
   ],
   "source": [
    "100*T, (T/4)/delta_t"
   ]
  },
  {
   "cell_type": "code",
   "execution_count": 5,
   "id": "89c7e24d",
   "metadata": {},
   "outputs": [
    {
     "data": {
      "text/plain": [
       "4413218.95448856"
      ]
     },
     "execution_count": 5,
     "metadata": {},
     "output_type": "execute_result"
    }
   ],
   "source": [
    "env.thermal_force_std"
   ]
  },
  {
   "cell_type": "code",
   "execution_count": 6,
   "id": "4784e16d",
   "metadata": {},
   "outputs": [],
   "source": [
    "def psd(traces, delta_t):\n",
    "    pxxs = []\n",
    "    for i in range(traces.shape[0]):\n",
    "        freq, pxx = sn.welch(traces[i,:], fs=1/delta_t, window='hamming', nperseg=int(traces.shape[1]/2))\n",
    "        if not np.isnan(pxx.max()) and not pxx.max() > 1e12:\n",
    "            pxxs.append(pxx)\n",
    "    return freq, np.array(pxxs)"
   ]
  },
  {
   "cell_type": "code",
   "execution_count": 7,
   "id": "12ccb673",
   "metadata": {},
   "outputs": [],
   "source": [
    "def generate_traces(env, gain, delta_t, N_time,  M, delay_range):\n",
    "    cubic_delayed = {i: [None] for i in delay_range}\n",
    "    print(\"-- Creating traces --\")\n",
    "    for key in tqdm(cubic_delayed.keys()):\n",
    "        cubic = np.zeros(shape=(M, N_time))\n",
    "        for i in range(M):\n",
    "            data = simulation(env.__omega__, env.__gamma__, env.thermal_force_std, delta_t, N_time, gain*(env.zp_x**3/env.zp_p), key)\n",
    "            data = np.array(data)\n",
    "            cubic[i, :] = data\n",
    "        cubic_delayed[key] = cubic\n",
    "    print(\"-- Analysing and making PSD --\")\n",
    "    delay_areas,  areas_std = [], []\n",
    "    for key in tqdm(list(cubic_delayed.keys())):\n",
    "        freq, pxx = psd(cubic_delayed[key], delta_t)\n",
    "        delay_areas.append(pxx.sum(axis=1).mean())\n",
    "        areas_std.append(pxx.sum(axis=1).std())\n",
    "    return delay_areas, areas_std"
   ]
  },
  {
   "cell_type": "code",
   "execution_count": 8,
   "id": "41335925",
   "metadata": {},
   "outputs": [
    {
     "name": "stdout",
     "output_type": "stream",
     "text": [
      "-- Creating traces --\n"
     ]
    },
    {
     "name": "stderr",
     "output_type": "stream",
     "text": [
      "  0%|          | 0/41 [00:00<?, ?it/s]"
     ]
    },
    {
     "name": "stderr",
     "output_type": "stream",
     "text": [
      "100%|██████████| 41/41 [04:53<00:00,  7.17s/it]\n"
     ]
    },
    {
     "name": "stdout",
     "output_type": "stream",
     "text": [
      "-- Analysing and making PSD --\n"
     ]
    },
    {
     "name": "stderr",
     "output_type": "stream",
     "text": [
      "100%|██████████| 41/41 [07:45<00:00, 11.36s/it]\n"
     ]
    }
   ],
   "source": [
    "M = 150\n",
    "delay_range = range(0, 410, 10)\n",
    "gain= 5.9e5\n",
    "areas_pos_gain, areas_std_pos_gain = generate_traces(env, gain, delta_t, N_time, M, delay_range)"
   ]
  },
  {
   "cell_type": "code",
   "execution_count": 9,
   "id": "96430414",
   "metadata": {},
   "outputs": [
    {
     "name": "stdout",
     "output_type": "stream",
     "text": [
      "-- Creating traces --\n"
     ]
    },
    {
     "name": "stderr",
     "output_type": "stream",
     "text": [
      "100%|██████████| 41/41 [04:44<00:00,  6.93s/it]\n"
     ]
    },
    {
     "name": "stdout",
     "output_type": "stream",
     "text": [
      "-- Analysing and making PSD --\n"
     ]
    },
    {
     "name": "stderr",
     "output_type": "stream",
     "text": [
      "100%|██████████| 41/41 [07:36<00:00, 11.14s/it]\n"
     ]
    }
   ],
   "source": [
    "areas_neg_gain, areas_std_neg_gain = generate_traces(env, -gain, delta_t, N_time, M, delay_range)"
   ]
  },
  {
   "cell_type": "code",
   "execution_count": 10,
   "id": "9547a8d8",
   "metadata": {},
   "outputs": [
    {
     "name": "stdout",
     "output_type": "stream",
     "text": [
      "-- Creating traces --\n"
     ]
    },
    {
     "name": "stderr",
     "output_type": "stream",
     "text": [
      "100%|██████████| 1/1 [00:07<00:00,  7.08s/it]\n"
     ]
    },
    {
     "name": "stdout",
     "output_type": "stream",
     "text": [
      "-- Analysing and making PSD --\n"
     ]
    },
    {
     "name": "stderr",
     "output_type": "stream",
     "text": [
      "100%|██████████| 1/1 [00:06<00:00,  6.69s/it]\n"
     ]
    }
   ],
   "source": [
    "areas_ref, areas_std_ref = generate_traces(env, 0, delta_t, N_time, M, range(0,1,10))"
   ]
  },
  {
   "cell_type": "code",
   "execution_count": 14,
   "id": "a6b8fc99",
   "metadata": {},
   "outputs": [],
   "source": [
    "np.save('../data/delay/simulation/areas_pos_gain.npy', areas_pos_gain)\n",
    "np.save('../data/delay/simulation/areas_std_pos_gain.npy', areas_std_pos_gain)\n",
    "np.save('../data/delay/simulation/areas_neg_gain.npy', areas_neg_gain)\n",
    "np.save('../data/delay/simulation/areas_std_neg_gain.npy', areas_std_neg_gain)\n",
    "np.save('../data/delay/simulation/areas_ref.npy', areas_ref)\n",
    "np.save('../data/delay/simulation/areas_std_ref.npy', areas_std_ref)"
   ]
  },
  {
   "cell_type": "code",
   "execution_count": 15,
   "id": "fc1e5f1e",
   "metadata": {},
   "outputs": [],
   "source": [
    "def autocor_0(t, omega, gamma, m= 3.368e-18, T=293):\n",
    "    C = 2*(gamma*ct.kb*T/m)\n",
    "    Omega = np.sqrt(omega**2-((gamma**2)/4))\n",
    "    T0 = C*np.exp(-gamma*t/2)*(2*Omega*np.cos(Omega*t)+gamma*np.sin(Omega*t))/(4*gamma*Omega*(omega**2))\n",
    "    return T0\n",
    "\n",
    "\n",
    "def autocor_perturbation(t, omega, gamma, b, tau, m= 3.368e-18, T=293):\n",
    "    T0 = autocor_0(t, omega, gamma, m=m)\n",
    "    C = 2*(gamma*ct.kb*T/m) \n",
    "    Omega = np.sqrt(omega**2-((gamma**2)/4))\n",
    "    mult = np.exp(-gamma*t/2)/(64*(gamma**3)*(Omega**4)*(omega**6))\n",
    "    part1 = np.exp(gamma*tau/2)*(8*gamma*(Omega**4)-4*(omega**2)*(gamma**2)*(Omega**2)*(t-tau))*np.cos(Omega*(t-tau))\n",
    "    \n",
    "    part2 = Omega*np.exp(gamma*tau/2)*(8*gamma*(Omega**2)*(omega**2)*(t-tau)+\\\n",
    "                                       8*(Omega**4)+4*(gamma**2)*(omega**2)+6*(gamma**2)*(Omega**2))*np.sin(Omega*(t-tau))\n",
    "    part3 = np.exp(-gamma*tau/2)*(Omega**2)*(2*Omega*(gamma**2)-8*(Omega**3))*np.sin(Omega*(t+tau))\n",
    "    part4 = np.exp(-gamma*tau/2)*8*gamma*(Omega**4)*np.cos(Omega*(t+tau))\n",
    "    T1 = -3*C*C*b*mult*(part1+part2+part3+part4)\n",
    "    return T0+T1\n",
    "\n",
    "def theoretical_area_frac(omega, gamma, gain, delay, m=3.368e-18):\n",
    "    T0 = autocor_0(0, omega, gamma, m=m)\n",
    "    T1 = autocor_perturbation(0, omega, gamma, gain, delay, m=m)\n",
    "    return T1/T0"
   ]
  },
  {
   "cell_type": "code",
   "execution_count": 16,
   "id": "26c06cb8",
   "metadata": {},
   "outputs": [],
   "source": [
    "theory_delays = np.linspace(0, T, 100)\n",
    "areas_t_pos = theoretical_area_frac(env.__omega__, env.__gamma__, -5.9e5/env._m_, theory_delays, m=env._m_)\n",
    "areas_t_neg = theoretical_area_frac(env.__omega__, env.__gamma__, 5.9e5/env._m_, theory_delays, m=env._m_)\n"
   ]
  },
  {
   "cell_type": "code",
   "execution_count": 18,
   "id": "9c5b23d1",
   "metadata": {},
   "outputs": [
    {
     "data": {
      "image/png": "[encoded data removed]",
      "text/plain": [
       "<Figure size 640x480 with 1 Axes>"
      ]
     },
     "metadata": {},
     "output_type": "display_data"
    }
   ],
   "source": [
    "plt.errorbar(np.array(delay_range)*delta_t, np.array(areas_pos_gain)/areas_ref[0], \n",
    "             yerr=np.array(areas_std_pos_gain)/(areas_ref[0]), fmt='o', markersize=4)\n",
    "\n",
    "#plt.errorbar(np.array(delay_range)*delta_t, np.array(areas_neg_gain)/areas_ref[0], \n",
    "#             yerr=np.array(areas_std_neg_gain)/(areas_ref[0]), fmt='o', markersize=4)\n",
    "#plt.errorbar(gains[::5]/1e6, median_shifts[::5]/1e3, yerr=std[::5]/1e3, \n",
    "#                fmt='o', color=colors[0], markersize=4)\n",
    "plt.plot(theory_delays, areas_t_neg)\n",
    "\n",
    "#plt.plot(theory_delays, areas_t_pos)\n",
    "plt.legend(['Simulation', 'Theory'])\n",
    "plt.xlabel(r'$\\tau$')\n",
    "plt.title(r'$\\langle x(0)x(0)\\rangle_{c}/\\langle x(0)x(0)\\rangle$')\n",
    "#plt.ylim([0,2])\n",
    "plt.grid()\n",
    "#damped_pxxs.keys()"
   ]
  },
  {
   "cell_type": "code",
   "execution_count": 47,
   "id": "c91ab3c6",
   "metadata": {},
   "outputs": [
    {
     "data": {
      "text/plain": [
       "[92.46689683894077]"
      ]
     },
     "execution_count": 47,
     "metadata": {},
     "output_type": "execute_result"
    }
   ],
   "source": [
    "areas_ref"
   ]
  },
  {
   "cell_type": "code",
   "execution_count": 50,
   "id": "484aa5d1",
   "metadata": {},
   "outputs": [
    {
     "data": {
      "text/plain": [
       "[2131.625049308682,\n",
       " 2081.643435131624,\n",
       " 2055.9590305261413,\n",
       " 2023.656836441158,\n",
       " 2062.239024056278,\n",
       " 2033.2232442835152,\n",
       " 1918.800159584544,\n",
       " 2023.278811313603,\n",
       " 1910.5120135664058,\n",
       " 1988.2609796311567,\n",
       " 1924.1703784573256,\n",
       " 1988.231193512008,\n",
       " 1928.145838672473,\n",
       " 1944.44710376859,\n",
       " 1945.56454440293,\n",
       " 1990.1299377123958,\n",
       " 1958.099154538169,\n",
       " 1932.4557256687158,\n",
       " 1947.644248750872,\n",
       " 2076.2676163132573,\n",
       " 2084.6255497589264,\n",
       " 2096.0318071866527,\n",
       " 2108.4446844972995,\n",
       " 2211.429824877126,\n",
       " 2229.6403292389195,\n",
       " 2226.393494778418,\n",
       " 2247.999778714061,\n",
       " 2206.62647931421,\n",
       " 2253.272276379246,\n",
       " 2257.1698117930064,\n",
       " 2381.5713144023434,\n",
       " 2260.348085810439,\n",
       " 2409.6838815608116,\n",
       " 2266.5981759298725,\n",
       " 2241.151032338166,\n",
       " 2276.6078036343156,\n",
       " 2272.1068987081203,\n",
       " 2313.033701205631,\n",
       " 2142.6131634322264,\n",
       " 2206.658080224385,\n",
       " 2160.2190322257584]"
      ]
     },
     "execution_count": 50,
     "metadata": {},
     "output_type": "execute_result"
    }
   ],
   "source": [
    "areas_std_pos_gain"
   ]
  },
  {
   "cell_type": "code",
   "execution_count": null,
   "id": "87422a83",
   "metadata": {},
   "outputs": [],
   "source": []
  }
 ],
 "metadata": {
  "kernelspec": {
   "display_name": "Python 3 (ipykernel)",
   "language": "python",
   "name": "python3"
  },
  "language_info": {
   "codemirror_mode": {
    "name": "ipython",
    "version": 3
   },
   "file_extension": ".py",
   "mimetype": "text/x-python",
   "name": "python",
   "nbconvert_exporter": "python",
   "pygments_lexer": "ipython3",
   "version": "3.8.5"
  }
 },
 "nbformat": 4,
 "nbformat_minor": 5
}
