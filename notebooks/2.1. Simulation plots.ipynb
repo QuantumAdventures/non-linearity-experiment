{
 "cells": [
  {
   "cell_type": "markdown",
   "id": "546deafc",
   "metadata": {},
   "source": [
    "### Trace simulation\n",
    "\n",
    "In this notebook we will run the Euler-Maruyama method to simulate a particle under the action of a cubic perturbation\n",
    "\n",
    "### Summary\n",
    "\n",
    "- [1 - Packages and imports](#1)\n",
    "\n",
    "- [2 - Simulation of a nanoparticle](#2)\n"
   ]
  },
  {
   "cell_type": "markdown",
   "id": "28c13351",
   "metadata": {},
   "source": [
    "<a name='1'></a> \n",
    "### 1. Packages and imports"
   ]
  },
  {
   "cell_type": "code",
   "execution_count": 3,
   "id": "d4e8528c",
   "metadata": {},
   "outputs": [],
   "source": [
    "import matplotlib as mpl\n",
    "import matplotlib.pyplot as plt\n",
    "import numpy as np\n",
    "from tqdm import tqdm\n",
    "from non_linearity.environment import Particle\n",
    "from non_linearity.simulation import simulation\n",
    "import non_linearity.utils.constants as ct\n",
    "from scipy import signal as sn\n"
   ]
  },
  {
   "cell_type": "code",
   "execution_count": 4,
   "id": "fe35664f",
   "metadata": {},
   "outputs": [],
   "source": [
    "plt.rcParams.update({'font.size': 10})\n",
    "plt.rcParams['axes.linewidth'] = 1.5\n",
    "plt.rcParams['font.family'] = 'serif'\n",
    "plt.rcParams['font.serif'] = ['Times New Roman'] + plt.rcParams['font.serif']\n",
    "plt.rcParams.update({\n",
    "    \"text.usetex\": True,\n",
    "})"
   ]
  },
  {
   "cell_type": "markdown",
   "metadata": {},
   "source": [
    "<a name='2'></a> \n",
    "### 2. Simulation of a nanoparticle"
   ]
  },
  {
   "cell_type": "code",
   "execution_count": 5,
   "metadata": {},
   "outputs": [],
   "source": [
    "freq = 79e3\n",
    "omega = 2*np.pi*freq\n",
    "T = 1 / freq\n",
    "max_time = 500 * T\n",
    "M = 500\n",
    "delta_t = 2e-7\n",
    "N_time = int(max_time / delta_t)\n",
    "t = np.linspace(0, max_time, int(N_time))\n",
    "gamma = 0#13578.7501\n",
    "env = Particle(omega, gamma, radius=73e-9)"
   ]
  },
  {
   "cell_type": "code",
   "execution_count": 41,
   "metadata": {},
   "outputs": [],
   "source": [
    "def extract_central_freq(freq, psds):\n",
    "    indexes = np.argwhere((freq>65000) & (freq <95000))\n",
    "    freq_cropped, power_cropped = freq[indexes], psds[indexes]\n",
    "    p0 =  [39103.417023, 2*np.pi*80000.0, 13000.2758744481, 0]\n",
    "    ans, cov = curve_fit(lorentzian, 2*np.pi*freq_cropped[:, 0], power_cropped[:,0], p0=p0, maxfev=10000)\n",
    "    return ans[1], cov[1,1]\n",
    "\n",
    "\n",
    "def lorentzian(omega,A,center,gamma,base):\n",
    "    num = A*gamma\n",
    "    den = (center**2-omega**2)**2+omega**2*gamma**2\n",
    "    return num/den + base\n",
    "\n",
    "\n",
    "def psd(traces, delta_t):\n",
    "    pxxs = []\n",
    "    for i in range(traces.shape[0]):\n",
    "        freq, pxx = sn.welch(traces[i,:], fs=1/delta_t, window='hamming', nperseg=int(traces.shape[1]))\n",
    "        pxxs.append(pxx)\n",
    "    return freq, np.array(pxxs)\n",
    "\n",
    "\n",
    "def generate_traces(env, delta_t, N_time,  M, gain_range):\n",
    "    cubic_variables = {i:{'gain': gain, 'traces': [], \n",
    "                          'freq': [], 'psd': [], 'psd_cubic': []} for i, gain in enumerate(gain_range)}\n",
    "    print(\"-- Creating traces --\")\n",
    "    for key in tqdm(cubic_variables.keys()):\n",
    "        cubic = np.zeros(shape=(M, N_time))\n",
    "        for i in range(M):\n",
    "            data = simulation(env.__omega__, env.__gamma__, env.thermal_force_std, delta_t, N_time, cubic_variables[key]['gain']*(env.zp_x**3/env.zp_p), 0)\n",
    "            data = np.array(data)\n",
    "            cubic[i, :] = data\n",
    "        cubic_variables[key]['traces'] = cubic\n",
    "    print(\"-- Analysing and making PSD --\")\n",
    "    central_freqs, std_freqs = [], []\n",
    "    for key in tqdm(list(cubic_variables.keys())):\n",
    "\n",
    "        freq, pxx = psd(cubic_variables[key]['traces'], delta_t)\n",
    "        freq, pxx_cubic = psd(np.power(cubic_variables[key]['traces'], 3), delta_t)\n",
    "        cubic_variables[key]['freq'] = freq\n",
    "        cubic_variables[key]['psd'] = pxx\n",
    "        cubic_variables[key]['psd_cubic'] = pxx_cubic\n",
    "#        plt.plot(freq, pxx[1,:])\n",
    "#        plt.yscale('log')\n",
    "#        plt.show()\n",
    "\n",
    "#        delay_areas.append(pxx.sum(axis=1).mean())\n",
    "#        areas_std.append(pxx.sum(axis=1).std())\n",
    "\n",
    "    return cubic_variables"
   ]
  },
  {
   "cell_type": "code",
   "execution_count": 38,
   "metadata": {},
   "outputs": [
    {
     "name": "stdout",
     "output_type": "stream",
     "text": [
      "-- Creating traces --\n"
     ]
    },
    {
     "name": "stderr",
     "output_type": "stream",
     "text": [
      "100%|██████████| 100/100 [01:42<00:00,  1.02s/it]\n"
     ]
    },
    {
     "name": "stdout",
     "output_type": "stream",
     "text": [
      "-- Analysing and making PSD --\n"
     ]
    },
    {
     "name": "stderr",
     "output_type": "stream",
     "text": [
      "100%|██████████| 100/100 [09:52<00:00,  5.92s/it]\n"
     ]
    }
   ],
   "source": [
    "sim_gains = np.linspace(-6e6, 6e6, 100)\n",
    "cubic_variables = generate_traces(env, delta_t, int(N_time), M, sim_gains)\n"
   ]
  },
  {
   "cell_type": "code",
   "execution_count": 39,
   "metadata": {},
   "outputs": [
    {
     "data": {
      "image/png": "[encoded data removed]",
      "text/plain": [
       "<Figure size 300x250 with 1 Axes>"
      ]
     },
     "metadata": {},
     "output_type": "display_data"
    }
   ],
   "source": [
    "psd_z = cubic_variables[0]['psd'].mean(axis=0);\n",
    "psd_z = psd_z/psd_z.max()\n",
    "psd_zcubic = cubic_variables[0]['psd_cubic'].mean(axis=0)\n",
    "psd_zcubic = psd_zcubic/psd_zcubic.max()\n",
    "freq = cubic_variables[0]['freq']\n",
    "\n",
    "gains = ['5052','0', '11332']\n",
    "\n",
    "colors = ['#1B4F72', '#2E86C1', '#85C1E9']\n",
    "ax = plt.gca()\n",
    "ax.figure.set_size_inches(3, 2.5, forward=True)\n",
    "\n",
    "\n",
    "ax.plot(freq/1e3, psd_z, color=colors[0])\n",
    "ax.plot(freq/1e3, psd_zcubic, color=colors[2])\n",
    "ax.set_xlim([63, 3*93])\n",
    "#ax.set_ylim([1e-3, 3*1e0])\n",
    "\n",
    "ax.set_yscale('log')\n",
    "ax.legend([r'$S_{zz}$', r'$S_{z^3z^3}$'])\n",
    "ax.set(xlabel=r'$\\Omega/2\\pi$ (kHz)')\n",
    "ax.set(ylabel=r'$S_{ii}$ (a.u)')\n",
    "\n",
    "ax.grid()\n",
    "plt.savefig('../plots/psd_of_cubic.png', bbox_inches='tight', dpi=300)\n",
    "\n",
    "plt.show()"
   ]
  }
 ],
 "metadata": {
  "kernelspec": {
   "display_name": "Python 3 (ipykernel)",
   "language": "python",
   "name": "python3"
  },
  "language_info": {
   "codemirror_mode": {
    "name": "ipython",
    "version": 3
   },
   "file_extension": ".py",
   "mimetype": "text/x-python",
   "name": "python",
   "nbconvert_exporter": "python",
   "pygments_lexer": "ipython3",
   "version": "3.8.5"
  }
 },
 "nbformat": 4,
 "nbformat_minor": 5
}
