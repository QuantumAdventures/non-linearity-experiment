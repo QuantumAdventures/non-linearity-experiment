{
 "cells": [
  {
   "cell_type": "markdown",
   "metadata": {},
   "source": [
    "### Reading Traces\n",
    "\n",
    "This notebook is just an example to clarify how the experimental data is organized. For this example we downloaded a specific batch, batch number 7, and its located inside the folder `data/traces`.\n",
    "\n",
    "Inside the batch folder we have the following sub-folders. The structure used here is the following, a series of gains were tested, the integers, e.g. 11971, 9000, etc, represents the traces for these gains, the folders with 0_11971, 0_9000, etc, have the reference traces. Its essential to match the traces with the correct reference. \n",
    "\n",
    "The integer value here is related with the digital gain used inside the red pitaya, so it must be converted from a digital gain with arbitrary units to $G_{fb}$ with units $N/m^3$"
   ]
  },
  {
   "cell_type": "code",
   "execution_count": 3,
   "metadata": {},
   "outputs": [],
   "source": [
    "import os\n",
    "import matplotlib as mpl\n",
    "import matplotlib.pyplot as plt\n",
    "import numpy as np\n",
    "import pandas as pd"
   ]
  },
  {
   "cell_type": "markdown",
   "metadata": {},
   "source": [
    "### Loading a trace and make units conversions\n",
    "\n",
    "The function convert_gains will take the integer gain and pass it to the right unit. Importante note is, this will only works for the gains and if you pass a reference string folder it will break.\n",
    "\n",
    "To load the traces, the conversion is much easier, just load the .pkls and divide the time traces by (11*1.504e4)"
   ]
  },
  {
   "cell_type": "code",
   "execution_count": 4,
   "metadata": {},
   "outputs": [],
   "source": [
    "def convert_gains(gain, bits_decimal = 8):\n",
    "    '''\n",
    "    Function to convert gain values from integer representation of multiples of \n",
    "    the ADC resolution to float\n",
    "    '''\n",
    "    resolution = 2**-8\n",
    "    internal_gain_ft = -32+(gain-8192)*resolution if gain >=8192 else  gain*resolution\n",
    "    return 11.27*3.03e-15*np.power(-11*1.504e4*internal_gain_ft,3)"
   ]
  },
  {
   "cell_type": "code",
   "execution_count": 5,
   "metadata": {},
   "outputs": [
    {
     "data": {
      "text/plain": [
       "792081.7284332693"
      ]
     },
     "execution_count": 5,
     "metadata": {},
     "output_type": "execute_result"
    }
   ],
   "source": [
    "convert_gains(int(os.listdir('../data/traces/batch_7')[0]))"
   ]
  }
 ],
 "metadata": {
  "kernelspec": {
   "display_name": "base",
   "language": "python",
   "name": "python3"
  },
  "language_info": {
   "codemirror_mode": {
    "name": "ipython",
    "version": 3
   },
   "file_extension": ".py",
   "mimetype": "text/x-python",
   "name": "python",
   "nbconvert_exporter": "python",
   "pygments_lexer": "ipython3",
   "version": "3.8.5"
  },
  "orig_nbformat": 4
 },
 "nbformat": 4,
 "nbformat_minor": 2
}
