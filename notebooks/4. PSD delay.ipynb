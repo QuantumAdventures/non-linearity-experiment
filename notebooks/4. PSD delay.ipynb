{
 "cells": [
  {
   "cell_type": "markdown",
   "id": "bcfcb367",
   "metadata": {},
   "source": [
    "### PSD Delay\n",
    "\n",
    "In this notebook we will plot the PSD of the traces when the particle was submitted to a delayed force\n",
    "\n",
    "* Define methods to convert the raw data to refined information;\n",
    "* Fit the datasets;\n",
    "* Comparision between theory and experimental results.\n",
    "\n",
    "A brief summary of the organization of this notebook:\n",
    "\n",
    "### Summary\n",
    "\n",
    "- [1 - Packages and imports](#1)\n",
    "\n",
    "- [2 - Reading experimental data](#2)\n",
    "\n",
    "- [3 - Plotting the PSD](#3)"
   ]
  },
  {
   "cell_type": "markdown",
   "id": "b09c3dd4",
   "metadata": {},
   "source": [
    "<a name='1'></a> \n",
    "### 1. Packages and imports"
   ]
  },
  {
   "cell_type": "code",
   "execution_count": 1,
   "id": "11f1f7bc",
   "metadata": {},
   "outputs": [],
   "source": [
    "import os\n",
    "import numpy as np\n",
    "import pandas as pd\n",
    "import matplotlib.pyplot as plt\n",
    "import scipy.signal as signal\n",
    "import non_linearity.utils.constants as ct\n",
    "from scipy.optimize import curve_fit"
   ]
  },
  {
   "cell_type": "code",
   "execution_count": 2,
   "id": "f760d6ab",
   "metadata": {},
   "outputs": [],
   "source": [
    "plt.rcParams.update({'font.size': 10})\n",
    "plt.rcParams['axes.linewidth'] = 1.5\n",
    "plt.rcParams[\"figure.figsize\"] = [5.4,4.2]\n",
    "plt.rcParams['font.family'] = 'serif'\n",
    "plt.rcParams['font.serif'] = ['Times New Roman'] + plt.rcParams['font.serif']\n",
    "plt.rcParams.update({\n",
    "    \"text.usetex\": True\n",
    "})"
   ]
  },
  {
   "cell_type": "markdown",
   "id": "317ba1bb",
   "metadata": {},
   "source": [
    "<a name='2'></a> \n",
    "### 2. Reading experimental data\n",
    "\n",
    "Here we are going to define a few functions to read the traces collect in .pkl format, compute the PSD and convert the gain from digital to float, including the calibration factors."
   ]
  },
  {
   "cell_type": "code",
   "execution_count": 3,
   "id": "31bfe542",
   "metadata": {},
   "outputs": [],
   "source": [
    "def convert_gains(gain, bits_decimal = 8):\n",
    "    '''\n",
    "    Function to convert gain values from integer representation of multiples of \n",
    "    the ADC resolution to float\n",
    "    '''\n",
    "    resolution = 2**-8\n",
    "    gain = -32+(gain-8192)*resolution if gain >=8192 else  gain*resolution\n",
    "    return 11.27*3.03e-15*np.power(-11*1.504e4*gain,3)"
   ]
  },
  {
   "cell_type": "code",
   "execution_count": 4,
   "id": "01298ae6",
   "metadata": {},
   "outputs": [],
   "source": [
    "def psd(pathFolders, windows = 10, factor=1, channel='ch1'):\n",
    "    data = []\n",
    "    for file in os.listdir(pathFolders):\n",
    "        if file.endswith('.pkl'):\n",
    "            filePath = os.path.join(pathFolders,file)\n",
    "            data.append(pd.read_pickle(filePath))            \n",
    "    dt = data[0].t[1]-data[0].t[0]\n",
    "    f = 1/dt\n",
    "    freq, power = signal.welch(data[0][channel]*factor, f, window = 'hamming', nperseg = int(len(data[0][channel])/windows))\n",
    "    for i in range(1,len(data)):\n",
    "        freq, powerTemp = signal.welch(data[i][channel]*factor, f, window = 'hamming', nperseg = int(len(data[i][channel])/windows))\n",
    "        power += powerTemp/np.sqrt((2*np.pi))\n",
    "    power = power/len(data)\n",
    "    return freq,power\n",
    "\n",
    "\n",
    "def lorentzian(omega,A,center,gamma,base):\n",
    "    num = A*gamma\n",
    "    den = (center**2-omega**2)**2+omega**2*gamma**2\n",
    "    return num/den + base\n",
    "\n",
    "\n",
    "def fit_psd(folder, windows=20):\n",
    "    freq, power = psd(folder, windows=windows, factor=1/(11*1.504e4))\n",
    "    p0 =  [396360.1039417023, 79000.0, 314284.2758744481, 0]\n",
    "    ans,cov = curve_fit(lorentzian, freq, power, p0=p0, absolute_sigma=True, maxfev=10000)\n",
    "    fitted_power = lorentzian(freq, *ans)\n",
    "    return power, fitted_power, freq, ans"
   ]
  },
  {
   "cell_type": "markdown",
   "id": "5c226496",
   "metadata": {},
   "source": [
    "<a name='3'></a> \n",
    "\n",
    "### 3. Plotting the PSD"
   ]
  },
  {
   "cell_type": "code",
   "execution_count": 5,
   "id": "6252f429",
   "metadata": {},
   "outputs": [
    {
     "data": {
      "image/png": "[encoded data removed]",
      "text/plain": [
       "<Figure size 300x250 with 1 Axes>"
      ]
     },
     "metadata": {},
     "output_type": "display_data"
    }
   ],
   "source": [
    "folder = \"../data/delay/batch_0\"\n",
    "gain = '8192'\n",
    "ax = plt.gca()\n",
    "ax.grid(alpha = 0.4)\n",
    "ax.figure.set_size_inches(3, 2.5, forward=True)\n",
    "colors = ['#2E86C1', '#85C1E9', '#1B4F72']\n",
    "labels = [r'$\\tau=T/4$', r'$\\tau=3T/4$', r'$G_{fb}=0$']\n",
    "for i, delay in enumerate([\"250_0\", \"875_0\"]):\n",
    "    power, fitted_power, freq, _ = fit_psd('{}/{}_{}'.format(folder, gain, delay), windows=40)\n",
    "    ax.plot(freq/1000, fitted_power,  color=colors[i], label=labels[i])\n",
    "    ax.scatter(freq/1000, power, color=colors[i], alpha=0.25, s=10, label='_{}'.format(labels[i]))\n",
    "    ax.set_xlim([75, 90])\n",
    "    ax.set_ylim([10**-20, 3*max(power)])\n",
    "    ax.set_yscale('log')\n",
    "    ax.set(ylabel=r'$S_z(\\textrm{m}{}^2$/Hz)')\n",
    "    ax.set(xlabel=r'$\\Omega/2\\pi$ (kHz)')\n",
    "    \n",
    "power, fitted_power, freq, _ = fit_psd('{}/0_{}_{}'.format(folder, gain, delay), windows=40)\n",
    "ax.plot(freq/1000, fitted_power,  color=colors[2], label=labels[2])\n",
    "ax.scatter(freq/1000, power, color=colors[2], alpha=0.25, s=10, label='_{}'.format(labels[2]))\n",
    "ax.legend(fontsize=8)\n",
    "#plt.savefig('../plots/psds_delay_shifts.pdf', dpi=300,bbox_inches='tight')\n",
    "plt.show()"
   ]
  },
  {
   "cell_type": "code",
   "execution_count": null,
   "metadata": {},
   "outputs": [],
   "source": []
  }
 ],
 "metadata": {
  "kernelspec": {
   "display_name": "Python 3 (ipykernel)",
   "language": "python",
   "name": "python3"
  },
  "language_info": {
   "codemirror_mode": {
    "name": "ipython",
    "version": 3
   },
   "file_extension": ".py",
   "mimetype": "text/x-python",
   "name": "python",
   "nbconvert_exporter": "python",
   "pygments_lexer": "ipython3",
   "version": "3.8.5"
  }
 },
 "nbformat": 4,
 "nbformat_minor": 5
}
