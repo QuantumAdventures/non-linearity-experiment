{
 "cells": [
  {
   "cell_type": "code",
   "execution_count": 1,
   "metadata": {},
   "outputs": [],
   "source": [
    "import os\n",
    "import matplotlib as mpl\n",
    "import matplotlib.pyplot as plt\n",
    "import numpy as np\n",
    "import pandas as pd"
   ]
  },
  {
   "cell_type": "markdown",
   "metadata": {},
   "source": [
    "## Reading Traces\n",
    "\n",
    "For this example we downloaded a specific batch, batch number 7, and its located inside the folder `data/traces`.\n",
    "Inside the batch folder we have the following sub-folders. The structure used here is the following, a series of gains were tested, the integers, e.g. 11971, 9000, etc, represents the traces for these gains, the folders with 0_11971, 0_9000, etc, have the reference traces. Its essential to match the traces with the correct reference. The integer value here is related with the digital gain used inside the red pitaya, so it must be converted from a digital gain with arbitrary units to $G_{fb}$ with units $N/m^3$"
   ]
  },
  {
   "cell_type": "code",
   "execution_count": 2,
   "metadata": {},
   "outputs": [
    {
     "data": {
      "text/plain": [
       "['11971',\n",
       " '9000',\n",
       " '0_11065',\n",
       " '3503',\n",
       " '0_5783',\n",
       " '8384',\n",
       " '11065',\n",
       " '0_5052',\n",
       " '8000',\n",
       " '0_11971',\n",
       " '5319',\n",
       " '4010',\n",
       " '0_12374',\n",
       " '0_4754',\n",
       " '0_7388',\n",
       " '0_2780',\n",
       " '0',\n",
       " '0_5560',\n",
       " '0_5990',\n",
       " '12374',\n",
       " '0_4413',\n",
       " '0_11630',\n",
       " '10601',\n",
       " '0_12881',\n",
       " '0_5319',\n",
       " '5052',\n",
       " '0_8000',\n",
       " '12881',\n",
       " '0_9000',\n",
       " '5783',\n",
       " '0_10601',\n",
       " '0_8384',\n",
       " '0_3503',\n",
       " '11630',\n",
       " '0_0',\n",
       " '0_11332',\n",
       " '2780',\n",
       " '0_13604',\n",
       " '5560',\n",
       " '5990',\n",
       " '0_10824',\n",
       " '10394',\n",
       " '4413',\n",
       " '7388',\n",
       " '0_4010',\n",
       " '0_10394',\n",
       " '10824',\n",
       " '4754',\n",
       " '13604',\n",
       " '11332']"
      ]
     },
     "execution_count": 2,
     "metadata": {},
     "output_type": "execute_result"
    }
   ],
   "source": [
    "os.listdir(\"../data/traces/batch_7\")"
   ]
  },
  {
   "cell_type": "markdown",
   "metadata": {},
   "source": [
    "### Loading a trace and make units conversions\n",
    "\n",
    "The function convert_gains will take the integer gain and pass it to the right unit. Importante note is, this will only works for the gains and if you pass a reference string folder it will break.\n",
    "\n",
    "To load the traces, the conversion is much "
   ]
  },
  {
   "cell_type": "code",
   "execution_count": 6,
   "metadata": {},
   "outputs": [],
   "source": [
    "def convert_gains(gain, bits_decimal = 8):\n",
    "    '''\n",
    "    Function to convert gain values from integer representation of multiples of \n",
    "    the ADC resolution to float\n",
    "    '''\n",
    "    resolution = 2**-8\n",
    "    internal_gain_ft = -32+(gain-8192)*resolution if gain >=8192 else  gain*resolution\n",
    "    return 11.27*3.03e-15*np.power(-11*1.504e4*internal_gain_ft,3)"
   ]
  },
  {
   "cell_type": "code",
   "execution_count": 7,
   "metadata": {},
   "outputs": [
    {
     "data": {
      "text/plain": [
       "792081.7284332693"
      ]
     },
     "execution_count": 7,
     "metadata": {},
     "output_type": "execute_result"
    }
   ],
   "source": [
    "convert_gains(int(os.listdir('../data/traces/batch_7')[0]))"
   ]
  },
  {
   "cell_type": "markdown",
   "metadata": {},
   "source": []
  }
 ],
 "metadata": {
  "kernelspec": {
   "display_name": "base",
   "language": "python",
   "name": "python3"
  },
  "language_info": {
   "codemirror_mode": {
    "name": "ipython",
    "version": 3
   },
   "file_extension": ".py",
   "mimetype": "text/x-python",
   "name": "python",
   "nbconvert_exporter": "python",
   "pygments_lexer": "ipython3",
   "version": "3.8.5"
  },
  "orig_nbformat": 4
 },
 "nbformat": 4,
 "nbformat_minor": 2
}
