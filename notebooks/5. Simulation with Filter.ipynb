{
 "cells": [
  {
   "cell_type": "code",
   "execution_count": 1,
   "id": "7638eb11",
   "metadata": {},
   "outputs": [],
   "source": [
    "import numpy as np\n",
    "import matplotlib as mpl\n",
    "import matplotlib.pyplot as plt\n",
    "import seaborn as sns\n",
    "from tqdm import tqdm\n",
    "from non_linearity.environment import Particle\n",
    "from non_linearity.simulation import simulation_filter, simulation\n",
    "import non_linearity.utils.constants as ct\n",
    "from scipy import signal as sn\n",
    "from scipy.optimize import curve_fit"
   ]
  },
  {
   "cell_type": "code",
   "execution_count": 2,
   "id": "4054b690",
   "metadata": {},
   "outputs": [],
   "source": [
    "#mpl.rcParams.update(mpl.rcParamsDefault)\n",
    "plt.rcParams.update({'font.size': 10})\n",
    "plt.rcParams['axes.linewidth'] = 1.5\n",
    "plt.rcParams['font.family'] = 'serif'\n",
    "plt.rcParams['font.serif'] = ['Times New Roman'] + plt.rcParams['font.serif']\n",
    "plt.rcParams.update({\n",
    "    \"text.usetex\": True,\n",
    "})"
   ]
  },
  {
   "cell_type": "code",
   "execution_count": 3,
   "id": "64d31907",
   "metadata": {},
   "outputs": [],
   "source": [
    "freq = 81.5e3\n",
    "omega = 2*np.pi*freq\n",
    "T = 1 / freq\n",
    "max_time = 500 * T\n",
    "M = 500\n",
    "delta_t = 2e-7\n",
    "N_time = int(max_time / delta_t)\n",
    "# psd_stamps = int(N_time / 2 + 1)\n",
    "t = np.linspace(0, max_time, int(N_time))\n",
    "gamma = 13e3\n",
    "gain = 1.2e6"
   ]
  },
  {
   "cell_type": "code",
   "execution_count": 4,
   "id": "6a827a67",
   "metadata": {},
   "outputs": [],
   "source": [
    "env = Particle(omega, gamma, radius=73e-9)"
   ]
  },
  {
   "cell_type": "code",
   "execution_count": 5,
   "id": "bf878dc1",
   "metadata": {},
   "outputs": [],
   "source": [
    "def lorentzian(omega,A,center,gamma,base):\n",
    "    num = A*gamma\n",
    "    den = (center**2-omega**2)**2+omega**2*gamma**2\n",
    "    return num/den + base"
   ]
  },
  {
   "cell_type": "code",
   "execution_count": 6,
   "id": "f247e636",
   "metadata": {},
   "outputs": [],
   "source": [
    "def fit_psd(traces, delta_t):\n",
    "    freq, power = psd(traces, delta_t)\n",
    "    p0 =  [1e15, 2*np.pi*79000.0, 13e3, 0]\n",
    "    ans, cov = curve_fit(lorentzian, freq, power, p0=p0, absolute_sigma=True, maxfev=10000)\n",
    "    fitted_power = lorentzian(freq, *ans)\n",
    "    return power, fitted_power, freq, ans\n",
    "\n",
    "\n",
    "def psd(traces, delta_t):\n",
    "    pxxs = []\n",
    "    for i in range(traces.shape[0]):\n",
    "        freq, pxx = sn.welch(traces[i,:], fs=1/delta_t, window='hamming', nperseg=int(traces.shape[1]))\n",
    "        if not np.isnan(pxx.max()) and not pxx.max() > 1e12:\n",
    "            pxxs.append(pxx)\n",
    "    return freq, np.array(pxxs).mean(axis=0)\n",
    " \n",
    "\n",
    "def generate_traces(env, gain, delta_t, N_time,  M, band_ranges):\n",
    "    f_c = env.__omega__/(2*np.pi)\n",
    "    cubic_delayed = {i: [None] for i in band_ranges}\n",
    "    print(\"-- Creating traces --\")\n",
    "    for key in tqdm(cubic_delayed.keys()):\n",
    "        cubic = np.zeros(shape=(M, N_time))\n",
    "        if key != 0:\n",
    "            b, a = sn.butter(2, [f_c-key, f_c+key], fs=1/delta_t, btype='band', analog=False)\n",
    "            for i in range(M):\n",
    "                data = simulation_filter(env.__omega__, env.__gamma__, env.thermal_force_std, delta_t, N_time, gain*(env.zp_x**3/env.zp_p), a, b)\n",
    "                data = np.array(data)\n",
    "                cubic[i, :] = data\n",
    "            cubic_delayed[key] = cubic\n",
    "        else:\n",
    "            for i in range(M):\n",
    "                data = simulation(env.__omega__, env.__gamma__, env.thermal_force_std, delta_t, N_time, gain*(env.zp_x**3/env.zp_p), 0)\n",
    "                data = np.array(data)\n",
    "                cubic[i, :] = data\n",
    "            cubic_delayed[key] = cubic\n",
    "    print(\"-- Analysing and making PSD --\")\n",
    "    return cubic_delayed"
   ]
  },
  {
   "cell_type": "code",
   "execution_count": 7,
   "id": "7e8559dd",
   "metadata": {},
   "outputs": [
    {
     "name": "stdout",
     "output_type": "stream",
     "text": [
      "-- Creating traces --\n"
     ]
    },
    {
     "name": "stderr",
     "output_type": "stream",
     "text": [
      "  0%|          | 0/3 [00:00<?, ?it/s]"
     ]
    },
    {
     "name": "stderr",
     "output_type": "stream",
     "text": [
      "100%|██████████| 3/3 [00:19<00:00,  6.61s/it]"
     ]
    },
    {
     "name": "stdout",
     "output_type": "stream",
     "text": [
      "-- Analysing and making PSD --\n"
     ]
    },
    {
     "name": "stderr",
     "output_type": "stream",
     "text": [
      "\n"
     ]
    }
   ],
   "source": [
    "band_range = [0, 1e3, 5e4]\n",
    "cubic_delayed = generate_traces(env, gain, delta_t, N_time, M, band_range)"
   ]
  },
  {
   "cell_type": "code",
   "execution_count": 8,
   "id": "4a59b6ef",
   "metadata": {},
   "outputs": [
    {
     "name": "stdout",
     "output_type": "stream",
     "text": [
      "-- Creating traces --\n"
     ]
    },
    {
     "name": "stderr",
     "output_type": "stream",
     "text": [
      "100%|██████████| 1/1 [00:00<00:00,  1.45it/s]"
     ]
    },
    {
     "name": "stdout",
     "output_type": "stream",
     "text": [
      "-- Analysing and making PSD --\n"
     ]
    },
    {
     "name": "stderr",
     "output_type": "stream",
     "text": [
      "\n"
     ]
    }
   ],
   "source": [
    "band_range = [0]\n",
    "ref = generate_traces(env, 0, delta_t, N_time, M, band_range)"
   ]
  },
  {
   "cell_type": "code",
   "execution_count": 12,
   "id": "1a43f2d9",
   "metadata": {},
   "outputs": [
    {
     "data": {
      "image/png": "[encoded data removed]",
      "text/plain": [
       "<Figure size 300x150 with 1 Axes>"
      ]
     },
     "metadata": {},
     "output_type": "display_data"
    }
   ],
   "source": [
    "ax = plt.gca()\n",
    "#fig = plt.figure(figsize=(5.4*1.3*10, 10*4.2))\n",
    "#fig.set_size_inches(3*1.3, 2.5, forward=True)\n",
    "ax.figure.set_size_inches(3, 1.5, forward=True)\n",
    "ax.grid(alpha = 0.4)\n",
    "colors = ['#1B4F72', '#2E86C1', '#85C1E9']\n",
    "labels = [r'$G_{fb}=\\,$', r'$G_{fb} =\\,$', r'$G_{fb}=\\,$']\n",
    "factors = [0.8768, 1, 0.86]\n",
    "for i, key in enumerate(cubic_delayed.keys()):#gain, color, label, factor in zip(gains, colors, labels, factors):\n",
    "    power, fitted_power, freq, _ = fit_psd(cubic_delayed[key], delta_t)\n",
    "    ax.plot(freq/1000, fitted_power*env.zp_x**2, label=key, color=colors[i])#, color=color, label=label+str(float_gain)+r' $\\times 10^6\\textrm{N/m}{}^3$')\n",
    "    ax.scatter(freq/1000, power*env.zp_x**2, alpha=0.25, s=10, color=colors[i])#, label='_{}'.format(label))\n",
    "    ax.set_xlim([73, 90])\n",
    "    ax.set_ylim([10**-20, 5*max(power*env.zp_x**2)])\n",
    "    ax.set_yscale('log')\n",
    "    ax.set(ylabel=r'$S_z(\\textrm{m}{}^2$/Hz)')\n",
    "    ax.set(xlabel=r'$\\Omega_z/2\\pi$ (kHz)')\n",
    "#ax.legend()\n",
    "plt.savefig('../plots/psds_filter.png', dpi=300, bbox_inches='tight')\n",
    "plt.show()"
   ]
  },
  {
   "cell_type": "code",
   "execution_count": null,
   "id": "3d0f3f67",
   "metadata": {},
   "outputs": [],
   "source": [
    "freq, power = psd(cubic_delayed[0], delta_t)\n"
   ]
  },
  {
   "cell_type": "code",
   "execution_count": null,
   "id": "dfb309c2",
   "metadata": {},
   "outputs": [],
   "source": [
    "p0 =  [1e15, 2*np.pi*79000.0, 13e3, 0]\n",
    "ans, cov = curve_fit(lorentzian, freq, power, p0=p0, absolute_sigma=True, maxfev=10000)\n"
   ]
  },
  {
   "cell_type": "code",
   "execution_count": null,
   "id": "7f17644e",
   "metadata": {},
   "outputs": [],
   "source": [
    "plt.plot(np.linspace(0, 2*np.pi*10e4, freq.shape[0]), lorentzian(np.linspace(0, 2*np.pi*10e4, freq.shape[0]) , *ans))\n",
    "plt.plot(freq, power)\n",
    "plt.yscale('log')\n",
    "plt.xlim([6e4, 1e5])"
   ]
  },
  {
   "cell_type": "code",
   "execution_count": null,
   "id": "782eae9c",
   "metadata": {},
   "outputs": [],
   "source": [
    "plt.plot(freq, power)\n",
    "plt.yscale('log')\n",
    "plt.xlim([6e4, 10e4])"
   ]
  },
  {
   "cell_type": "code",
   "execution_count": null,
   "id": "4fdcc2e7",
   "metadata": {},
   "outputs": [],
   "source": []
  },
  {
   "cell_type": "code",
   "execution_count": null,
   "id": "4e5b861f",
   "metadata": {},
   "outputs": [],
   "source": [
    "def lorentzian(omega,A,center,gamma,base):\n",
    "    num = A*gamma\n",
    "    den = (center**2-omega**2)**2+omega**2*gamma**2\n",
    "    return num/den + base\n",
    "\n",
    "\n",
    "def fit_psd(traces, windows=20):\n",
    "    freq, power = psd(traces, windows=windows)\n",
    "    p0 =  [396360.1039417023, 79000.0, 314284.2758744481, 0]\n",
    "    ans,cov = curve_fit(lorentzian, freq, power, p0=p0, absolute_sigma=True, maxfev=10000)\n",
    "    fitted_power = lorentzian(freq, *ans)\n",
    "    return power, fitted_power, freq, ans"
   ]
  },
  {
   "cell_type": "code",
   "execution_count": null,
   "id": "4c9ce861",
   "metadata": {},
   "outputs": [],
   "source": [
    "from multiprocessing import Pool\n",
    "import numpy as np\n",
    "from tqdm import tqdm\n",
    "from scipy import signal as sn\n",
    "from scipy.optimize import curve_fit\n",
    "import csv\n",
    "import matplotlib.pyplot as plt\n",
    "import pdb\n",
    "processes = 6\n",
    "M = 60\n",
    "\n",
    "\n",
    "\n",
    "radius = 75e-3                     # particle radius         micrometers\n",
    "presure = 1e-3                     # gas pressure            kg/(micrometer*second^2)\n",
    "m_gas = 2.325e-26                  # nitrogen gas molecule   kg\n",
    "T = 300.0                            # temperature             Kelvin\n",
    "kb = 1.38064852e-11                # Boltzmann cst.          picoJoule/Kelvin\n",
    "v_gas = np.sqrt(3*kb*T/m_gas)      # meam squared velocity of nitrogen gas        micrometers/seconds\n",
    "gamma = 15.8*radius**2*presure/(v_gas)\n",
    "rho = 2200*1e-18                   # silica density          kilogram/(micrometers)^3\n",
    "massa = rho*4*np.pi*radius**3/3    # mass                    kg\n",
    "n_m = 1.01                         # medium refractive index\n",
    "n_p = 1.46                         # particle refractive \n",
    "m = (n_p/n_m)                      # relative refractive  \n",
    "NA = 0.7                           # numerical aperture\n",
    "c = 3e14                           # speed of light          micrometers/seconds\n",
    "P = 50e9                           # power                   kilogram*micrometers^2/seconds^3\n",
    "wl0 = 0.78                         # laser wavelength        micrometers\n",
    "wl_m = wl0/n_m                     # wavelength              micrometers\n",
    "w0 = wl_m/(np.pi*NA)               # beam waist              micrometers\n",
    "zr = np.pi*w0**2/wl_m              # railegh range           micrometers\n",
    "I0 = 2*P/(np.pi*w0**2)             # intensity               Watts/meter^2\n",
    "V0 = -(2*np.pi*n_m*radius**3/c)*((m**2-1)/(m**2+2))*I0 \n",
    "                                   # potential depth         picoJoule \n",
    "#spring = -2*V0/(zr**2)             # spring constant         microNewtons/micometers\n",
    "spring = 1.5348106e-6\n",
    "print(spring)\n",
    "t_relaxation = gamma/massa         # relaxation time         seconds\n",
    "t_period =2*np.pi*np.sqrt(massa/spring)\n",
    "\n",
    "dt = t_period/400                  # numerical integration with 400 points per period \n",
    "reduction = 50                    # one useful state point at avery few integration points\n",
    "f_integration = 1/dt\n",
    "f_sampling = f_integration/reduction\n",
    "print(massa)\n",
    "f_resonance = 1/t_period\n",
    "\n",
    "\n",
    "\n",
    "\n",
    "x0 = np.sqrt(kb*T/spring)          # length scale\n",
    "v0 = np.sqrt(kb*T*spring)/gamma\n",
    "perturbation_ratio = 0.009\n",
    "ratio = np.linspace(perturbation_ratio,perturbation_ratio,10)\n",
    "\n",
    "\n",
    "def electric_force(z,perturbation_ratio):\n",
    "    elec_number = 20.0\n",
    "    elec_charge = 1.6e-19                        # electron charge\n",
    "    # perturbation_ratio = 0.005\n",
    "    charge = elec_number*elec_charge\n",
    "    E0 = 2*spring*x0*perturbation_ratio/(charge)\n",
    "    E = E0*(z/x0)**3\n",
    "    return charge*E\n",
    "\n",
    "\n",
    "def simulation(period_m=1000, force_on=0, feedback_filter=False, filter_dict={'order': 2, 'low': 99000, 'high': 101000}):\n",
    "    max_time = period_m*t_period\n",
    "    N_time = int(max_time/dt)          # size of simulation\n",
    "    N_simulation = int(N_time/reduction)\n",
    "    t = np.linspace(0,max_time,int(N_time/reduction))/t_period # time                    seconds\n",
    "\n",
    "    # state = np.zeros(shape = (N_time,2))\n",
    "    state = np.zeros(shape= (N_simulation,2))\n",
    "    filtered_state = np.zeros(shape= (N_simulation,2))\n",
    "\n",
    "    w = np.sqrt(2.0 * kb * gamma * T * dt ) * np.random.normal(size = N_time)/massa\n",
    "    v = 0\n",
    "    x = 0\n",
    "    printcounter = 0\n",
    "    b, a = sn.butter(filter_dict['order'], [filter_dict['low'], filter_dict['high']], fs=f_integration, btype='band', analog=False)\n",
    "    x_window = np.zeros(b.shape)\n",
    "    y_window = np.zeros((a.shape[0]-1))\n",
    "    y_i = 0\n",
    "    for k in range(N_time-1):\n",
    "        x_window[1:] = x_window[:-1]\n",
    "        x_window[0]  = x\n",
    "        y_i = (b*x_window).sum()-(a[1:]*y_window).sum()\n",
    "        y_window[1:] = y_window[:-1]\n",
    "        y_window[0] = y_i\n",
    "\n",
    "        if np.isnan(y_window).any():\n",
    "            print(y_window, x_window)\n",
    "            if np.isnan(y_window).all():\n",
    "                break\n",
    "        if feedback_filter:\n",
    "            v = v - (gamma/massa)*v*dt -(spring/massa)*x*dt - force_on*electric_force(y_i,perturbation_ratio)*dt/massa +w[k] # Numerical integration of velocity    \n",
    "        else:\n",
    "            v = v - (gamma/massa)*v*dt -(spring/massa)*x*dt - force_on*electric_force(x,perturbation_ratio)*dt/massa +w[k] # Numerical integration of velocity\n",
    "        x = x +v*dt                                                                                           # numerical integration of position\n",
    "#        pdb.set_trace()\n",
    "\n",
    "        \n",
    "        if (printcounter == reduction):  # Storing less data than used to integrate.\n",
    "            state[int(k/reduction),1] = v\n",
    "            state[int(k/reduction),0] = x\n",
    "            filtered_state[int(k/reduction),0] = y_i\n",
    "            printcounter = 0\n",
    "        printcounter += 1\n",
    "    \n",
    "    state[:,0] = state[:,0]\n",
    "    \n",
    "    return state[:,0], filtered_state[:,0], t\n",
    "\n",
    "\n",
    "\n",
    " \n",
    "    "
   ]
  },
  {
   "cell_type": "code",
   "execution_count": null,
   "id": "7403dc77",
   "metadata": {},
   "outputs": [],
   "source": [
    "omega = 2*np.pi*8e4\n",
    "gamma = 13555\n",
    "rho = 2200\n",
    "particle_diameter = 0.143e-6 # m\n",
    "particle_radius = particle_diameter/2\n",
    "m = rho*4*np.pi*np.power(particle_radius,3)/3\n",
    "m"
   ]
  },
  {
   "cell_type": "code",
   "execution_count": null,
   "id": "a38b3374",
   "metadata": {},
   "outputs": [],
   "source": [
    "T0 = C*(2*omega)/(gamma*omega(gamma**2+omega**2))\n",
    "T1 = "
   ]
  }
 ],
 "metadata": {
  "kernelspec": {
   "display_name": "Python 3 (ipykernel)",
   "language": "python",
   "name": "python3"
  },
  "language_info": {
   "codemirror_mode": {
    "name": "ipython",
    "version": 3
   },
   "file_extension": ".py",
   "mimetype": "text/x-python",
   "name": "python",
   "nbconvert_exporter": "python",
   "pygments_lexer": "ipython3",
   "version": "3.8.5"
  }
 },
 "nbformat": 4,
 "nbformat_minor": 5
}
