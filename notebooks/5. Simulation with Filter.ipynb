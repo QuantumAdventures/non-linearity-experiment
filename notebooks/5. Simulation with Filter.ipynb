{
 "cells": [
  {
   "cell_type": "markdown",
   "id": "8e8be1e0",
   "metadata": {},
   "source": [
    "### Simulating the dynamics of a levitated nanoparticle\n",
    "\n",
    "This notebook will show how to simulate a levitated nanoparticle under the action of a cubic force considering the presence of a Butterworth filter in our electronics setup. To do this we are going to:\n",
    "\n",
    "* Define an environment where the dynamics of a levitated nanoparticle is considered;\n",
    "* Generate traces via Euler-Maruyama simulation;\n",
    "* Making the plots showed in the *Results* section of the paper.\n",
    "\n",
    "A brief summary of the organization of this notebook:\n",
    "\n",
    "### Summary\n",
    "\n",
    "- [1 - Packages and imports](#1)\n",
    "\n",
    "- [2 - Creating the virtual nano-particle](#2)\n",
    "\n",
    "- [3 - Generating traces](#3)\n",
    "\n",
    "- [4 - Plots and comparison with theoretical predictions](#4)"
   ]
  },
  {
   "cell_type": "markdown",
   "id": "2f850193",
   "metadata": {},
   "source": [
    "<a name='1'></a> \n",
    "### 1. Packages and imports"
   ]
  },
  {
   "cell_type": "code",
   "execution_count": 1,
   "id": "cec388a8",
   "metadata": {},
   "outputs": [],
   "source": [
    "import numpy as np\n",
    "import matplotlib as mpl\n",
    "import matplotlib.pyplot as plt\n",
    "import seaborn as sns\n",
    "from tqdm import tqdm\n",
    "from non_linearity.environment import Particle\n",
    "from non_linearity.simulation import simulation_filter, simulation\n",
    "import non_linearity.utils.constants as ct\n",
    "from scipy import signal as sn\n",
    "from scipy.optimize import curve_fit"
   ]
  },
  {
   "cell_type": "code",
   "execution_count": 2,
   "id": "4054b690",
   "metadata": {},
   "outputs": [],
   "source": [
    "plt.rcParams.update({'font.size': 10})\n",
    "plt.rcParams['axes.linewidth'] = 1.5\n",
    "plt.rcParams['font.family'] = 'serif'\n",
    "plt.rcParams['font.serif'] = ['Times New Roman'] + plt.rcParams['font.serif']\n",
    "plt.rcParams.update({\n",
    "    \"text.usetex\": True,\n",
    "})"
   ]
  },
  {
   "cell_type": "markdown",
   "id": "93fefb85",
   "metadata": {},
   "source": [
    "<a name='2'></a> \n",
    "### 2. Creating the virtual nano-particle\n",
    "\n",
    "Here we are going to define some parameters for simulations. First, the particle frequency $f$, from this, we know the period $T$ and the angular frequency $\\omega$. The period is going to be used to define the maximum simulation time $t_{max}$. The parameter $M$ represents the number of traces that are going to be created, we will simulate three different cases. A scenario with no filter, and two scenarious with Butterworth filters with distinct bandwidths."
   ]
  },
  {
   "cell_type": "code",
   "execution_count": 3,
   "id": "64d31907",
   "metadata": {},
   "outputs": [],
   "source": [
    "freq = 81.5e3\n",
    "omega = 2*np.pi*freq\n",
    "T = 1 / freq\n",
    "max_time = 500 * T\n",
    "M = 500\n",
    "delta_t = 2e-7\n",
    "N_time = int(max_time / delta_t)\n",
    "# psd_stamps = int(N_time / 2 + 1)\n",
    "t = np.linspace(0, max_time, int(N_time))\n",
    "gamma = 13e3\n",
    "gain = 1.2e6"
   ]
  },
  {
   "cell_type": "code",
   "execution_count": 4,
   "id": "6a827a67",
   "metadata": {},
   "outputs": [],
   "source": [
    "env = Particle(omega, gamma, radius=73e-9)"
   ]
  },
  {
   "cell_type": "code",
   "execution_count": 5,
   "id": "bf878dc1",
   "metadata": {},
   "outputs": [],
   "source": [
    "def lorentzian(omega,A,center,gamma,base):\n",
    "    num = A*gamma\n",
    "    den = (center**2-omega**2)**2+omega**2*gamma**2\n",
    "    return num/den + base"
   ]
  },
  {
   "cell_type": "markdown",
   "id": "f98ed839",
   "metadata": {},
   "source": [
    "<a name='3'></a> \n",
    "### 3. Generating traces\n",
    "\n",
    "To create the traces we will call a function from our package, the `simulation` will run the Euler-Maruyama algorithm using Numba, this will allow for an optimized run, reducing time consumption. The difference from the other simulation function used in the notebook number `1.` is that here we take in account the presence of the filter before computign the control signal. The implementation of the Butterworth considered the filter as a IIR (Infinite Impulse Response) system. We also defined a `psd` function to run the `welch` method from `scipy.signal` on dictionary of traces."
   ]
  },
  {
   "cell_type": "code",
   "execution_count": 6,
   "id": "f247e636",
   "metadata": {},
   "outputs": [],
   "source": [
    "def fit_psd(traces, delta_t):\n",
    "    freq, power = psd(traces, delta_t)\n",
    "    p0 =  [1e15, 2*np.pi*79000.0, 13e3, 0]\n",
    "    ans, cov = curve_fit(lorentzian, freq, power, p0=p0, absolute_sigma=True, maxfev=10000)\n",
    "    fitted_power = lorentzian(freq, *ans)\n",
    "    return power, fitted_power, freq, ans\n",
    "\n",
    "\n",
    "def psd(traces, delta_t):\n",
    "    pxxs = []\n",
    "    for i in range(traces.shape[0]):\n",
    "        freq, pxx = sn.welch(traces[i,:], fs=1/delta_t, window='hamming', nperseg=int(traces.shape[1]))\n",
    "        if not np.isnan(pxx.max()) and not pxx.max() > 1e12:\n",
    "            pxxs.append(pxx)\n",
    "    return freq, np.array(pxxs).mean(axis=0)\n",
    " \n",
    "\n",
    "def generate_traces(env, gain, delta_t, N_time,  M, band_ranges):\n",
    "    f_c = env.__omega__/(2*np.pi)\n",
    "    cubic_delayed = {i: [None] for i in band_ranges}\n",
    "    print(\"-- Creating traces --\")\n",
    "    for key in tqdm(cubic_delayed.keys()):\n",
    "        cubic = np.zeros(shape=(M, N_time))\n",
    "        if key != 0:\n",
    "            b, a = sn.butter(2, [f_c-key, f_c+key], fs=1/delta_t, btype='band', analog=False)\n",
    "            for i in range(M):\n",
    "                data = simulation_filter(env.__omega__, env.__gamma__, env.thermal_force_std, delta_t, N_time, gain*(env.zp_x**3/env.zp_p), a, b)\n",
    "                data = np.array(data)\n",
    "                cubic[i, :] = data\n",
    "            cubic_delayed[key] = cubic\n",
    "        else:\n",
    "            for i in range(M):\n",
    "                data = simulation(env.__omega__, env.__gamma__, env.thermal_force_std, delta_t, N_time, gain*(env.zp_x**3/env.zp_p), 0)\n",
    "                data = np.array(data)\n",
    "                cubic[i, :] = data\n",
    "            cubic_delayed[key] = cubic\n",
    "    print(\"-- Analysing and making PSD --\")\n",
    "    return cubic_delayed"
   ]
  },
  {
   "cell_type": "code",
   "execution_count": 7,
   "id": "7e8559dd",
   "metadata": {},
   "outputs": [
    {
     "name": "stdout",
     "output_type": "stream",
     "text": [
      "-- Creating traces --\n"
     ]
    },
    {
     "name": "stderr",
     "output_type": "stream",
     "text": [
      "  0%|          | 0/3 [00:00<?, ?it/s]"
     ]
    },
    {
     "name": "stderr",
     "output_type": "stream",
     "text": [
      "100%|██████████| 3/3 [00:33<00:00, 11.03s/it]"
     ]
    },
    {
     "name": "stdout",
     "output_type": "stream",
     "text": [
      "-- Analysing and making PSD --\n"
     ]
    },
    {
     "name": "stderr",
     "output_type": "stream",
     "text": [
      "\n"
     ]
    }
   ],
   "source": [
    "band_range = [0, 1e3, 5e4]\n",
    "cubic_delayed = generate_traces(env, gain, delta_t, N_time, M, band_range)"
   ]
  },
  {
   "cell_type": "code",
   "execution_count": 8,
   "id": "4a59b6ef",
   "metadata": {},
   "outputs": [
    {
     "name": "stdout",
     "output_type": "stream",
     "text": [
      "-- Creating traces --\n"
     ]
    },
    {
     "name": "stderr",
     "output_type": "stream",
     "text": [
      "100%|██████████| 1/1 [00:00<00:00,  1.02it/s]"
     ]
    },
    {
     "name": "stdout",
     "output_type": "stream",
     "text": [
      "-- Analysing and making PSD --\n"
     ]
    },
    {
     "name": "stderr",
     "output_type": "stream",
     "text": [
      "\n"
     ]
    }
   ],
   "source": [
    "band_range = [0]\n",
    "ref = generate_traces(env, 0, delta_t, N_time, M, band_range)"
   ]
  },
  {
   "cell_type": "markdown",
   "id": "1b317317",
   "metadata": {},
   "source": [
    "<a name='4'></a> \n",
    "### 4. Plots and comparison with theoretical predictions\n",
    "\n",
    "Here we will define the autocorrelation functions, both zero and first order corrections. This will be used to compared the theory with simulation, which will be done in the last cell, via the plots that will be saved under the name `psd_filters.png`."
   ]
  },
  {
   "cell_type": "code",
   "execution_count": 23,
   "id": "1a43f2d9",
   "metadata": {},
   "outputs": [
    {
     "data": {
      "image/png": "[encoded data removed]",
      "text/plain": [
       "<Figure size 300x150 with 1 Axes>"
      ]
     },
     "metadata": {},
     "output_type": "display_data"
    }
   ],
   "source": [
    "ax = plt.gca()\n",
    "#fig = plt.figure(figsize=(5.4*1.3*10, 10*4.2))\n",
    "ax.figure.set_size_inches(3, 1.5, forward=True)\n",
    "ax.grid(alpha = 0.4)\n",
    "colors = ['#1B4F72', '#2E86C1', '#85C1E9']\n",
    "labels = [r'$G_{fb}=\\,$', r'$G_{fb} =\\,$', r'$G_{fb}=\\,$']\n",
    "factors = [0.8768, 1, 0.86]\n",
    "\n",
    "for i, key in enumerate(cubic_delayed.keys()):#gain, color, label, factor in zip(gains, colors, labels, factors):\n",
    "    power, fitted_power, freq, _ = fit_psd(cubic_delayed[key], delta_t)\n",
    "    ax.plot(freq/1000, fitted_power*env.zp_x**2, label=key, color=colors[i])#, color=color, label=label+str(float_gain)+r' $\\times 10^6\\textrm{N/m}{}^3$')\n",
    "    ax.scatter(freq/1000, power*env.zp_x**2, alpha=0.25, s=10, color=colors[i])#, label='_{}'.format(label))\n",
    "    ax.set_xlim([73, 90])\n",
    "    ax.set_ylim([10**-20, 5*max(power*env.zp_x**2)])\n",
    "    ax.set_yscale('log')\n",
    "    ax.set(ylabel=r'$S_z(\\textrm{m}{}^2$/Hz)')\n",
    "    ax.set(xlabel=r'$\\Omega/2\\pi$ (kHz)')\n",
    "plt.savefig('../plots/psds_filter.pdf', dpi=300, bbox_inches='tight')\n",
    "#ax.legend()\n",
    "plt.show()"
   ]
  },
  {
   "cell_type": "code",
   "execution_count": null,
   "metadata": {},
   "outputs": [],
   "source": []
  }
 ],
 "metadata": {
  "kernelspec": {
   "display_name": "Python 3 (ipykernel)",
   "language": "python",
   "name": "python3"
  },
  "language_info": {
   "codemirror_mode": {
    "name": "ipython",
    "version": 3
   },
   "file_extension": ".py",
   "mimetype": "text/x-python",
   "name": "python",
   "nbconvert_exporter": "python",
   "pygments_lexer": "ipython3",
   "version": "3.8.5"
  }
 },
 "nbformat": 4,
 "nbformat_minor": 5
}
