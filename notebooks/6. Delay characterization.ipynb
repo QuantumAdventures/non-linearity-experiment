{
 "cells": [
  {
   "cell_type": "code",
   "execution_count": 2,
   "id": "74eb26a9",
   "metadata": {},
   "outputs": [],
   "source": [
    "import numpy as np\n",
    "import pandas as pd\n",
    "import matplotlib.pyplot as plt\n",
    "import non_linearity.utils.constants as ct\n",
    "from scipy import signal as sn"
   ]
  },
  {
   "cell_type": "code",
   "execution_count": 3,
   "id": "516d1b1a",
   "metadata": {},
   "outputs": [],
   "source": [
    "#mpl.rcParams.update(mpl.rcParamsDefault)\n",
    "plt.rcParams.update({'font.size': 10})\n",
    "plt.rcParams['axes.linewidth'] = 1.5\n",
    "plt.rcParams['font.family'] = 'serif'\n",
    "plt.rcParams['font.serif'] = ['Times New Roman'] + plt.rcParams['font.serif']\n",
    "plt.rcParams.update({\n",
    "    \"text.usetex\": True,\n",
    "})"
   ]
  },
  {
   "cell_type": "code",
   "execution_count": 5,
   "id": "13d158bc",
   "metadata": {},
   "outputs": [
    {
     "data": {
      "text/html": [
       "<div>\n",
       "<style scoped>\n",
       "    .dataframe tbody tr th:only-of-type {\n",
       "        vertical-align: middle;\n",
       "    }\n",
       "\n",
       "    .dataframe tbody tr th {\n",
       "        vertical-align: top;\n",
       "    }\n",
       "\n",
       "    .dataframe thead th {\n",
       "        text-align: right;\n",
       "    }\n",
       "</style>\n",
       "<table border=\"1\" class=\"dataframe\">\n",
       "  <thead>\n",
       "    <tr style=\"text-align: right;\">\n",
       "      <th></th>\n",
       "      <th>gain</th>\n",
       "      <th>batch</th>\n",
       "      <th>omega</th>\n",
       "      <th>omega_ref</th>\n",
       "    </tr>\n",
       "  </thead>\n",
       "  <tbody>\n",
       "    <tr>\n",
       "      <th>0</th>\n",
       "      <td>10394</td>\n",
       "      <td>0</td>\n",
       "      <td>80519.193286</td>\n",
       "      <td>80058.792346</td>\n",
       "    </tr>\n",
       "    <tr>\n",
       "      <th>1</th>\n",
       "      <td>10601</td>\n",
       "      <td>0</td>\n",
       "      <td>79652.248500</td>\n",
       "      <td>81345.428762</td>\n",
       "    </tr>\n",
       "    <tr>\n",
       "      <th>2</th>\n",
       "      <td>10824</td>\n",
       "      <td>0</td>\n",
       "      <td>80586.942211</td>\n",
       "      <td>81274.120058</td>\n",
       "    </tr>\n",
       "    <tr>\n",
       "      <th>3</th>\n",
       "      <td>11065</td>\n",
       "      <td>0</td>\n",
       "      <td>80608.286129</td>\n",
       "      <td>80792.427812</td>\n",
       "    </tr>\n",
       "    <tr>\n",
       "      <th>4</th>\n",
       "      <td>11332</td>\n",
       "      <td>0</td>\n",
       "      <td>80649.449494</td>\n",
       "      <td>80750.302388</td>\n",
       "    </tr>\n",
       "  </tbody>\n",
       "</table>\n",
       "</div>"
      ],
      "text/plain": [
       "    gain  batch         omega     omega_ref\n",
       "0  10394      0  80519.193286  80058.792346\n",
       "1  10601      0  79652.248500  81345.428762\n",
       "2  10824      0  80586.942211  81274.120058\n",
       "3  11065      0  80608.286129  80792.427812\n",
       "4  11332      0  80649.449494  80750.302388"
      ]
     },
     "execution_count": 5,
     "metadata": {},
     "output_type": "execute_result"
    }
   ],
   "source": [
    "data = pd.read_csv(\"../data/shift/data.csv\")\n",
    "data.head()"
   ]
  },
  {
   "cell_type": "code",
   "execution_count": 8,
   "id": "faf25466",
   "metadata": {},
   "outputs": [
    {
     "data": {
      "text/plain": [
       "array([1.24908204e-05, 1.22932538e-05, 1.23040397e-05, ...,\n",
       "       1.16023713e-05, 1.16621899e-05, 1.16302497e-05])"
      ]
     },
     "execution_count": 8,
     "metadata": {},
     "output_type": "execute_result"
    }
   ],
   "source": [
    "periods = 1/data['omega_ref'].values\n",
    "periods"
   ]
  },
  {
   "cell_type": "code",
   "execution_count": 15,
   "id": "d9835176",
   "metadata": {
    "scrolled": true
   },
   "outputs": [
    {
     "data": {
      "text/plain": [
       "(62.5, 5.000000000000001e-07)"
      ]
     },
     "execution_count": 15,
     "metadata": {},
     "output_type": "execute_result"
    }
   ],
   "source": [
    "rp_clock_period = 1/(125e6)\n",
    "delay_clock = ((875-250)/2) - 250\n",
    "delay_t = delay_clock*rp_clock_period\n",
    "delay_clock, delay_t"
   ]
  },
  {
   "cell_type": "code",
   "execution_count": 17,
   "id": "72d05a38",
   "metadata": {},
   "outputs": [
    {
     "ename": "AttributeError",
     "evalue": "'float' object has no attribute 'mean'",
     "output_type": "error",
     "traceback": [
      "\u001b[0;31m---------------------------------------------------------------------------\u001b[0m",
      "\u001b[0;31mAttributeError\u001b[0m                            Traceback (most recent call last)",
      "\u001b[1;32m/Users/oscarkremer/non-linearity-experiment/notebooks/6. Delay characterization.ipynb Cell 6\u001b[0m in \u001b[0;36m1\n\u001b[0;32m----> <a href='vscode-notebook-cell:/Users/oscarkremer/non-linearity-experiment/notebooks/6.%20Delay%20characterization.ipynb#X25sZmlsZQ%3D%3D?line=0'>1</a>\u001b[0m delay_t\u001b[39m.\u001b[39;49mmean(), delay_t\u001b[39m.\u001b[39mstd()\n",
      "\u001b[0;31mAttributeError\u001b[0m: 'float' object has no attribute 'mean'"
     ]
    }
   ],
   "source": [
    "delay_t.mean(), delay_t.std()"
   ]
  },
  {
   "cell_type": "code",
   "execution_count": 18,
   "id": "e29e108b",
   "metadata": {},
   "outputs": [
    {
     "data": {
      "text/plain": [
       "(0.04169652997380497,\n",
       " 0.006630024915291059,\n",
       " 1.3939142636623688e-06,\n",
       " 2.2164161630876734e-07)"
      ]
     },
     "execution_count": 18,
     "metadata": {},
     "output_type": "execute_result"
    }
   ],
   "source": [
    "delays = delay_t/periods\n",
    "delays.mean(), delays.std(), (delays*periods.mean()).mean(), (delays*periods.mean()).std()"
   ]
  },
  {
   "cell_type": "code",
   "execution_count": 145,
   "id": "89c7e24d",
   "metadata": {},
   "outputs": [],
   "source": [
    "def psd(traces, delta_t):\n",
    "    pxxs = []\n",
    "    for i in range(traces.shape[0]):\n",
    "        freq, pxx = sn.welch(traces[i,:], fs=1/delta_t, window='hamming', nperseg=int(traces.shape[1]/2))\n",
    "        if not np.isnan(pxx.max()) and not pxx.max() > 1e12:\n",
    "            pxxs.append(pxx)\n",
    "    return freq, np.array(pxxs)\n",
    "\n",
    "\n",
    "def generate_traces(env, gain, delta_t, N_time,  M, delay_range):\n",
    "    cubic_delayed = {i: [None] for i in delay_range}\n",
    "    print(\"-- Creating traces --\")\n",
    "    for key in tqdm(cubic_delayed.keys()):\n",
    "        cubic = np.zeros(shape=(M, N_time))\n",
    "        for i in range(M):\n",
    "            data = simulation(env.__omega__, env.__gamma__, env.thermal_force_std, delta_t, N_time, gain*(env.zp_x**3/env.zp_p), key)\n",
    "            data = np.array(data)\n",
    "            cubic[i, :] = data\n",
    "        cubic_delayed[key] = cubic\n",
    "    print(\"-- Analysing and making PSD --\")\n",
    "    delay_areas,  areas_std = [], []\n",
    "    for key in tqdm(list(cubic_delayed.keys())):\n",
    "        freq, pxx = psd(cubic_delayed[key], delta_t)\n",
    "        delay_areas.append(pxx.sum(axis=1).mean())\n",
    "        areas_std.append(pxx.sum(axis=1).std())\n",
    "\n",
    "    return delay_areas, areas_std, freq"
   ]
  },
  {
   "cell_type": "code",
   "execution_count": 146,
   "id": "41335925",
   "metadata": {},
   "outputs": [
    {
     "name": "stdout",
     "output_type": "stream",
     "text": [
      "-- Creating traces --\n"
     ]
    },
    {
     "name": "stderr",
     "output_type": "stream",
     "text": [
      "100%|██████████| 5/5 [00:08<00:00,  1.71s/it]\n"
     ]
    },
    {
     "name": "stdout",
     "output_type": "stream",
     "text": [
      "-- Analysing and making PSD --\n"
     ]
    },
    {
     "name": "stderr",
     "output_type": "stream",
     "text": [
      "100%|██████████| 5/5 [00:18<00:00,  3.77s/it]\n"
     ]
    }
   ],
   "source": [
    "delay_range = [0, int(0.25*T/delta_t), int(0.5*T/delta_t), int(0.75*T/delta_t), int(T/delta_t)]\n",
    "areas_gain1, std_1, freq = generate_traces(env, gain1, delta_t, N_time, M, delay_range)"
   ]
  },
  {
   "cell_type": "code",
   "execution_count": 147,
   "id": "079107ee",
   "metadata": {},
   "outputs": [
    {
     "name": "stdout",
     "output_type": "stream",
     "text": [
      "-- Creating traces --\n"
     ]
    },
    {
     "name": "stderr",
     "output_type": "stream",
     "text": [
      "100%|██████████| 5/5 [00:07<00:00,  1.51s/it]\n"
     ]
    },
    {
     "name": "stdout",
     "output_type": "stream",
     "text": [
      "-- Analysing and making PSD --\n"
     ]
    },
    {
     "name": "stderr",
     "output_type": "stream",
     "text": [
      "100%|██████████| 5/5 [00:17<00:00,  3.58s/it]\n"
     ]
    }
   ],
   "source": [
    "delay_range = [0, int(0.25*T/delta_t), int(0.5*T/delta_t), int(0.75*T/delta_t), int(T/delta_t)]\n",
    "areas_gain2, std_2, freq = generate_traces(env, gain2, delta_t, N_time, M, delay_range)"
   ]
  },
  {
   "cell_type": "code",
   "execution_count": 148,
   "id": "fc1e5f1e",
   "metadata": {},
   "outputs": [],
   "source": [
    "def autocor_0(t, omega, gamma, m= 3.368e-18, T = 293):\n",
    "    C = 2*(gamma*ct.kb*T/m)\n",
    "    Omega = np.sqrt(omega**2-((gamma**2)/4))\n",
    "    T0 = C*np.exp(-gamma*t/2)*(2*Omega*np.cos(Omega*t)+gamma*np.sin(Omega*t))/(4*gamma*Omega*(omega**2))\n",
    "    return T0\n",
    "\n",
    "\n",
    "def autocor_perturbation(t, omega, gamma, b, tau, m= 3.368e-18, T = 293):\n",
    "    T0 = autocor_0(t, omega, gamma, m=m)\n",
    "    C = 2*(gamma*ct.kb*T/m) \n",
    "    Omega = np.sqrt(omega**2-((gamma**2)/4))\n",
    "    mult = np.exp(-gamma*t/2)/(64*(gamma**3)*(Omega**4)*(omega**6))\n",
    "    part1 = np.exp(gamma*tau/2)*(8*gamma*(Omega**4)-4*(omega**2)*(gamma**2)*(Omega**2)*(t-tau))*np.cos(Omega*(t-tau))\n",
    "    \n",
    "    part2 = Omega*np.exp(gamma*tau/2)*(8*gamma*(Omega**2)*(omega**2)*(t-tau)+\\\n",
    "                                       8*(Omega**4)+4*(gamma**2)*(omega**2)+6*(gamma**2)*(Omega**2))*np.sin(Omega*(t-tau))\n",
    "    part3 = np.exp(-gamma*tau/2)*(Omega**2)*(2*Omega*(gamma**2)-8*(Omega**3))*np.sin(Omega*(t+tau))\n",
    "    part4 = np.exp(-gamma*tau/2)*8*gamma*(Omega**4)*np.cos(Omega*(t+tau))\n",
    "    T1 = -3*C*C*b*mult*(part1+part2+part3+part4)\n",
    "    return T0+T1\n",
    "\n",
    "def theoretical_area_frac(omega, gamma, gain, delay, m=3.368e-18, T=293):\n",
    "    T1 = autocor_perturbation(0, omega, gamma, gain, delay, m=m, T=T)\n",
    "    return T1"
   ]
  },
  {
   "cell_type": "code",
   "execution_count": 149,
   "id": "26c06cb8",
   "metadata": {},
   "outputs": [],
   "source": [
    "theory_delays = np.array(delay_range)*delta_t\n",
    "areas_1 = theoretical_area_frac(env.__omega__, env.__gamma__, -gain1/env._m_, theory_delays, m=env._m_)\n",
    "areas_2 = theoretical_area_frac(env.__omega__, env.__gamma__, -gain2/env._m_, theory_delays, m=env._m_)"
   ]
  },
  {
   "cell_type": "code",
   "execution_count": 150,
   "id": "9c5b23d1",
   "metadata": {},
   "outputs": [
    {
     "data": {
      "image/png": "[encoded data removed]",
      "text/plain": [
       "<Figure size 390x250 with 1 Axes>"
      ]
     },
     "metadata": {},
     "output_type": "display_data"
    }
   ],
   "source": [
    "colors = ['#2E86C1', '#85C1E9', '#1B4F72']\n",
    "fig = plt.figure(figsize=(5.4*1.3*10, 10*4.2))\n",
    "fig.set_size_inches(3*1.3, 2.5, forward=True)\n",
    "\n",
    "plt.plot(theory_delays/T, areas_1/(env.zp_x**2)-1/2, color=colors[1], label=r\"$G_{fb}=1\\times 10^5\\,\\textrm{N/m}{}^3$\")\n",
    "plt.scatter(delta_t*np.array(delay_range)/T, np.array(areas_gain1)*np.diff(freq)[0]-1/2,s=10, color=colors[1], alpha=0.25, label=r\"_$G_{fb}=1\\times 10^5\\,\\textrm{N/m}{}^3$\")\n",
    "\n",
    "plt.plot(theory_delays/T, areas_2/(env.zp_x**2)-1/2, color=colors[1], label=r\"$G_{fb}=1\\times 10^5\\,\\textrm{N/m}{}^3$\")\n",
    "plt.scatter(delta_t*np.array(delay_range)/T, np.array(areas_gain2)*np.diff(freq)[0]-1/2,s=10, color=colors[1], alpha=0.25, label=r\"_$G_{fb}=1\\times 10^5\\,\\textrm{N/m}{}^3$\")\n",
    "\n",
    "\n",
    "plt.xlabel(r'$\\tau/T$')\n",
    "plt.ylabel(r'$\\bar{n}$')\n",
    "plt.ylim([1.0e8, 3e8])\n",
    "plt.legend()\n",
    "plt.grid()"
   ]
  },
  {
   "cell_type": "code",
   "execution_count": 120,
   "id": "8f49f81c",
   "metadata": {},
   "outputs": [
    {
     "data": {
      "text/plain": [
       "array([1.54661126e+08, 1.18683754e+08, 1.54614859e+08, 1.62056042e+08,\n",
       "       1.64984613e+08])"
      ]
     },
     "execution_count": 120,
     "metadata": {},
     "output_type": "execute_result"
    }
   ],
   "source": [
    "(np.array(areas_gain1)*np.diff(freq)[0]-0.5)"
   ]
  },
  {
   "cell_type": "code",
   "execution_count": 121,
   "id": "58c42424",
   "metadata": {},
   "outputs": [
    {
     "data": {
      "text/plain": [
       "array([1.56397396e+08, 8.59223322e+07, 1.51693263e+08, 2.20136711e+08,\n",
       "       1.58373018e+08])"
      ]
     },
     "execution_count": 121,
     "metadata": {},
     "output_type": "execute_result"
    }
   ],
   "source": [
    "areas_1/env.zp_x**2"
   ]
  },
  {
   "cell_type": "code",
   "execution_count": 136,
   "id": "ea18bf9b",
   "metadata": {},
   "outputs": [],
   "source": [
    "def create_sub_df(areas_s, areas_t, std_sim, delay_range, delta_t, freq, gain, env):\n",
    "    df = pd.DataFrame()\n",
    "    df['delay'] = np.array(delay_range)*delta_t\n",
    "    df['phonons_s'] = (np.array(areas_s)*np.diff(freq)[0]-0.5)\n",
    "    df['std_s'] = std_sim\n",
    "    df['phonons_t'] = areas_t/env.zp_x**2\n",
    "    df['gain'] = gain\n",
    "    return df\n"
   ]
  },
  {
   "cell_type": "code",
   "execution_count": 137,
   "id": "b6231c43",
   "metadata": {},
   "outputs": [],
   "source": [
    "df1 = create_sub_df(areas_gain1, areas_1, std_1, delay_range, delta_t, freq, gain1, env)\n",
    "df2 = create_sub_df(areas_gain2, areas_2, std_2, delay_range, delta_t, freq, gain2, env)"
   ]
  },
  {
   "cell_type": "code",
   "execution_count": 139,
   "id": "2da1c005",
   "metadata": {},
   "outputs": [],
   "source": [
    "df = pd.concat([df1, df2])\n",
    "df.to_csv(\"../data/phonons_theory_simulation.csv\", index=None)"
   ]
  },
  {
   "cell_type": "code",
   "execution_count": 140,
   "id": "800378e9",
   "metadata": {},
   "outputs": [
    {
     "data": {
      "text/html": [
       "<div>\n",
       "<style scoped>\n",
       "    .dataframe tbody tr th:only-of-type {\n",
       "        vertical-align: middle;\n",
       "    }\n",
       "\n",
       "    .dataframe tbody tr th {\n",
       "        vertical-align: top;\n",
       "    }\n",
       "\n",
       "    .dataframe thead th {\n",
       "        text-align: right;\n",
       "    }\n",
       "</style>\n",
       "<table border=\"1\" class=\"dataframe\">\n",
       "  <thead>\n",
       "    <tr style=\"text-align: right;\">\n",
       "      <th></th>\n",
       "      <th>delay</th>\n",
       "      <th>phonons_s</th>\n",
       "      <th>std_s</th>\n",
       "      <th>phonons_t</th>\n",
       "      <th>gain</th>\n",
       "    </tr>\n",
       "  </thead>\n",
       "  <tbody>\n",
       "    <tr>\n",
       "      <th>0</th>\n",
       "      <td>0.000000</td>\n",
       "      <td>1.546611e+08</td>\n",
       "      <td>91982.465900</td>\n",
       "      <td>1.563974e+08</td>\n",
       "      <td>594000.0</td>\n",
       "    </tr>\n",
       "    <tr>\n",
       "      <th>1</th>\n",
       "      <td>0.000003</td>\n",
       "      <td>1.186838e+08</td>\n",
       "      <td>48820.479181</td>\n",
       "      <td>8.592233e+07</td>\n",
       "      <td>594000.0</td>\n",
       "    </tr>\n",
       "    <tr>\n",
       "      <th>2</th>\n",
       "      <td>0.000006</td>\n",
       "      <td>1.546149e+08</td>\n",
       "      <td>90284.008318</td>\n",
       "      <td>1.516933e+08</td>\n",
       "      <td>594000.0</td>\n",
       "    </tr>\n",
       "    <tr>\n",
       "      <th>3</th>\n",
       "      <td>0.000009</td>\n",
       "      <td>1.620560e+08</td>\n",
       "      <td>40194.910972</td>\n",
       "      <td>2.201367e+08</td>\n",
       "      <td>594000.0</td>\n",
       "    </tr>\n",
       "    <tr>\n",
       "      <th>4</th>\n",
       "      <td>0.000013</td>\n",
       "      <td>1.649846e+08</td>\n",
       "      <td>110469.529254</td>\n",
       "      <td>1.583730e+08</td>\n",
       "      <td>594000.0</td>\n",
       "    </tr>\n",
       "    <tr>\n",
       "      <th>0</th>\n",
       "      <td>0.000000</td>\n",
       "      <td>1.528439e+08</td>\n",
       "      <td>86132.432908</td>\n",
       "      <td>1.527233e+08</td>\n",
       "      <td>-594000.0</td>\n",
       "    </tr>\n",
       "    <tr>\n",
       "      <th>1</th>\n",
       "      <td>0.000003</td>\n",
       "      <td>1.790805e+08</td>\n",
       "      <td>0.000000</td>\n",
       "      <td>2.231984e+08</td>\n",
       "      <td>-594000.0</td>\n",
       "    </tr>\n",
       "    <tr>\n",
       "      <th>2</th>\n",
       "      <td>0.000006</td>\n",
       "      <td>1.595776e+08</td>\n",
       "      <td>94719.042047</td>\n",
       "      <td>1.574275e+08</td>\n",
       "      <td>-594000.0</td>\n",
       "    </tr>\n",
       "    <tr>\n",
       "      <th>3</th>\n",
       "      <td>0.000009</td>\n",
       "      <td>1.195704e+08</td>\n",
       "      <td>49881.221932</td>\n",
       "      <td>8.898401e+07</td>\n",
       "      <td>-594000.0</td>\n",
       "    </tr>\n",
       "    <tr>\n",
       "      <th>4</th>\n",
       "      <td>0.000013</td>\n",
       "      <td>1.544246e+08</td>\n",
       "      <td>91129.787340</td>\n",
       "      <td>1.507477e+08</td>\n",
       "      <td>-594000.0</td>\n",
       "    </tr>\n",
       "  </tbody>\n",
       "</table>\n",
       "</div>"
      ],
      "text/plain": [
       "      delay     phonons_s          std_s     phonons_t      gain\n",
       "0  0.000000  1.546611e+08   91982.465900  1.563974e+08  594000.0\n",
       "1  0.000003  1.186838e+08   48820.479181  8.592233e+07  594000.0\n",
       "2  0.000006  1.546149e+08   90284.008318  1.516933e+08  594000.0\n",
       "3  0.000009  1.620560e+08   40194.910972  2.201367e+08  594000.0\n",
       "4  0.000013  1.649846e+08  110469.529254  1.583730e+08  594000.0\n",
       "0  0.000000  1.528439e+08   86132.432908  1.527233e+08 -594000.0\n",
       "1  0.000003  1.790805e+08       0.000000  2.231984e+08 -594000.0\n",
       "2  0.000006  1.595776e+08   94719.042047  1.574275e+08 -594000.0\n",
       "3  0.000009  1.195704e+08   49881.221932  8.898401e+07 -594000.0\n",
       "4  0.000013  1.544246e+08   91129.787340  1.507477e+08 -594000.0"
      ]
     },
     "execution_count": 140,
     "metadata": {},
     "output_type": "execute_result"
    }
   ],
   "source": [
    "df.head(20)"
   ]
  },
  {
   "cell_type": "code",
   "execution_count": null,
   "id": "dfe64102",
   "metadata": {},
   "outputs": [],
   "source": []
  }
 ],
 "metadata": {
  "kernelspec": {
   "display_name": "Python 3 (ipykernel)",
   "language": "python",
   "name": "python3"
  },
  "language_info": {
   "codemirror_mode": {
    "name": "ipython",
    "version": 3
   },
   "file_extension": ".py",
   "mimetype": "text/x-python",
   "name": "python",
   "nbconvert_exporter": "python",
   "pygments_lexer": "ipython3",
   "version": "3.8.5"
  }
 },
 "nbformat": 4,
 "nbformat_minor": 5
}
