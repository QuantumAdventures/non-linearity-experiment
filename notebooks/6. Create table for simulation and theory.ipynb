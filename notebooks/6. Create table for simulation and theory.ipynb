{
 "cells": [
  {
   "cell_type": "code",
   "execution_count": 105,
   "id": "74eb26a9",
   "metadata": {},
   "outputs": [],
   "source": [
    "import numpy as np\n",
    "import pandas as pd\n",
    "import matplotlib.pyplot as plt\n",
    "from tqdm import tqdm\n",
    "from non_linearity.environment import Particle\n",
    "from non_linearity.simulation import simulation\n",
    "import non_linearity.utils.constants as ct\n",
    "from scipy import signal as sn"
   ]
  },
  {
   "cell_type": "code",
   "execution_count": 58,
   "id": "516d1b1a",
   "metadata": {},
   "outputs": [],
   "source": [
    "#mpl.rcParams.update(mpl.rcParamsDefault)\n",
    "plt.rcParams.update({'font.size': 10})\n",
    "plt.rcParams['axes.linewidth'] = 1.5\n",
    "plt.rcParams['font.family'] = 'serif'\n",
    "plt.rcParams['font.serif'] = ['Times New Roman'] + plt.rcParams['font.serif']\n",
    "plt.rcParams.update({\n",
    "    \"text.usetex\": True,\n",
    "})"
   ]
  },
  {
   "cell_type": "code",
   "execution_count": 106,
   "id": "13d158bc",
   "metadata": {},
   "outputs": [],
   "source": [
    "freq = 79e3\n",
    "omega = 2*np.pi*freq\n",
    "T = 1 / freq\n",
    "max_time = 500 * T\n",
    "M = 500\n",
    "delta_t = 1e-7\n",
    "N_time = int(max_time / delta_t)\n",
    "t = np.linspace(0, max_time, int(N_time))\n",
    "gamma = 13e3\n",
    "gain1 = 5.94e5\n",
    "gain2 = -5.94e5"
   ]
  },
  {
   "cell_type": "code",
   "execution_count": 107,
   "id": "faf25466",
   "metadata": {},
   "outputs": [],
   "source": [
    "env = Particle(omega, gamma, radius=70e-9)"
   ]
  },
  {
   "cell_type": "code",
   "execution_count": 108,
   "id": "d9835176",
   "metadata": {
    "scrolled": true
   },
   "outputs": [
    {
     "name": "stdout",
     "output_type": "stream",
     "text": [
      "0.006329113924050634 31.645569620253166 63291.13924050634\n",
      "9.1GB RAM spent\n",
      "use smallest delta_t such that delay amount is appropriate\n",
      "commit between max_time and trace amount\n"
     ]
    }
   ],
   "source": [
    "print(max_time, (T/4)/delta_t, max_time/delta_t)\n",
    "print('9.1GB RAM spent')\n",
    "print('use smallest delta_t such that delay amount is appropriate')\n",
    "print('commit between max_time and trace amount')"
   ]
  },
  {
   "cell_type": "code",
   "execution_count": 109,
   "id": "89c7e24d",
   "metadata": {},
   "outputs": [],
   "source": [
    "def psd(traces, delta_t):\n",
    "    pxxs = []\n",
    "    for i in range(traces.shape[0]):\n",
    "        freq, pxx = sn.welch(traces[i,:], fs=1/delta_t, window='hamming', nperseg=int(traces.shape[1]/2))\n",
    "        if not np.isnan(pxx.max()) and not pxx.max() > 1e12:\n",
    "            pxxs.append(pxx)\n",
    "    return freq, np.array(pxxs)\n",
    "\n",
    "\n",
    "def generate_traces(env, gain, delta_t, N_time,  M, delay_range):\n",
    "    cubic_delayed = {i: [None] for i in delay_range}\n",
    "    print(\"-- Creating traces --\")\n",
    "    for key in tqdm(cubic_delayed.keys()):\n",
    "        cubic = np.zeros(shape=(M, N_time))\n",
    "        for i in range(M):\n",
    "            data = simulation(env.__omega__, env.__gamma__, env.thermal_force_std, delta_t, N_time, gain*(env.zp_x**3/env.zp_p), key)\n",
    "            data = np.array(data)\n",
    "            cubic[i, :] = data\n",
    "        cubic_delayed[key] = cubic\n",
    "    print(\"-- Analysing and making PSD --\")\n",
    "    delay_areas,  areas_std = [], []\n",
    "    for key in tqdm(list(cubic_delayed.keys())):\n",
    "        freq, pxx = psd(cubic_delayed[key], delta_t)\n",
    "        delay_areas.append(pxx.sum(axis=1).mean())\n",
    "        areas_std.append(pxx.sum(axis=1).std())\n",
    "\n",
    "    return delay_areas, areas_std, freq"
   ]
  },
  {
   "cell_type": "code",
   "execution_count": 115,
   "id": "41335925",
   "metadata": {},
   "outputs": [
    {
     "name": "stdout",
     "output_type": "stream",
     "text": [
      "-- Creating traces --\n"
     ]
    },
    {
     "name": "stderr",
     "output_type": "stream",
     "text": [
      "100%|██████████| 5/5 [00:07<00:00,  1.52s/it]\n"
     ]
    },
    {
     "name": "stdout",
     "output_type": "stream",
     "text": [
      "-- Analysing and making PSD --\n"
     ]
    },
    {
     "name": "stderr",
     "output_type": "stream",
     "text": [
      " 60%|██████    | 3/5 [00:10<00:07,  3.53s/it]/Users/oscarkremer/miniconda3/lib/python3.8/site-packages/scipy/signal/_spectral_py.py:1878: RuntimeWarning: overflow encountered in multiply\n",
      "  result = np.conjugate(result) * result\n",
      "/Users/oscarkremer/miniconda3/lib/python3.8/site-packages/scipy/signal/_spectral_py.py:1878: RuntimeWarning: invalid value encountered in multiply\n",
      "  result = np.conjugate(result) * result\n",
      "/Users/oscarkremer/miniconda3/lib/python3.8/site-packages/scipy/signal/_spectral_py.py:1880: RuntimeWarning: invalid value encountered in multiply\n",
      "  result *= scale\n",
      "100%|██████████| 5/5 [00:17<00:00,  3.49s/it]\n"
     ]
    }
   ],
   "source": [
    "delay_range = [0, int(0.25*T/delta_t), int(0.5*T/delta_t), int(0.75*T/delta_t), int(T/delta_t)]\n",
    "areas_gain1, std_1, freq = generate_traces(env, gain1, delta_t, N_time, M, delay_range)"
   ]
  },
  {
   "cell_type": "code",
   "execution_count": 116,
   "id": "079107ee",
   "metadata": {},
   "outputs": [
    {
     "name": "stdout",
     "output_type": "stream",
     "text": [
      "-- Creating traces --\n"
     ]
    },
    {
     "name": "stderr",
     "output_type": "stream",
     "text": [
      "100%|██████████| 5/5 [00:07<00:00,  1.48s/it]\n"
     ]
    },
    {
     "name": "stdout",
     "output_type": "stream",
     "text": [
      "-- Analysing and making PSD --\n"
     ]
    },
    {
     "name": "stderr",
     "output_type": "stream",
     "text": [
      "100%|██████████| 5/5 [00:17<00:00,  3.46s/it]\n"
     ]
    }
   ],
   "source": [
    "delay_range = [0, int(0.25*T/delta_t), int(0.5*T/delta_t), int(0.75*T/delta_t), int(T/delta_t)]\n",
    "areas_gain2, std_2, freq = generate_traces(env, gain2, delta_t, N_time, M, delay_range)"
   ]
  },
  {
   "cell_type": "code",
   "execution_count": 117,
   "id": "fc1e5f1e",
   "metadata": {},
   "outputs": [],
   "source": [
    "def autocor_0(t, omega, gamma, m= 3.368e-18, T = 293):\n",
    "    C = 2*(gamma*ct.kb*T/m)\n",
    "    Omega = np.sqrt(omega**2-((gamma**2)/4))\n",
    "    T0 = C*np.exp(-gamma*t/2)*(2*Omega*np.cos(Omega*t)+gamma*np.sin(Omega*t))/(4*gamma*Omega*(omega**2))\n",
    "    return T0\n",
    "\n",
    "\n",
    "def autocor_perturbation(t, omega, gamma, b, tau, m= 3.368e-18, T = 293):\n",
    "    T0 = autocor_0(t, omega, gamma, m=m)\n",
    "    C = 2*(gamma*ct.kb*T/m) \n",
    "    Omega = np.sqrt(omega**2-((gamma**2)/4))\n",
    "    mult = np.exp(-gamma*t/2)/(64*(gamma**3)*(Omega**4)*(omega**6))\n",
    "    part1 = np.exp(gamma*tau/2)*(8*gamma*(Omega**4)-4*(omega**2)*(gamma**2)*(Omega**2)*(t-tau))*np.cos(Omega*(t-tau))\n",
    "    \n",
    "    part2 = Omega*np.exp(gamma*tau/2)*(8*gamma*(Omega**2)*(omega**2)*(t-tau)+\\\n",
    "                                       8*(Omega**4)+4*(gamma**2)*(omega**2)+6*(gamma**2)*(Omega**2))*np.sin(Omega*(t-tau))\n",
    "    part3 = np.exp(-gamma*tau/2)*(Omega**2)*(2*Omega*(gamma**2)-8*(Omega**3))*np.sin(Omega*(t+tau))\n",
    "    part4 = np.exp(-gamma*tau/2)*8*gamma*(Omega**4)*np.cos(Omega*(t+tau))\n",
    "    T1 = -3*C*C*b*mult*(part1+part2+part3+part4)\n",
    "    return T0+T1\n",
    "\n",
    "def theoretical_area_frac(omega, gamma, gain, delay, m=3.368e-18, T=293):\n",
    "    T1 = autocor_perturbation(0, omega, gamma, gain, delay, m=m, T=T)\n",
    "    return T1"
   ]
  },
  {
   "cell_type": "code",
   "execution_count": 118,
   "id": "26c06cb8",
   "metadata": {},
   "outputs": [],
   "source": [
    "theory_delays = np.array(delay_range)*delta_t\n",
    "areas_1 = theoretical_area_frac(env.__omega__, env.__gamma__, -gain1/env._m_, theory_delays, m=env._m_)\n",
    "areas_2 = theoretical_area_frac(env.__omega__, env.__gamma__, -gain2/env._m_, theory_delays, m=env._m_)"
   ]
  },
  {
   "cell_type": "code",
   "execution_count": 119,
   "id": "9c5b23d1",
   "metadata": {},
   "outputs": [
    {
     "data": {
      "image/png": "[encoded data removed]",
      "text/plain": [
       "<Figure size 390x250 with 1 Axes>"
      ]
     },
     "metadata": {},
     "output_type": "display_data"
    }
   ],
   "source": [
    "colors = ['#2E86C1', '#85C1E9', '#1B4F72']\n",
    "fig = plt.figure(figsize=(5.4*1.3*10, 10*4.2))\n",
    "fig.set_size_inches(3*1.3, 2.5, forward=True)\n",
    "\n",
    "plt.plot(theory_delays/T, areas_1/(env.zp_x**2)-1/2, color=colors[1], label=r\"$G_{fb}=1\\times 10^5\\,\\textrm{N/m}{}^3$\")\n",
    "plt.scatter(delta_t*np.array(delay_range)/T, np.array(areas_gain1)*np.diff(freq)[0]-1/2,s=10, color=colors[1], alpha=0.25, label=r\"_$G_{fb}=1\\times 10^5\\,\\textrm{N/m}{}^3$\")\n",
    "\n",
    "plt.plot(theory_delays/T, areas_2/(env.zp_x**2)-1/2, color=colors[1], label=r\"$G_{fb}=1\\times 10^5\\,\\textrm{N/m}{}^3$\")\n",
    "plt.scatter(delta_t*np.array(delay_range)/T, np.array(areas_gain2)*np.diff(freq)[0]-1/2,s=10, color=colors[1], alpha=0.25, label=r\"_$G_{fb}=1\\times 10^5\\,\\textrm{N/m}{}^3$\")\n",
    "\n",
    "\n",
    "plt.xlabel(r'$\\tau/T$')\n",
    "plt.ylabel(r'$\\bar{n}$')\n",
    "plt.ylim([1.0e8, 3e8])\n",
    "plt.legend()\n",
    "plt.grid()"
   ]
  },
  {
   "cell_type": "code",
   "execution_count": 120,
   "id": "8f49f81c",
   "metadata": {},
   "outputs": [
    {
     "data": {
      "text/plain": [
       "array([1.54661126e+08, 1.18683754e+08, 1.54614859e+08, 1.62056042e+08,\n",
       "       1.64984613e+08])"
      ]
     },
     "execution_count": 120,
     "metadata": {},
     "output_type": "execute_result"
    }
   ],
   "source": [
    "(np.array(areas_gain1)*np.diff(freq)[0]-0.5)"
   ]
  },
  {
   "cell_type": "code",
   "execution_count": 121,
   "id": "58c42424",
   "metadata": {},
   "outputs": [
    {
     "data": {
      "text/plain": [
       "array([1.56397396e+08, 8.59223322e+07, 1.51693263e+08, 2.20136711e+08,\n",
       "       1.58373018e+08])"
      ]
     },
     "execution_count": 121,
     "metadata": {},
     "output_type": "execute_result"
    }
   ],
   "source": [
    "areas_1/env.zp_x**2"
   ]
  },
  {
   "cell_type": "code",
   "execution_count": 136,
   "id": "ea18bf9b",
   "metadata": {},
   "outputs": [],
   "source": [
    "def create_sub_df(areas_s, areas_t, std_sim, delay_range, delta_t, freq, gain, env):\n",
    "    df = pd.DataFrame()\n",
    "    df['delay'] = np.array(delay_range)*delta_t\n",
    "    df['phonons_s'] = (np.array(areas_s)*np.diff(freq)[0]-0.5)\n",
    "    df['std_s'] = std_sim\n",
    "    df['phonons_t'] = areas_t/env.zp_x**2\n",
    "    df['gain'] = gain\n",
    "    return df\n"
   ]
  },
  {
   "cell_type": "code",
   "execution_count": 137,
   "id": "b6231c43",
   "metadata": {},
   "outputs": [],
   "source": [
    "df1 = create_sub_df(areas_gain1, areas_1, std_1, delay_range, delta_t, freq, gain1, env)\n",
    "df2 = create_sub_df(areas_gain2, areas_2, std_2, delay_range, delta_t, freq, gain2, env)"
   ]
  },
  {
   "cell_type": "code",
   "execution_count": 139,
   "id": "2da1c005",
   "metadata": {},
   "outputs": [],
   "source": [
    "df = pd.concat([df1, df2])\n",
    "df.to_csv(\"../data/phonons_theory_simulation.csv\", index=None)"
   ]
  },
  {
   "cell_type": "code",
   "execution_count": 140,
   "id": "800378e9",
   "metadata": {},
   "outputs": [
    {
     "data": {
      "text/html": [
       "<div>\n",
       "<style scoped>\n",
       "    .dataframe tbody tr th:only-of-type {\n",
       "        vertical-align: middle;\n",
       "    }\n",
       "\n",
       "    .dataframe tbody tr th {\n",
       "        vertical-align: top;\n",
       "    }\n",
       "\n",
       "    .dataframe thead th {\n",
       "        text-align: right;\n",
       "    }\n",
       "</style>\n",
       "<table border=\"1\" class=\"dataframe\">\n",
       "  <thead>\n",
       "    <tr style=\"text-align: right;\">\n",
       "      <th></th>\n",
       "      <th>delay</th>\n",
       "      <th>phonons_s</th>\n",
       "      <th>std_s</th>\n",
       "      <th>phonons_t</th>\n",
       "      <th>gain</th>\n",
       "    </tr>\n",
       "  </thead>\n",
       "  <tbody>\n",
       "    <tr>\n",
       "      <th>0</th>\n",
       "      <td>0.000000</td>\n",
       "      <td>1.546611e+08</td>\n",
       "      <td>91982.465900</td>\n",
       "      <td>1.563974e+08</td>\n",
       "      <td>594000.0</td>\n",
       "    </tr>\n",
       "    <tr>\n",
       "      <th>1</th>\n",
       "      <td>0.000003</td>\n",
       "      <td>1.186838e+08</td>\n",
       "      <td>48820.479181</td>\n",
       "      <td>8.592233e+07</td>\n",
       "      <td>594000.0</td>\n",
       "    </tr>\n",
       "    <tr>\n",
       "      <th>2</th>\n",
       "      <td>0.000006</td>\n",
       "      <td>1.546149e+08</td>\n",
       "      <td>90284.008318</td>\n",
       "      <td>1.516933e+08</td>\n",
       "      <td>594000.0</td>\n",
       "    </tr>\n",
       "    <tr>\n",
       "      <th>3</th>\n",
       "      <td>0.000009</td>\n",
       "      <td>1.620560e+08</td>\n",
       "      <td>40194.910972</td>\n",
       "      <td>2.201367e+08</td>\n",
       "      <td>594000.0</td>\n",
       "    </tr>\n",
       "    <tr>\n",
       "      <th>4</th>\n",
       "      <td>0.000013</td>\n",
       "      <td>1.649846e+08</td>\n",
       "      <td>110469.529254</td>\n",
       "      <td>1.583730e+08</td>\n",
       "      <td>594000.0</td>\n",
       "    </tr>\n",
       "    <tr>\n",
       "      <th>0</th>\n",
       "      <td>0.000000</td>\n",
       "      <td>1.528439e+08</td>\n",
       "      <td>86132.432908</td>\n",
       "      <td>1.527233e+08</td>\n",
       "      <td>-594000.0</td>\n",
       "    </tr>\n",
       "    <tr>\n",
       "      <th>1</th>\n",
       "      <td>0.000003</td>\n",
       "      <td>1.790805e+08</td>\n",
       "      <td>0.000000</td>\n",
       "      <td>2.231984e+08</td>\n",
       "      <td>-594000.0</td>\n",
       "    </tr>\n",
       "    <tr>\n",
       "      <th>2</th>\n",
       "      <td>0.000006</td>\n",
       "      <td>1.595776e+08</td>\n",
       "      <td>94719.042047</td>\n",
       "      <td>1.574275e+08</td>\n",
       "      <td>-594000.0</td>\n",
       "    </tr>\n",
       "    <tr>\n",
       "      <th>3</th>\n",
       "      <td>0.000009</td>\n",
       "      <td>1.195704e+08</td>\n",
       "      <td>49881.221932</td>\n",
       "      <td>8.898401e+07</td>\n",
       "      <td>-594000.0</td>\n",
       "    </tr>\n",
       "    <tr>\n",
       "      <th>4</th>\n",
       "      <td>0.000013</td>\n",
       "      <td>1.544246e+08</td>\n",
       "      <td>91129.787340</td>\n",
       "      <td>1.507477e+08</td>\n",
       "      <td>-594000.0</td>\n",
       "    </tr>\n",
       "  </tbody>\n",
       "</table>\n",
       "</div>"
      ],
      "text/plain": [
       "      delay     phonons_s          std_s     phonons_t      gain\n",
       "0  0.000000  1.546611e+08   91982.465900  1.563974e+08  594000.0\n",
       "1  0.000003  1.186838e+08   48820.479181  8.592233e+07  594000.0\n",
       "2  0.000006  1.546149e+08   90284.008318  1.516933e+08  594000.0\n",
       "3  0.000009  1.620560e+08   40194.910972  2.201367e+08  594000.0\n",
       "4  0.000013  1.649846e+08  110469.529254  1.583730e+08  594000.0\n",
       "0  0.000000  1.528439e+08   86132.432908  1.527233e+08 -594000.0\n",
       "1  0.000003  1.790805e+08       0.000000  2.231984e+08 -594000.0\n",
       "2  0.000006  1.595776e+08   94719.042047  1.574275e+08 -594000.0\n",
       "3  0.000009  1.195704e+08   49881.221932  8.898401e+07 -594000.0\n",
       "4  0.000013  1.544246e+08   91129.787340  1.507477e+08 -594000.0"
      ]
     },
     "execution_count": 140,
     "metadata": {},
     "output_type": "execute_result"
    }
   ],
   "source": [
    "df.head(20)"
   ]
  },
  {
   "cell_type": "code",
   "execution_count": null,
   "id": "dfe64102",
   "metadata": {},
   "outputs": [],
   "source": []
  }
 ],
 "metadata": {
  "kernelspec": {
   "display_name": "Python 3 (ipykernel)",
   "language": "python",
   "name": "python3"
  },
  "language_info": {
   "codemirror_mode": {
    "name": "ipython",
    "version": 3
   },
   "file_extension": ".py",
   "mimetype": "text/x-python",
   "name": "python",
   "nbconvert_exporter": "python",
   "pygments_lexer": "ipython3",
   "version": "3.8.5"
  }
 },
 "nbformat": 4,
 "nbformat_minor": 5
}
