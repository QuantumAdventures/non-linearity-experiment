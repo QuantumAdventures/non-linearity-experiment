{
 "cells": [
  {
   "cell_type": "markdown",
   "metadata": {},
   "source": [
    "### Calibration plots\n",
    "\n",
    "This notebook will create plots reggarding the calibration process\n",
    "\n",
    "\n",
    "A brief summary of the organization of this notebook:\n",
    "\n",
    "### Summary\n",
    "\n",
    "- [1 - Packages and imports](#1)\n",
    "\n",
    "- [2 - Reading experimental data](#2)\n",
    "\n",
    "- [3 - Plotting the PSD and calibrating the force](#3)"
   ]
  },
  {
   "cell_type": "markdown",
   "metadata": {},
   "source": [
    "<a name='1'></a> \n",
    "### 1. Packages and imports"
   ]
  },
  {
   "cell_type": "code",
   "execution_count": 1,
   "metadata": {},
   "outputs": [],
   "source": [
    "import numpy as np\n",
    "import pandas as pd\n",
    "import matplotlib.pyplot as plt\n",
    "from tqdm import tqdm\n",
    "from scipy.optimize import curve_fit\n",
    "import non_linearity.utils.constants as ct\n",
    "from scipy import signal as sn\n",
    "from uncertainties import ufloat\n",
    "from uncertainties.umath import *\n",
    "from uncertainties import unumpy"
   ]
  },
  {
   "cell_type": "code",
   "execution_count": 2,
   "metadata": {},
   "outputs": [],
   "source": [
    "plt.rcParams.update({'font.size': 10})\n",
    "plt.rcParams['axes.linewidth'] = 1.5\n",
    "plt.rcParams['font.family'] = 'serif'\n",
    "plt.rcParams['font.serif'] = ['Times New Roman'] + plt.rcParams['font.serif']\n",
    "plt.rcParams.update({\n",
    "    \"text.usetex\": True,\n",
    "})"
   ]
  },
  {
   "cell_type": "markdown",
   "metadata": {},
   "source": [
    "<a name='2'></a> \n",
    "### 2. Reading experimental data"
   ]
  },
  {
   "cell_type": "code",
   "execution_count": 3,
   "metadata": {},
   "outputs": [],
   "source": [
    "psd = pd.read_pickle(\"../data/calibration/PSDtrimmed.pkl\")\n"
   ]
  },
  {
   "cell_type": "markdown",
   "metadata": {},
   "source": [
    "<a name='3'></a> \n",
    "### 3. Plotting the PSD and calibrating the force"
   ]
  },
  {
   "cell_type": "code",
   "execution_count": 10,
   "metadata": {},
   "outputs": [
    {
     "data": {
      "image/png": "[encoded data removed]",
      "text/plain": [
       "<Figure size 300x250 with 1 Axes>"
      ]
     },
     "metadata": {},
     "output_type": "display_data"
    }
   ],
   "source": [
    "power = unumpy.nominal_values(psd['power [m**2/Hz]'].values)\n",
    "ax = plt.gca()\n",
    "ax.grid(alpha = 0.4)\n",
    "ax.figure.set_size_inches(3, 2.5, forward=True)\n",
    "colors = ['#2E86C1', '#85C1E9', '#1B4F72']\n",
    "ax.plot(psd['f [Hz]'].values/1e3, power, color=colors[2])\n",
    "ax.set_xlim([63, 93])\n",
    "ax.set_ylim([10**-20, 2*max(power)])\n",
    "ax.set_yscale('log')\n",
    "ax.set(ylabel=r'$S_z(\\textrm{m}{}^2$/Hz)')\n",
    "ax.set(xlabel=r'$\\Omega/2\\pi$ (kHz)')\n",
    "#ax.legend(fontsize=8)\n",
    "plt.savefig('../plots/psd_trimmed_calibration.pdf', bbox_inches='tight', dpi=300)\n",
    "plt.show()"
   ]
  },
  {
   "cell_type": "code",
   "execution_count": 5,
   "metadata": {},
   "outputs": [
    {
     "data": {
      "text/html": [
       "<div>\n",
       "<style scoped>\n",
       "    .dataframe tbody tr th:only-of-type {\n",
       "        vertical-align: middle;\n",
       "    }\n",
       "\n",
       "    .dataframe tbody tr th {\n",
       "        vertical-align: top;\n",
       "    }\n",
       "\n",
       "    .dataframe thead th {\n",
       "        text-align: right;\n",
       "    }\n",
       "</style>\n",
       "<table border=\"1\" class=\"dataframe\">\n",
       "  <thead>\n",
       "    <tr style=\"text-align: right;\">\n",
       "      <th></th>\n",
       "      <th>voltage [V]</th>\n",
       "      <th>electric force [N]</th>\n",
       "    </tr>\n",
       "  </thead>\n",
       "  <tbody>\n",
       "    <tr>\n",
       "      <th>0</th>\n",
       "      <td>1.0</td>\n",
       "      <td>(2.87+/-0.25)e-15</td>\n",
       "    </tr>\n",
       "    <tr>\n",
       "      <th>1</th>\n",
       "      <td>2.0</td>\n",
       "      <td>(5.5+/-0.5)e-15</td>\n",
       "    </tr>\n",
       "    <tr>\n",
       "      <th>2</th>\n",
       "      <td>3.0</td>\n",
       "      <td>(8.7+/-0.8)e-15</td>\n",
       "    </tr>\n",
       "    <tr>\n",
       "      <th>3</th>\n",
       "      <td>4.0</td>\n",
       "      <td>(1.23+/-0.11)e-14</td>\n",
       "    </tr>\n",
       "    <tr>\n",
       "      <th>4</th>\n",
       "      <td>5.0</td>\n",
       "      <td>(1.55+/-0.14)e-14</td>\n",
       "    </tr>\n",
       "    <tr>\n",
       "      <th>5</th>\n",
       "      <td>6.0</td>\n",
       "      <td>(1.78+/-0.16)e-14</td>\n",
       "    </tr>\n",
       "    <tr>\n",
       "      <th>6</th>\n",
       "      <td>7.0</td>\n",
       "      <td>(2.15+/-0.19)e-14</td>\n",
       "    </tr>\n",
       "    <tr>\n",
       "      <th>7</th>\n",
       "      <td>8.0</td>\n",
       "      <td>(2.45+/-0.21)e-14</td>\n",
       "    </tr>\n",
       "    <tr>\n",
       "      <th>8</th>\n",
       "      <td>9.0</td>\n",
       "      <td>(2.74+/-0.24)e-14</td>\n",
       "    </tr>\n",
       "    <tr>\n",
       "      <th>9</th>\n",
       "      <td>10.0</td>\n",
       "      <td>(3.02+/-0.26)e-14</td>\n",
       "    </tr>\n",
       "  </tbody>\n",
       "</table>\n",
       "</div>"
      ],
      "text/plain": [
       "   voltage [V] electric force [N]\n",
       "0          1.0  (2.87+/-0.25)e-15\n",
       "1          2.0    (5.5+/-0.5)e-15\n",
       "2          3.0    (8.7+/-0.8)e-15\n",
       "3          4.0  (1.23+/-0.11)e-14\n",
       "4          5.0  (1.55+/-0.14)e-14\n",
       "5          6.0  (1.78+/-0.16)e-14\n",
       "6          7.0  (2.15+/-0.19)e-14\n",
       "7          8.0  (2.45+/-0.21)e-14\n",
       "8          9.0  (2.74+/-0.24)e-14\n",
       "9         10.0  (3.02+/-0.26)e-14"
      ]
     },
     "execution_count": 5,
     "metadata": {},
     "output_type": "execute_result"
    }
   ],
   "source": [
    "calib_data = pd.read_pickle(\"../data/calibration/voltageVSforce.pkl\")\n",
    "calib_data"
   ]
  },
  {
   "cell_type": "code",
   "execution_count": 6,
   "metadata": {},
   "outputs": [],
   "source": [
    "def linearRegression(x,a,b):\n",
    "    \n",
    "    return a*x+b"
   ]
  },
  {
   "cell_type": "code",
   "execution_count": 7,
   "metadata": {},
   "outputs": [],
   "source": [
    "hint_a = (unumpy.nominal_values(calib_data['electric force [N]'][len(calib_data)-1]) \n",
    "          - unumpy.nominal_values(calib_data['electric force [N]'][0]))/(unumpy.nominal_values(calib_data['voltage [V]'][len(calib_data)-1]) - unumpy.nominal_values(calib_data['voltage [V]'][0]))\n",
    "hint_b = unumpy.nominal_values(calib_data['electric force [N]'][len(calib_data)-1]) - hint_a*unumpy.nominal_values(calib_data['voltage [V]'][len(calib_data)-1])\n",
    "\n",
    "ans, cov = curve_fit(linearRegression, calib_data['voltage [V]'], \n",
    "                unumpy.nominal_values(calib_data['electric force [N]']),\n",
    "                p0 = [hint_a,hint_b],\n",
    "                sigma= unumpy.std_devs(calib_data['electric force [N]']), \n",
    "                absolute_sigma=True)\n"
   ]
  },
  {
   "cell_type": "code",
   "execution_count": 9,
   "metadata": {},
   "outputs": [
    {
     "data": {
      "image/png": "[encoded data removed]",
      "text/plain": [
       "<Figure size 300x250 with 1 Axes>"
      ]
     },
     "metadata": {},
     "output_type": "display_data"
    }
   ],
   "source": [
    "ax = plt.gca()\n",
    "ax.figure.set_size_inches(3, 2.5, forward=True)\n",
    "colors = ['#2E86C1', '#85C1E9', '#1B4F72']\n",
    "ax.errorbar(calib_data['voltage [V]'].values, \n",
    "            unumpy.nominal_values(calib_data['electric force [N]'].values)*1e12, \n",
    "            yerr=unumpy.std_devs(calib_data['electric force [N]'].values)*1e12,\n",
    "              xerr=None , fmt='o', markersize=4, color=colors[2])\n",
    "ax.plot(calib_data['voltage [V]'].values,\n",
    "        linearRegression(calib_data['voltage [V]'].values, ans[0], ans[1])*1e12, \n",
    "        color=colors[1])\n",
    "plt.grid()\n",
    "plt.xlabel(r'$\\textrm{Electrodes Voltage} \\,(\\textrm{V})$')\n",
    "plt.ylabel(r'$F_z $ (pN)')\n",
    "plt.legend(['Fitted Curve', 'Experimental Data'])\n",
    "plt.savefig('../plots/electrode_calibration.pdf', bbox_inches='tight', dpi=300)\n",
    "plt.show()"
   ]
  },
  {
   "cell_type": "code",
   "execution_count": null,
   "metadata": {},
   "outputs": [],
   "source": []
  }
 ],
 "metadata": {
  "kernelspec": {
   "display_name": "base",
   "language": "python",
   "name": "python3"
  },
  "language_info": {
   "codemirror_mode": {
    "name": "ipython",
    "version": 3
   },
   "file_extension": ".py",
   "mimetype": "text/x-python",
   "name": "python",
   "nbconvert_exporter": "python",
   "pygments_lexer": "ipython3",
   "version": "3.8.5"
  },
  "orig_nbformat": 4
 },
 "nbformat": 4,
 "nbformat_minor": 2
}
