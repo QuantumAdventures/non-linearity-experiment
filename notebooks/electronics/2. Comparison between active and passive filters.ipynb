{
 "cells": [
  {
   "cell_type": "code",
   "execution_count": 45,
   "id": "d826b35f",
   "metadata": {},
   "outputs": [],
   "source": [
    "import numpy as np\n",
    "import pandas as pd\n",
    "import matplotlib.pyplot as plt"
   ]
  },
  {
   "cell_type": "code",
   "execution_count": 46,
   "id": "5d8ef740",
   "metadata": {},
   "outputs": [],
   "source": [
    "plt.rcParams.update({'font.size': 10})\n",
    "plt.rcParams['axes.linewidth'] = 1.5\n",
    "plt.rcParams['font.family'] = 'serif'\n",
    "plt.rcParams['font.serif'] = ['Times New Roman'] + plt.rcParams['font.serif']\n",
    "plt.rcParams.update({\n",
    "    \"text.usetex\": True,\n",
    "})"
   ]
  },
  {
   "cell_type": "code",
   "execution_count": 47,
   "id": "a2a02323",
   "metadata": {},
   "outputs": [],
   "source": [
    "def pre_process_simulation(df, columns, signals, new_columns):\n",
    "    df = df[columns]\n",
    "    for i, column in enumerate(new_columns):\n",
    "        df[column] = df[signals[i]]\n",
    "    for signal in new_columns:\n",
    "        df[f'mag_{signal}'] = df[signal].apply(lambda x: float(x[1:-1].split(',')[0][:-2]))\n",
    "        df[f'phase_{signal}'] = df[signal].apply(lambda x: float(x[1:-1].split(',')[1][:-1]))\n",
    "    df = df.drop(new_columns, axis=1)\n",
    "    df = df.drop(signals, axis=1)\n",
    "    df['phase_complete_filter'][:107] = -df['phase_complete_filter'][:107]\n",
    "    df['phase_complete_filter'][-99:] = -df['phase_complete_filter'][-99:]\n",
    "    return df"
   ]
  },
  {
   "cell_type": "code",
   "execution_count": 48,
   "id": "6e895e40",
   "metadata": {},
   "outputs": [
    {
     "data": {
      "text/html": [
       "<div>\n",
       "<style scoped>\n",
       "    .dataframe tbody tr th:only-of-type {\n",
       "        vertical-align: middle;\n",
       "    }\n",
       "\n",
       "    .dataframe tbody tr th {\n",
       "        vertical-align: top;\n",
       "    }\n",
       "\n",
       "    .dataframe thead th {\n",
       "        text-align: right;\n",
       "    }\n",
       "</style>\n",
       "<table border=\"1\" class=\"dataframe\">\n",
       "  <thead>\n",
       "    <tr style=\"text-align: right;\">\n",
       "      <th></th>\n",
       "      <th>Freq.</th>\n",
       "      <th>V(n002)</th>\n",
       "    </tr>\n",
       "  </thead>\n",
       "  <tbody>\n",
       "    <tr>\n",
       "      <th>0</th>\n",
       "      <td>1.000000</td>\n",
       "      <td>(-6.79879847744457e+01dB,1.78919873827804e+02°)</td>\n",
       "    </tr>\n",
       "    <tr>\n",
       "      <th>1</th>\n",
       "      <td>1.002305</td>\n",
       "      <td>(-6.79479903129748e+01dB,1.78917384274230e+02°)</td>\n",
       "    </tr>\n",
       "    <tr>\n",
       "      <th>2</th>\n",
       "      <td>1.004616</td>\n",
       "      <td>(-6.79079958770616e+01dB,1.78914888984374e+02°)</td>\n",
       "    </tr>\n",
       "    <tr>\n",
       "      <th>3</th>\n",
       "      <td>1.006932</td>\n",
       "      <td>(-6.78680014668243e+01dB,1.78912387945034e+02°)</td>\n",
       "    </tr>\n",
       "    <tr>\n",
       "      <th>4</th>\n",
       "      <td>1.009253</td>\n",
       "      <td>(-6.78280070823811e+01dB,1.78909881142974e+02°)</td>\n",
       "    </tr>\n",
       "  </tbody>\n",
       "</table>\n",
       "</div>"
      ],
      "text/plain": [
       "      Freq.                                          V(n002)\n",
       "0  1.000000  (-6.79879847744457e+01dB,1.78919873827804e+02°)\n",
       "1  1.002305  (-6.79479903129748e+01dB,1.78917384274230e+02°)\n",
       "2  1.004616  (-6.79079958770616e+01dB,1.78914888984374e+02°)\n",
       "3  1.006932  (-6.78680014668243e+01dB,1.78912387945034e+02°)\n",
       "4  1.009253  (-6.78280070823811e+01dB,1.78909881142974e+02°)"
      ]
     },
     "execution_count": 48,
     "metadata": {},
     "output_type": "execute_result"
    }
   ],
   "source": [
    "df = pd.read_csv('../../data/electronics/passive_bandpass.txt', sep='\\t', encoding='ISO-8859-1')\n",
    "df.head()"
   ]
  },
  {
   "cell_type": "code",
   "execution_count": 49,
   "id": "db6c765c",
   "metadata": {},
   "outputs": [],
   "source": [
    "df['mag'] = df['V(n002)'].apply(lambda x: float(x.split(',')[0][1:-2]))\n",
    "df['phase'] = df['V(n002)'].apply(lambda x: float(x.split(',')[1][:-2]))\n",
    "df.head()"
   ]
  },
  {
   "cell_type": "code",
   "execution_count": 53,
   "id": "2663077e",
   "metadata": {},
   "outputs": [
    {
     "name": "stdout",
     "output_type": "stream",
     "text": [
      "Index(['Freq.', 'V(n011)'], dtype='object')\n"
     ]
    },
    {
     "name": "stderr",
     "output_type": "stream",
     "text": [
      "/var/folders/fy/4wjvjmc95f1fv0gy4d27l6_h0000gn/T/ipykernel_50214/22030202.py:5: SettingWithCopyWarning: \n",
      "A value is trying to be set on a copy of a slice from a DataFrame\n",
      "\n",
      "See the caveats in the documentation: https://pandas.pydata.org/pandas-docs/stable/user_guide/indexing.html#returning-a-view-versus-a-copy\n",
      "  df_active['phase'][:5070] = 360+df_active['phase'][:5070]\n",
      "/var/folders/fy/4wjvjmc95f1fv0gy4d27l6_h0000gn/T/ipykernel_50214/22030202.py:6: SettingWithCopyWarning: \n",
      "A value is trying to be set on a copy of a slice from a DataFrame\n",
      "\n",
      "See the caveats in the documentation: https://pandas.pydata.org/pandas-docs/stable/user_guide/indexing.html#returning-a-view-versus-a-copy\n",
      "  df_active['phase'][-981:] = -360+df_active['phase'][-981:]\n"
     ]
    },
    {
     "data": {
      "text/html": [
       "<div>\n",
       "<style scoped>\n",
       "    .dataframe tbody tr th:only-of-type {\n",
       "        vertical-align: middle;\n",
       "    }\n",
       "\n",
       "    .dataframe tbody tr th {\n",
       "        vertical-align: top;\n",
       "    }\n",
       "\n",
       "    .dataframe thead th {\n",
       "        text-align: right;\n",
       "    }\n",
       "</style>\n",
       "<table border=\"1\" class=\"dataframe\">\n",
       "  <thead>\n",
       "    <tr style=\"text-align: right;\">\n",
       "      <th></th>\n",
       "      <th>Freq.</th>\n",
       "      <th>V(n011)</th>\n",
       "      <th>mag</th>\n",
       "      <th>phase</th>\n",
       "    </tr>\n",
       "  </thead>\n",
       "  <tbody>\n",
       "    <tr>\n",
       "      <th>0</th>\n",
       "      <td>0.100000</td>\n",
       "      <td>(-3.84106576726054e+02dB,2.50977349866998e-01°)</td>\n",
       "      <td>-384.106577</td>\n",
       "      <td>360.250977</td>\n",
       "    </tr>\n",
       "    <tr>\n",
       "      <th>1</th>\n",
       "      <td>0.100231</td>\n",
       "      <td>(-3.84026576227218e+02dB,2.50231221640213e-01°)</td>\n",
       "      <td>-384.026576</td>\n",
       "      <td>360.250231</td>\n",
       "    </tr>\n",
       "    <tr>\n",
       "      <th>2</th>\n",
       "      <td>0.100462</td>\n",
       "      <td>(-3.83946575730712e+02dB,2.49486420012707e-01°)</td>\n",
       "      <td>-383.946576</td>\n",
       "      <td>360.249486</td>\n",
       "    </tr>\n",
       "    <tr>\n",
       "      <th>3</th>\n",
       "      <td>0.100693</td>\n",
       "      <td>(-3.83866575236526e+02dB,2.48742941036315e-01°)</td>\n",
       "      <td>-383.866575</td>\n",
       "      <td>360.248743</td>\n",
       "    </tr>\n",
       "    <tr>\n",
       "      <th>4</th>\n",
       "      <td>0.100925</td>\n",
       "      <td>(-3.83786574744648e+02dB,2.48000780769882e-01°)</td>\n",
       "      <td>-383.786575</td>\n",
       "      <td>360.248001</td>\n",
       "    </tr>\n",
       "  </tbody>\n",
       "</table>\n",
       "</div>"
      ],
      "text/plain": [
       "      Freq.                                          V(n011)         mag  \\\n",
       "0  0.100000  (-3.84106576726054e+02dB,2.50977349866998e-01°) -384.106577   \n",
       "1  0.100231  (-3.84026576227218e+02dB,2.50231221640213e-01°) -384.026576   \n",
       "2  0.100462  (-3.83946575730712e+02dB,2.49486420012707e-01°) -383.946576   \n",
       "3  0.100693  (-3.83866575236526e+02dB,2.48742941036315e-01°) -383.866575   \n",
       "4  0.100925  (-3.83786574744648e+02dB,2.48000780769882e-01°) -383.786575   \n",
       "\n",
       "        phase  \n",
       "0  360.250977  \n",
       "1  360.250231  \n",
       "2  360.249486  \n",
       "3  360.248743  \n",
       "4  360.248001  "
      ]
     },
     "execution_count": 53,
     "metadata": {},
     "output_type": "execute_result"
    }
   ],
   "source": [
    "df_active = pd.read_csv('../../data/electronics/active_bandpass_filter.txt', sep='\\t', encoding='ISO-8859-1')\n",
    "df_active['mag'] = df_active['V(n011)'].apply(lambda x: float(x.split(',')[0][1:-2]))\n",
    "df_active['phase'] = df_active['V(n011)'].apply(lambda x: float(x.split(',')[1][:-2]))\n",
    "df_active['phase'][:5070] = 360+df_active['phase'][:5070]\n",
    "df_active['phase'][-981:] = -360+df_active['phase'][-981:]\n",
    "df_active.head()"
   ]
  },
  {
   "cell_type": "code",
   "execution_count": 57,
   "id": "130b6cff",
   "metadata": {},
   "outputs": [
    {
     "data": {
      "image/png": "[encoded data removed]",
      "text/plain": [
       "<Figure size 500x250 with 2 Axes>"
      ]
     },
     "metadata": {},
     "output_type": "display_data"
    }
   ],
   "source": [
    "fig, ax1 = plt.subplots()\n",
    "ax1.figure.set_figwidth=5.4*1.3*10\n",
    "ax1.figure.set_figheight=10*4.2#= plt.figure(figsize=(5.4*1.3*10, 10*4.2))\n",
    "ax1.figure.set_size_inches(5, 2.5, forward=True)\n",
    "ax1.grid(alpha = 0.4)\n",
    "\n",
    "colors = ['#1B4F72', '#2E86C1', '#85C1E9']\n",
    "labels = [r'$G_{fb}=\\,$', r'$G_{fb} =\\,$', r'$G_{fb}=\\,$']\n",
    "\n",
    "color = 'tab:red'\n",
    "ax1.set_xlabel('Freq (Hz)')\n",
    "ax1.grid(True, which=\"both\", ls=\"-\")\n",
    "ax1.set_ylabel('Mag (dB)')\n",
    "ax1.plot(df['Freq.'], df['mag'], color=color)\n",
    "ax1.plot(df_active['Freq.'], df_active['mag'], color=color)\n",
    "ax1.set_ylim([-200, 40])\n",
    "ax1.tick_params(axis='y', labelcolor=color)\n",
    "ax2 = ax1.twinx()\n",
    "color = 'tab:blue'\n",
    "ax2.set_ylabel(r'Phase (${}^\\circ$)')\n",
    "ax2.set_xscale('log')\n",
    "ax2.plot(df['Freq.'], df['phase'], color=color)\n",
    "ax2.tick_params(axis='y', labelcolor=color)\n",
    "ax2.set_xlim([1e2, 1e6])\n",
    "fig.tight_layout()\n",
    "plt.show()"
   ]
  },
  {
   "cell_type": "code",
   "execution_count": 43,
   "id": "6c645ea3",
   "metadata": {},
   "outputs": [
    {
     "name": "stdout",
     "output_type": "stream",
     "text": [
      "Index(['Freq.', 'V(n011)'], dtype='object')\n"
     ]
    },
    {
     "name": "stderr",
     "output_type": "stream",
     "text": [
      "/var/folders/fy/4wjvjmc95f1fv0gy4d27l6_h0000gn/T/ipykernel_50214/3869331053.py:5: SettingWithCopyWarning: \n",
      "A value is trying to be set on a copy of a slice from a DataFrame\n",
      "\n",
      "See the caveats in the documentation: https://pandas.pydata.org/pandas-docs/stable/user_guide/indexing.html#returning-a-view-versus-a-copy\n",
      "  df['phase'][:5070] = 360+df['phase'][:5070]\n",
      "/var/folders/fy/4wjvjmc95f1fv0gy4d27l6_h0000gn/T/ipykernel_50214/3869331053.py:6: SettingWithCopyWarning: \n",
      "A value is trying to be set on a copy of a slice from a DataFrame\n",
      "\n",
      "See the caveats in the documentation: https://pandas.pydata.org/pandas-docs/stable/user_guide/indexing.html#returning-a-view-versus-a-copy\n",
      "  df['phase'][-981:] = -360+df['phase'][-981:]\n"
     ]
    },
    {
     "data": {
      "text/html": [
       "<div>\n",
       "<style scoped>\n",
       "    .dataframe tbody tr th:only-of-type {\n",
       "        vertical-align: middle;\n",
       "    }\n",
       "\n",
       "    .dataframe tbody tr th {\n",
       "        vertical-align: top;\n",
       "    }\n",
       "\n",
       "    .dataframe thead th {\n",
       "        text-align: right;\n",
       "    }\n",
       "</style>\n",
       "<table border=\"1\" class=\"dataframe\">\n",
       "  <thead>\n",
       "    <tr style=\"text-align: right;\">\n",
       "      <th></th>\n",
       "      <th>Freq.</th>\n",
       "      <th>V(n011)</th>\n",
       "      <th>mag</th>\n",
       "      <th>phase</th>\n",
       "    </tr>\n",
       "  </thead>\n",
       "  <tbody>\n",
       "    <tr>\n",
       "      <th>0</th>\n",
       "      <td>0.100000</td>\n",
       "      <td>(-3.84106576726054e+02dB,2.50977349866998e-01°)</td>\n",
       "      <td>-384.106577</td>\n",
       "      <td>360.250977</td>\n",
       "    </tr>\n",
       "    <tr>\n",
       "      <th>1</th>\n",
       "      <td>0.100231</td>\n",
       "      <td>(-3.84026576227218e+02dB,2.50231221640213e-01°)</td>\n",
       "      <td>-384.026576</td>\n",
       "      <td>360.250231</td>\n",
       "    </tr>\n",
       "    <tr>\n",
       "      <th>2</th>\n",
       "      <td>0.100462</td>\n",
       "      <td>(-3.83946575730712e+02dB,2.49486420012707e-01°)</td>\n",
       "      <td>-383.946576</td>\n",
       "      <td>360.249486</td>\n",
       "    </tr>\n",
       "    <tr>\n",
       "      <th>3</th>\n",
       "      <td>0.100693</td>\n",
       "      <td>(-3.83866575236526e+02dB,2.48742941036315e-01°)</td>\n",
       "      <td>-383.866575</td>\n",
       "      <td>360.248743</td>\n",
       "    </tr>\n",
       "    <tr>\n",
       "      <th>4</th>\n",
       "      <td>0.100925</td>\n",
       "      <td>(-3.83786574744648e+02dB,2.48000780769882e-01°)</td>\n",
       "      <td>-383.786575</td>\n",
       "      <td>360.248001</td>\n",
       "    </tr>\n",
       "  </tbody>\n",
       "</table>\n",
       "</div>"
      ],
      "text/plain": [
       "      Freq.                                          V(n011)         mag  \\\n",
       "0  0.100000  (-3.84106576726054e+02dB,2.50977349866998e-01°) -384.106577   \n",
       "1  0.100231  (-3.84026576227218e+02dB,2.50231221640213e-01°) -384.026576   \n",
       "2  0.100462  (-3.83946575730712e+02dB,2.49486420012707e-01°) -383.946576   \n",
       "3  0.100693  (-3.83866575236526e+02dB,2.48742941036315e-01°) -383.866575   \n",
       "4  0.100925  (-3.83786574744648e+02dB,2.48000780769882e-01°) -383.786575   \n",
       "\n",
       "        phase  \n",
       "0  360.250977  \n",
       "1  360.250231  \n",
       "2  360.249486  \n",
       "3  360.248743  \n",
       "4  360.248001  "
      ]
     },
     "execution_count": 43,
     "metadata": {},
     "output_type": "execute_result"
    }
   ],
   "source": []
  },
  {
   "cell_type": "code",
   "execution_count": 44,
   "id": "9d68b3fa",
   "metadata": {},
   "outputs": [
    {
     "data": {
      "image/png": "[encoded data removed]",
      "text/plain": [
       "<Figure size 640x480 with 2 Axes>"
      ]
     },
     "metadata": {},
     "output_type": "display_data"
    }
   ],
   "source": [
    "fig, ax1 = plt.subplots()\n",
    "\n",
    "plt.rcParams.update({'font.size': 18})\n",
    "plt.rcParams[\"axes.linewidth\"] = 2\n",
    "color = 'tab:red'\n",
    "ax1.set_xlabel('Freq (Hz)')\n",
    "ax1.grid(True, which=\"both\", ls=\"-\")\n",
    "ax1.set_ylabel('Mag (dB)')\n",
    "ax1.plot(df['Freq.'],df['mag'], color=color)\n",
    "ax1.tick_params(axis='y', labelcolor=color)\n",
    "ax1.set_ylim([-100, 25])\n",
    "\n",
    "ax2 = ax1.twinx()\n",
    "color = 'tab:blue'\n",
    "ax2.set_ylabel(r'Phase (${}^\\circ$)')\n",
    "ax2.set_xscale('log')\n",
    "ax2.plot(df['Freq.'], df['phase'], color=color)\n",
    "ax2.tick_params(axis='y', labelcolor=color)\n",
    "ax2.set_xlim([1e3, 1e6])\n",
    "#ax2.set_ylim([-200, 200])\n",
    "fig.tight_layout()\n",
    "plt.show()"
   ]
  },
  {
   "cell_type": "code",
   "execution_count": null,
   "id": "785261de",
   "metadata": {},
   "outputs": [],
   "source": []
  }
 ],
 "metadata": {
  "kernelspec": {
   "display_name": "Python 3 (ipykernel)",
   "language": "python",
   "name": "python3"
  },
  "language_info": {
   "codemirror_mode": {
    "name": "ipython",
    "version": 3
   },
   "file_extension": ".py",
   "mimetype": "text/x-python",
   "name": "python",
   "nbconvert_exporter": "python",
   "pygments_lexer": "ipython3",
   "version": "3.9.13"
  }
 },
 "nbformat": 4,
 "nbformat_minor": 5
}
