{
 "cells": [
  {
   "cell_type": "code",
   "execution_count": 1,
   "id": "d826b35f",
   "metadata": {},
   "outputs": [],
   "source": [
    "import numpy as np\n",
    "import pandas as pd\n",
    "import matplotlib.pyplot as plt"
   ]
  },
  {
   "cell_type": "code",
   "execution_count": 2,
   "id": "5d8ef740",
   "metadata": {},
   "outputs": [],
   "source": [
    "plt.rcParams.update({'font.size': 10})\n",
    "plt.rcParams['axes.linewidth'] = 1.5\n",
    "plt.rcParams['font.family'] = 'serif'\n",
    "plt.rcParams['font.serif'] = ['Times New Roman'] + plt.rcParams['font.serif']\n",
    "plt.rcParams.update({\n",
    "    \"text.usetex\": True,\n",
    "})"
   ]
  },
  {
   "cell_type": "code",
   "execution_count": 3,
   "id": "a2a02323",
   "metadata": {},
   "outputs": [],
   "source": [
    "def pre_process_simulation(df, columns, signals, new_columns):\n",
    "    df = df[columns]\n",
    "    for i, column in enumerate(new_columns):\n",
    "        df[column] = df[signals[i]]\n",
    "    for signal in new_columns:\n",
    "        df[f'mag_{signal}'] = df[signal].apply(lambda x: float(x[1:-1].split(',')[0][:-2]))\n",
    "        df[f'phase_{signal}'] = df[signal].apply(lambda x: float(x[1:-1].split(',')[1][:-1]))\n",
    "    df = df.drop(new_columns, axis=1)\n",
    "    df = df.drop(signals, axis=1)\n",
    "    df['phase_complete_filter'][:107] = -df['phase_complete_filter'][:107]\n",
    "    df['phase_complete_filter'][-99:] = -df['phase_complete_filter'][-99:]\n",
    "    return df"
   ]
  },
  {
   "cell_type": "code",
   "execution_count": 4,
   "id": "6e895e40",
   "metadata": {},
   "outputs": [
    {
     "data": {
      "text/html": [
       "<div>\n",
       "<style scoped>\n",
       "    .dataframe tbody tr th:only-of-type {\n",
       "        vertical-align: middle;\n",
       "    }\n",
       "\n",
       "    .dataframe tbody tr th {\n",
       "        vertical-align: top;\n",
       "    }\n",
       "\n",
       "    .dataframe thead th {\n",
       "        text-align: right;\n",
       "    }\n",
       "</style>\n",
       "<table border=\"1\" class=\"dataframe\">\n",
       "  <thead>\n",
       "    <tr style=\"text-align: right;\">\n",
       "      <th></th>\n",
       "      <th>Freq.</th>\n",
       "      <th>V(n002)</th>\n",
       "    </tr>\n",
       "  </thead>\n",
       "  <tbody>\n",
       "    <tr>\n",
       "      <th>0</th>\n",
       "      <td>1.000000</td>\n",
       "      <td>(-6.79879847744457e+01dB,1.78919873827804e+02°)</td>\n",
       "    </tr>\n",
       "    <tr>\n",
       "      <th>1</th>\n",
       "      <td>1.002305</td>\n",
       "      <td>(-6.79479903129748e+01dB,1.78917384274230e+02°)</td>\n",
       "    </tr>\n",
       "    <tr>\n",
       "      <th>2</th>\n",
       "      <td>1.004616</td>\n",
       "      <td>(-6.79079958770616e+01dB,1.78914888984374e+02°)</td>\n",
       "    </tr>\n",
       "    <tr>\n",
       "      <th>3</th>\n",
       "      <td>1.006932</td>\n",
       "      <td>(-6.78680014668243e+01dB,1.78912387945034e+02°)</td>\n",
       "    </tr>\n",
       "    <tr>\n",
       "      <th>4</th>\n",
       "      <td>1.009253</td>\n",
       "      <td>(-6.78280070823811e+01dB,1.78909881142974e+02°)</td>\n",
       "    </tr>\n",
       "  </tbody>\n",
       "</table>\n",
       "</div>"
      ],
      "text/plain": [
       "      Freq.                                          V(n002)\n",
       "0  1.000000  (-6.79879847744457e+01dB,1.78919873827804e+02°)\n",
       "1  1.002305  (-6.79479903129748e+01dB,1.78917384274230e+02°)\n",
       "2  1.004616  (-6.79079958770616e+01dB,1.78914888984374e+02°)\n",
       "3  1.006932  (-6.78680014668243e+01dB,1.78912387945034e+02°)\n",
       "4  1.009253  (-6.78280070823811e+01dB,1.78909881142974e+02°)"
      ]
     },
     "execution_count": 4,
     "metadata": {},
     "output_type": "execute_result"
    }
   ],
   "source": [
    "df = pd.read_csv('../../data/electronics/passive_bandpass.txt', sep='\\t', encoding='ISO-8859-1')\n",
    "df.head()"
   ]
  },
  {
   "cell_type": "code",
   "execution_count": 5,
   "id": "db6c765c",
   "metadata": {},
   "outputs": [
    {
     "data": {
      "text/html": [
       "<div>\n",
       "<style scoped>\n",
       "    .dataframe tbody tr th:only-of-type {\n",
       "        vertical-align: middle;\n",
       "    }\n",
       "\n",
       "    .dataframe tbody tr th {\n",
       "        vertical-align: top;\n",
       "    }\n",
       "\n",
       "    .dataframe thead th {\n",
       "        text-align: right;\n",
       "    }\n",
       "</style>\n",
       "<table border=\"1\" class=\"dataframe\">\n",
       "  <thead>\n",
       "    <tr style=\"text-align: right;\">\n",
       "      <th></th>\n",
       "      <th>Freq.</th>\n",
       "      <th>V(n002)</th>\n",
       "      <th>mag</th>\n",
       "      <th>phase</th>\n",
       "    </tr>\n",
       "  </thead>\n",
       "  <tbody>\n",
       "    <tr>\n",
       "      <th>0</th>\n",
       "      <td>1.000000</td>\n",
       "      <td>(-6.79879847744457e+01dB,1.78919873827804e+02°)</td>\n",
       "      <td>-67.987985</td>\n",
       "      <td>178.919874</td>\n",
       "    </tr>\n",
       "    <tr>\n",
       "      <th>1</th>\n",
       "      <td>1.002305</td>\n",
       "      <td>(-6.79479903129748e+01dB,1.78917384274230e+02°)</td>\n",
       "      <td>-67.947990</td>\n",
       "      <td>178.917384</td>\n",
       "    </tr>\n",
       "    <tr>\n",
       "      <th>2</th>\n",
       "      <td>1.004616</td>\n",
       "      <td>(-6.79079958770616e+01dB,1.78914888984374e+02°)</td>\n",
       "      <td>-67.907996</td>\n",
       "      <td>178.914889</td>\n",
       "    </tr>\n",
       "    <tr>\n",
       "      <th>3</th>\n",
       "      <td>1.006932</td>\n",
       "      <td>(-6.78680014668243e+01dB,1.78912387945034e+02°)</td>\n",
       "      <td>-67.868001</td>\n",
       "      <td>178.912388</td>\n",
       "    </tr>\n",
       "    <tr>\n",
       "      <th>4</th>\n",
       "      <td>1.009253</td>\n",
       "      <td>(-6.78280070823811e+01dB,1.78909881142974e+02°)</td>\n",
       "      <td>-67.828007</td>\n",
       "      <td>178.909881</td>\n",
       "    </tr>\n",
       "  </tbody>\n",
       "</table>\n",
       "</div>"
      ],
      "text/plain": [
       "      Freq.                                          V(n002)        mag   \n",
       "0  1.000000  (-6.79879847744457e+01dB,1.78919873827804e+02°) -67.987985  \\\n",
       "1  1.002305  (-6.79479903129748e+01dB,1.78917384274230e+02°) -67.947990   \n",
       "2  1.004616  (-6.79079958770616e+01dB,1.78914888984374e+02°) -67.907996   \n",
       "3  1.006932  (-6.78680014668243e+01dB,1.78912387945034e+02°) -67.868001   \n",
       "4  1.009253  (-6.78280070823811e+01dB,1.78909881142974e+02°) -67.828007   \n",
       "\n",
       "        phase  \n",
       "0  178.919874  \n",
       "1  178.917384  \n",
       "2  178.914889  \n",
       "3  178.912388  \n",
       "4  178.909881  "
      ]
     },
     "execution_count": 5,
     "metadata": {},
     "output_type": "execute_result"
    }
   ],
   "source": [
    "df['mag'] = df['V(n002)'].apply(lambda x: float(x.split(',')[0][1:-2]))\n",
    "df['phase'] = df['V(n002)'].apply(lambda x: float(x.split(',')[1][:-2]))\n",
    "df.head()"
   ]
  },
  {
   "cell_type": "code",
   "execution_count": 34,
   "id": "2663077e",
   "metadata": {},
   "outputs": [
    {
     "name": "stderr",
     "output_type": "stream",
     "text": [
      "/var/folders/fy/4wjvjmc95f1fv0gy4d27l6_h0000gn/T/ipykernel_89387/4280098295.py:4: SettingWithCopyWarning: \n",
      "A value is trying to be set on a copy of a slice from a DataFrame\n",
      "\n",
      "See the caveats in the documentation: https://pandas.pydata.org/pandas-docs/stable/user_guide/indexing.html#returning-a-view-versus-a-copy\n",
      "  df_active['phase'][:5073] = 360+df_active['phase'][:5073]\n",
      "/var/folders/fy/4wjvjmc95f1fv0gy4d27l6_h0000gn/T/ipykernel_89387/4280098295.py:5: SettingWithCopyWarning: \n",
      "A value is trying to be set on a copy of a slice from a DataFrame\n",
      "\n",
      "See the caveats in the documentation: https://pandas.pydata.org/pandas-docs/stable/user_guide/indexing.html#returning-a-view-versus-a-copy\n",
      "  df_active['phase'][-1012:] = -360+df_active['phase'][-1012:]\n"
     ]
    },
    {
     "data": {
      "text/html": [
       "<div>\n",
       "<style scoped>\n",
       "    .dataframe tbody tr th:only-of-type {\n",
       "        vertical-align: middle;\n",
       "    }\n",
       "\n",
       "    .dataframe tbody tr th {\n",
       "        vertical-align: top;\n",
       "    }\n",
       "\n",
       "    .dataframe thead th {\n",
       "        text-align: right;\n",
       "    }\n",
       "</style>\n",
       "<table border=\"1\" class=\"dataframe\">\n",
       "  <thead>\n",
       "    <tr style=\"text-align: right;\">\n",
       "      <th></th>\n",
       "      <th>Freq.</th>\n",
       "      <th>V(n004)</th>\n",
       "      <th>mag</th>\n",
       "      <th>phase</th>\n",
       "    </tr>\n",
       "  </thead>\n",
       "  <tbody>\n",
       "    <tr>\n",
       "      <th>0</th>\n",
       "      <td>0.100000</td>\n",
       "      <td>(-3.92402060734628e+02dB,-3.70026416560814e-02°)</td>\n",
       "      <td>-392.402061</td>\n",
       "      <td>359.962997</td>\n",
       "    </tr>\n",
       "    <tr>\n",
       "      <th>1</th>\n",
       "      <td>0.100231</td>\n",
       "      <td>(-3.92322060738810e+02dB,-3.70879415486449e-02°)</td>\n",
       "      <td>-392.322061</td>\n",
       "      <td>359.962912</td>\n",
       "    </tr>\n",
       "    <tr>\n",
       "      <th>2</th>\n",
       "      <td>0.100462</td>\n",
       "      <td>(-3.92242060743011e+02dB,-3.71734380777276e-02°)</td>\n",
       "      <td>-392.242061</td>\n",
       "      <td>359.962827</td>\n",
       "    </tr>\n",
       "    <tr>\n",
       "      <th>3</th>\n",
       "      <td>0.100693</td>\n",
       "      <td>(-3.92162060747231e+02dB,-3.72591316966229e-02°)</td>\n",
       "      <td>-392.162061</td>\n",
       "      <td>359.962741</td>\n",
       "    </tr>\n",
       "    <tr>\n",
       "      <th>4</th>\n",
       "      <td>0.100925</td>\n",
       "      <td>(-3.92082060751471e+02dB,-3.73450228596696e-02°)</td>\n",
       "      <td>-392.082061</td>\n",
       "      <td>359.962655</td>\n",
       "    </tr>\n",
       "  </tbody>\n",
       "</table>\n",
       "</div>"
      ],
      "text/plain": [
       "      Freq.                                           V(n004)         mag   \n",
       "0  0.100000  (-3.92402060734628e+02dB,-3.70026416560814e-02°) -392.402061  \\\n",
       "1  0.100231  (-3.92322060738810e+02dB,-3.70879415486449e-02°) -392.322061   \n",
       "2  0.100462  (-3.92242060743011e+02dB,-3.71734380777276e-02°) -392.242061   \n",
       "3  0.100693  (-3.92162060747231e+02dB,-3.72591316966229e-02°) -392.162061   \n",
       "4  0.100925  (-3.92082060751471e+02dB,-3.73450228596696e-02°) -392.082061   \n",
       "\n",
       "        phase  \n",
       "0  359.962997  \n",
       "1  359.962912  \n",
       "2  359.962827  \n",
       "3  359.962741  \n",
       "4  359.962655  "
      ]
     },
     "execution_count": 34,
     "metadata": {},
     "output_type": "execute_result"
    }
   ],
   "source": [
    "df_active = pd.read_csv('../../data/electronics/correct_filter_article.txt', sep='\\t', encoding='ISO-8859-1')\n",
    "df_active['mag'] = df_active['V(n004)'].apply(lambda x: float(x.split(',')[0][1:-2]))\n",
    "df_active['phase'] = df_active['V(n004)'].apply(lambda x: float(x.split(',')[1][:-2]))\n",
    "df_active['phase'][:5073] = 360+df_active['phase'][:5073]\n",
    "df_active['phase'][-1012:] = -360+df_active['phase'][-1012:]\n",
    "df_active.head()"
   ]
  },
  {
   "cell_type": "code",
   "execution_count": 35,
   "id": "f8f1484d",
   "metadata": {},
   "outputs": [
    {
     "data": {
      "text/plain": [
       "7001"
      ]
     },
     "execution_count": 35,
     "metadata": {},
     "output_type": "execute_result"
    }
   ],
   "source": [
    "len(df_active)"
   ]
  },
  {
   "cell_type": "code",
   "execution_count": 36,
   "id": "6c645ea3",
   "metadata": {},
   "outputs": [
    {
     "data": {
      "image/png": "[encoded data removed]",
      "text/plain": [
       "<Figure size 390x250 with 2 Axes>"
      ]
     },
     "metadata": {},
     "output_type": "display_data"
    }
   ],
   "source": [
    "colors = ['#1B4F72', '#2E86C1', '#85C1E9']\n",
    "\n",
    "fig, (ax1, ax2) = plt.subplots(2, 1, sharex=True)\n",
    "fig.set_size_inches(3*1.3, 2.5, forward=True)\n",
    "\n",
    "ax1.figure.set_figwidth=5.4*1.3*10\n",
    "ax1.figure.set_figheight=10*4.2\n",
    "\n",
    "ax2.figure.set_figwidth=5.4*1.3*10\n",
    "ax2.figure.set_figheight=10*4.2\n",
    "\n",
    "\n",
    "ax1.plot(df['Freq.'].values, df['mag'].values, color=colors[0])\n",
    "ax1.plot(df_active['Freq.'].values, df_active['mag'].values, color=colors[2])\n",
    "ax1.set_xscale('log')\n",
    "ax1.set_xlim([1e0, 1e6])\n",
    "ax1.set_ylim([-99, 50])\n",
    "\n",
    "ax1.grid(True, which=\"both\", ls=\"-\")\n",
    "\n",
    "ax2.set_xlabel('Freq (Hz)')\n",
    "\n",
    "ax1.set_ylabel('Mag (dB)')\n",
    "\n",
    "ax2.set_ylabel(r'Phase (${}^\\circ$)')\n",
    "\n",
    "ax2.plot(df['Freq.'].values, df['phase'].values, color=colors[0])\n",
    "ax2.plot(df_active['Freq.'].values, df_active['phase'].values, color=colors[2])\n",
    "ax2.set_xscale('log')\n",
    "ax2.set_xlim([1e0, 1e6])\n",
    "ax2.grid(True, which=\"both\", ls=\"-\")\n",
    "plt.subplots_adjust(wspace=0, hspace=0)\n",
    "\n",
    "plt.savefig('../../plots/bode_filters.png',dpi=300, bbox_inches = 'tight')"
   ]
  },
  {
   "cell_type": "code",
   "execution_count": null,
   "id": "4685f3d3",
   "metadata": {},
   "outputs": [],
   "source": []
  }
 ],
 "metadata": {
  "kernelspec": {
   "display_name": "Python 3 (ipykernel)",
   "language": "python",
   "name": "python3"
  },
  "language_info": {
   "codemirror_mode": {
    "name": "ipython",
    "version": 3
   },
   "file_extension": ".py",
   "mimetype": "text/x-python",
   "name": "python",
   "nbconvert_exporter": "python",
   "pygments_lexer": "ipython3",
   "version": "3.8.5"
  }
 },
 "nbformat": 4,
 "nbformat_minor": 5
}
