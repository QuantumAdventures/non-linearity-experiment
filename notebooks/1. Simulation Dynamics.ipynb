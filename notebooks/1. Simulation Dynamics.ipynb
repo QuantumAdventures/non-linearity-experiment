{
 "cells": [
  {
   "cell_type": "code",
   "execution_count": null,
   "id": "74eb26a9",
   "metadata": {},
   "outputs": [],
   "source": [
    "import numpy as np\n",
    "import matplotlib.pyplot as plt\n",
    "import seaborn as sns\n",
    "from tqdm import tqdm\n",
    "from single_photons.environment import Particle\n",
    "from scipy import signal as sn\n",
    "from scipy.optimize import curve_fit\n"
   ]
  },
  {
   "cell_type": "code",
   "execution_count": null,
   "id": "13d158bc",
   "metadata": {},
   "outputs": [],
   "source": [
    "omega = 2*np.pi*1e5\n",
    "T = 2*np.pi/omega\n",
    "t = np.arange(0, 1000*T, T/400)\n",
    "N = t.shape[0]\n",
    "delta_t = np.diff(t)[0]"
   ]
  },
  {
   "cell_type": "code",
   "execution_count": 4,
   "id": "ea0d9063",
   "metadata": {},
   "outputs": [
    {
     "ename": "TypeError",
     "evalue": "__init__() missing 1 required positional argument: 'coupling'",
     "output_type": "error",
     "traceback": [
      "\u001b[0;31m---------------------------------------------------------------------------\u001b[0m",
      "\u001b[0;31mTypeError\u001b[0m                                 Traceback (most recent call last)",
      "Cell \u001b[0;32mIn [4], line 2\u001b[0m\n\u001b[1;32m      1\u001b[0m gamma \u001b[38;5;241m=\u001b[39m \u001b[38;5;241m32000\u001b[39m\n\u001b[0;32m----> 2\u001b[0m env \u001b[38;5;241m=\u001b[39m \u001b[43mParticle\u001b[49m\u001b[43m(\u001b[49m\u001b[43momega\u001b[49m\u001b[43m,\u001b[49m\u001b[43m \u001b[49m\u001b[43mgamma\u001b[49m\u001b[43m)\u001b[49m\n",
      "\u001b[0;31mTypeError\u001b[0m: __init__() missing 1 required positional argument: 'coupling'"
     ]
    }
   ],
   "source": [
    "gamma = 32000\n",
    "env = Particle(omega, gamma)"
   ]
  },
  {
   "cell_type": "code",
   "execution_count": null,
   "id": "9c96f52f",
   "metadata": {},
   "outputs": [],
   "source": [
    "std_detection = 1"
   ]
  },
  {
   "cell_type": "code",
   "execution_count": null,
   "id": "41335925",
   "metadata": {},
   "outputs": [],
   "source": [
    "states = np.array([[1],[0.]])\n",
    "new_states = np.zeros((N,2)) \n",
    "measured_states = np.zeros((N, 2))\n",
    "for i in tqdm(range(t.shape[0])):\n",
    "    new_states[i,:] = states[:,0]\n",
    "    measured_states[i, :] = states[:, 0] + std_detection*np.random.normal()\n",
    "    states = env.step(states, control=0, delta_t=delta_t)"
   ]
  },
  {
   "cell_type": "code",
   "execution_count": null,
   "id": "d200616d",
   "metadata": {},
   "outputs": [],
   "source": [
    "fig = plt.Figure()\n",
    "plt.title('Position')\n",
    "plt.plot(t, measured_states[:,0])\n",
    "plt.plot(t, new_states[:,0])\n",
    "plt.grid()\n",
    "plt.legend(['Measured', 'Simulated'])\n",
    "plt.show()"
   ]
  },
  {
   "cell_type": "code",
   "execution_count": null,
   "id": "d1875b08",
   "metadata": {},
   "outputs": [],
   "source": [
    "fig = plt.Figure()\n",
    "plt.title('Velocity')\n",
    "plt.plot(t, measured_states[:,1])\n",
    "plt.plot(t, new_states[:,1])\n",
    "plt.grid()\n",
    "plt.legend(['Measured', 'Simulated'])\n",
    "plt.show()"
   ]
  },
  {
   "cell_type": "code",
   "execution_count": null,
   "id": "a6b8fc99",
   "metadata": {},
   "outputs": [],
   "source": [
    "freq, pxx = sn.periodogram(new_states[:,0], 1/delta_t)"
   ]
  },
  {
   "cell_type": "code",
   "execution_count": null,
   "id": "56d5066e",
   "metadata": {},
   "outputs": [],
   "source": [
    "plt.semilogy(freq, pxx)\n",
    "plt.xscale('log')\n",
    "plt.xlim([0, 3e6])\n",
    "plt.ylim([1e-12, 4*max(pxx)])"
   ]
  },
  {
   "cell_type": "code",
   "execution_count": null,
   "id": "38dd239a",
   "metadata": {},
   "outputs": [],
   "source": []
  },
  {
   "cell_type": "code",
   "execution_count": null,
   "id": "0124460a",
   "metadata": {},
   "outputs": [],
   "source": []
  }
 ],
 "metadata": {
  "kernelspec": {
   "display_name": "Python 3 (ipykernel)",
   "language": "python",
   "name": "python3"
  },
  "language_info": {
   "codemirror_mode": {
    "name": "ipython",
    "version": 3
   },
   "file_extension": ".py",
   "mimetype": "text/x-python",
   "name": "python",
   "nbconvert_exporter": "python",
   "pygments_lexer": "ipython3",
   "version": "3.8.5"
  }
 },
 "nbformat": 4,
 "nbformat_minor": 5
}
