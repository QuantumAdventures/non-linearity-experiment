{
 "cells": [
  {
   "cell_type": "markdown",
   "id": "74eb26a9",
   "metadata": {},
   "source": [
    "### Simulating the dynamics of a levitated nanoparticle\n",
    "\n",
    "This notebook will show how to simulate a levitated nanoparticle under the action of a cubic force with delay. To do this we are going to:\n",
    "\n",
    "* Define an environment where the dynamics of a levitated nanoparticle is considered;\n",
    "* Generate traces via Euler-Maruyama simulation;\n",
    "* Making the plots showed in the *Results* section of the paper.\n",
    "\n",
    "A brief summary of the organization of this notebook:\n",
    "\n",
    "### Summary\n",
    "\n",
    "- [1 - Packages and imports](#1)\n",
    "\n",
    "- [2 - Creating the virtual nano-particle](#2)\n",
    "\n",
    "- [3 - Generating traces](#3)\n",
    "\n",
    "- [4 - Plots and comparison with theoretical predictions](#4)"
   ]
  },
  {
   "cell_type": "markdown",
   "id": "093a86a8",
   "metadata": {},
   "source": [
    "<a name='1'></a> \n",
    "### 1. Packages and imports"
   ]
  },
  {
   "cell_type": "code",
   "execution_count": 1,
   "id": "df3f6d1c",
   "metadata": {},
   "outputs": [],
   "source": [
    "import numpy as np\n",
    "import matplotlib.pyplot as plt\n",
    "from tqdm import tqdm\n",
    "from non_linearity.environment import Particle\n",
    "from non_linearity.simulation import simulation\n",
    "import non_linearity.utils.constants as ct\n",
    "from scipy import signal as sn"
   ]
  },
  {
   "cell_type": "code",
   "execution_count": 2,
   "id": "516d1b1a",
   "metadata": {},
   "outputs": [],
   "source": [
    "plt.rcParams.update({'font.size': 10})\n",
    "plt.rcParams['axes.linewidth'] = 1.5\n",
    "plt.rcParams['font.family'] = 'serif'\n",
    "plt.rcParams['font.serif'] = ['Times New Roman'] + plt.rcParams['font.serif']\n",
    "plt.rcParams.update({\n",
    "    \"text.usetex\": True,\n",
    "})"
   ]
  },
  {
   "cell_type": "markdown",
   "id": "04312da8",
   "metadata": {},
   "source": [
    "<a name='2'></a> \n",
    "### 2. Creating the virtual nano-particle\n",
    "\n",
    "Here we are going to define some parameters for simulations. First, the particle frequency $f$, from this, we know the period $T$ and the angular frequency $\\omega$. The period is going to be used to define the maximum simulation time $t_{max}$. The parameter $M$ represents the number of traces that are going to be created, we will simulate two different gains $G_1=6\\times 10^5 \\,\\textrm{N/m}^3$ and $G_2=2\\times 10^5 \\,\\textrm{N/m}^3$. For this simulation the $\\gamma$ used was $66\\times 10^3 \\textrm{s}^{-1}$."
   ]
  },
  {
   "cell_type": "code",
   "execution_count": 3,
   "id": "13d158bc",
   "metadata": {},
   "outputs": [],
   "source": [
    "freq = 81.5e3\n",
    "omega = 2*np.pi*freq\n",
    "T = 1 / freq\n",
    "max_time = 500 * T\n",
    "M = 500\n",
    "delta_t = 2e-7\n",
    "N_time = int(max_time / delta_t)\n",
    "t = np.linspace(0, max_time, int(N_time))\n",
    "gamma = 66e3\n",
    "gain1 = 2e5\n",
    "gain2 = 6e5"
   ]
  },
  {
   "cell_type": "code",
   "execution_count": 4,
   "id": "faf25466",
   "metadata": {},
   "outputs": [],
   "source": [
    "env = Particle(omega, gamma, radius=73e-9)"
   ]
  },
  {
   "cell_type": "markdown",
   "id": "87d481d5",
   "metadata": {},
   "source": [
    "<a name='3'></a> \n",
    "### 3. Generating traces\n",
    "\n",
    "To create the traces we will call a function from our package, the `simulation` will run the Euler-Maruyama algorithm using Numba, this will allow for an optimized run, reducing time consumption. We also defined a `psd` function to run the `welch` method from `scipy.signal` on dictionary of traces."
   ]
  },
  {
   "cell_type": "code",
   "execution_count": 5,
   "id": "89c7e24d",
   "metadata": {},
   "outputs": [],
   "source": [
    "def psd(traces, delta_t):\n",
    "    pxxs = []\n",
    "    for i in range(traces.shape[0]):\n",
    "        freq, pxx = sn.welch(traces[i,:], fs=1/delta_t, window='hamming', nperseg=int(traces.shape[1]/2))\n",
    "        if not np.isnan(pxx.max()) and not pxx.max() > 1e12:\n",
    "            pxxs.append(pxx)\n",
    "    return freq, np.array(pxxs)\n",
    "\n",
    "\n",
    "def generate_traces(env, gain, delta_t, N_time,  M, delay_range):\n",
    "    cubic_delayed = {i: [None] for i in delay_range}\n",
    "    print(\"-- Creating traces --\")\n",
    "    for key in tqdm(cubic_delayed.keys()):\n",
    "        cubic = np.zeros(shape=(M, N_time))\n",
    "        for i in range(M):\n",
    "            data = simulation(env.__omega__, env.__gamma__, env.thermal_force_std, delta_t, N_time, gain*(env.zp_x**3/env.zp_p), key)\n",
    "            data = np.array(data)\n",
    "            cubic[i, :] = data\n",
    "        cubic_delayed[key] = cubic\n",
    "    print(\"-- Analysing and making PSD --\")\n",
    "    delay_areas,  areas_std = [], []\n",
    "    for key in tqdm(list(cubic_delayed.keys())):\n",
    "        freq, pxx = psd(cubic_delayed[key], delta_t)\n",
    "        delay_areas.append(pxx.sum(axis=1).mean())\n",
    "        areas_std.append(pxx.sum(axis=1).std())\n",
    "\n",
    "    return delay_areas, areas_std, freq"
   ]
  },
  {
   "cell_type": "code",
   "execution_count": 6,
   "id": "41335925",
   "metadata": {},
   "outputs": [
    {
     "name": "stdout",
     "output_type": "stream",
     "text": [
      "-- Creating traces --\n"
     ]
    },
    {
     "name": "stderr",
     "output_type": "stream",
     "text": [
      "  0%|          | 0/62 [00:00<?, ?it/s]"
     ]
    },
    {
     "name": "stderr",
     "output_type": "stream",
     "text": [
      "100%|██████████| 62/62 [00:51<00:00,  1.19it/s]\n"
     ]
    },
    {
     "name": "stdout",
     "output_type": "stream",
     "text": [
      "-- Analysing and making PSD --\n"
     ]
    },
    {
     "name": "stderr",
     "output_type": "stream",
     "text": [
      "100%|██████████| 62/62 [01:48<00:00,  1.76s/it]\n"
     ]
    }
   ],
   "source": [
    "delay_range = range(0,62,1)\n",
    "areas_gain1, _, _ = generate_traces(env, gain1, delta_t, N_time, M, delay_range)"
   ]
  },
  {
   "cell_type": "code",
   "execution_count": 7,
   "id": "4ef2370d",
   "metadata": {},
   "outputs": [
    {
     "name": "stdout",
     "output_type": "stream",
     "text": [
      "-- Creating traces --\n"
     ]
    },
    {
     "name": "stderr",
     "output_type": "stream",
     "text": [
      "100%|██████████| 62/62 [00:59<00:00,  1.05it/s]\n"
     ]
    },
    {
     "name": "stdout",
     "output_type": "stream",
     "text": [
      "-- Analysing and making PSD --\n"
     ]
    },
    {
     "name": "stderr",
     "output_type": "stream",
     "text": [
      "100%|██████████| 62/62 [02:38<00:00,  2.55s/it]\n"
     ]
    }
   ],
   "source": [
    "areas_gain2, _, _ = generate_traces(env, gain2, delta_t, N_time, M, delay_range)"
   ]
  },
  {
   "cell_type": "code",
   "execution_count": 8,
   "id": "9547a8d8",
   "metadata": {},
   "outputs": [
    {
     "name": "stdout",
     "output_type": "stream",
     "text": [
      "-- Creating traces --\n"
     ]
    },
    {
     "name": "stderr",
     "output_type": "stream",
     "text": [
      "  0%|          | 0/1 [00:00<?, ?it/s]"
     ]
    },
    {
     "name": "stderr",
     "output_type": "stream",
     "text": [
      "100%|██████████| 1/1 [00:01<00:00,  1.03s/it]\n"
     ]
    },
    {
     "name": "stdout",
     "output_type": "stream",
     "text": [
      "-- Analysing and making PSD --\n"
     ]
    },
    {
     "name": "stderr",
     "output_type": "stream",
     "text": [
      "100%|██████████| 1/1 [00:01<00:00,  1.70s/it]\n"
     ]
    }
   ],
   "source": [
    "areas_ref, areas_std_ref, freq = generate_traces(env, 0, delta_t, N_time, M, [0])"
   ]
  },
  {
   "cell_type": "markdown",
   "id": "f28de8c7",
   "metadata": {},
   "source": [
    "<a name='4'></a> \n",
    "### 4. Plots and comparison with theoretical predictions\n",
    "\n",
    "Here we will define the autocorrelation functions, both zero and first order corrections. This will be used to compared the theory with simulation, which will be done in the last cell, via the plots that will be saved under the name `area_ratio_vs_delay.png`.\n"
   ]
  },
  {
   "cell_type": "code",
   "execution_count": 12,
   "id": "fc1e5f1e",
   "metadata": {},
   "outputs": [],
   "source": [
    "def autocor_0(t, omega, gamma, m= 3.368e-18, T = 293):\n",
    "    C = 2*(gamma*ct.kb*T/m)\n",
    "    Omega = np.sqrt(omega**2-((gamma**2)/4))\n",
    "    T0 = C*np.exp(-gamma*t/2)*(2*Omega*np.cos(Omega*t)+gamma*np.sin(Omega*t))/(4*gamma*Omega*(omega**2))\n",
    "    return T0\n",
    "\n",
    "\n",
    "def autocor_perturbation(t, omega, gamma, b, tau, m= 3.368e-18, T = 293):\n",
    "    T0 = autocor_0(t, omega, gamma, m=m)\n",
    "    C = 2*(gamma*ct.kb*T/m) \n",
    "    Omega = np.sqrt(omega**2-((gamma**2)/4))\n",
    "    mult = np.exp(-gamma*t/2)/(64*(gamma**3)*(Omega**4)*(omega**6))\n",
    "    part1 = np.exp(gamma*tau/2)*(8*gamma*(Omega**4)-4*(omega**2)*(gamma**2)*(Omega**2)*(t-tau))*np.cos(Omega*(t-tau))\n",
    "    \n",
    "    part2 = Omega*np.exp(gamma*tau/2)*(8*gamma*(Omega**2)*(omega**2)*(t-tau)+\\\n",
    "                                       8*(Omega**4)+4*(gamma**2)*(omega**2)+6*(gamma**2)*(Omega**2))*np.sin(Omega*(t-tau))\n",
    "    part3 = np.exp(-gamma*tau/2)*(Omega**2)*(2*Omega*(gamma**2)-8*(Omega**3))*np.sin(Omega*(t+tau))\n",
    "    part4 = np.exp(-gamma*tau/2)*8*gamma*(Omega**4)*np.cos(Omega*(t+tau))\n",
    "    T1 = -3*C*C*b*mult*(part1+part2+part3+part4)\n",
    "    return T0+T1"
   ]
  },
  {
   "cell_type": "code",
   "execution_count": 13,
   "id": "26c06cb8",
   "metadata": {},
   "outputs": [],
   "source": [
    "theory_delays = np.linspace(0, T, 100)\n",
    "areas_1 = autocor_perturbation(0, env.__omega__, env.__gamma__, -gain1/env._m_, theory_delays, m=env._m_)\n",
    "areas_2 = autocor_perturbation(0, env.__omega__, env.__gamma__, -gain2/env._m_, theory_delays, m=env._m_)"
   ]
  },
  {
   "cell_type": "code",
   "execution_count": 14,
   "id": "9c5b23d1",
   "metadata": {},
   "outputs": [
    {
     "data": {
      "image/png": "[encoded data removed]",
      "text/plain": [
       "<Figure size 390x250 with 1 Axes>"
      ]
     },
     "metadata": {},
     "output_type": "display_data"
    }
   ],
   "source": [
    "colors = ['#2E86C1', '#85C1E9', '#1B4F72']\n",
    "fig = plt.figure(figsize=(5.4*1.3*10, 10*4.2))\n",
    "fig.set_size_inches(3*1.3, 2.5, forward=True)\n",
    "\n",
    "plt.plot(theory_delays/T, 0.5*(ct.hbar*2*np.pi/(ct.kb*T))*(areas_1/(env.zp_x**2)-1/2), color=colors[1], label=r\"$G_{fb}=1\\times 10^5\\,\\textrm{N/m}{}^3$\")\n",
    "plt.scatter(delta_t*np.array(delay_range)/T, 0.5*(ct.hbar*2*np.pi/(ct.kb*T))*(np.array(areas_gain1)*np.diff(freq)[0]-1/2),s=10, color=colors[1], alpha=0.25, label=r\"_$G_{fb}=1\\times 10^5\\,\\textrm{N/m}{}^3$\")\n",
    "\n",
    "\n",
    "plt.plot(theory_delays/T, 0.5*(ct.hbar*2*np.pi/(ct.kb*T))*(areas_2/(env.zp_x**2)-1/2), color=colors[2], label=r\"$G_{fb}=2\\times 10^5\\,\\textrm{N/m}{}^3$\", linestyle='dashed')\n",
    "plt.scatter(delta_t*np.array(delay_range)/T, 0.5*(ct.hbar*2*np.pi/(ct.kb*T))*np.array(areas_gain2)*np.diff(freq)[0]-1/2,s=10, color=colors[2], alpha=0.25, label=r\"_$G_{fb}=5.9\\times 10^5\\,\\textrm{N/m}{}^3$\")\n",
    "\n",
    "plt.xlabel(r'$\\tau/T$')\n",
    "plt.ylabel(r'$T_{eff} (\\textrm{K})$')\n",
    "#plt.plot([5e-7/T, 5e-7/T], [0, 315], linestyle='dotted', color='black')\n",
    "plt.ylim([273, 313])\n",
    "plt.xlim([0, 1])\n",
    "plt.legend(bbox_to_anchor=(0.016, 0.7, 1., .102))\n",
    "plt.grid()\n",
    "#plt.savefig('../plots/area_ratio_vs_delay.pdf',dpi=300, bbox_inches = 'tight')"
   ]
  }
 ],
 "metadata": {
  "kernelspec": {
   "display_name": "Python 3 (ipykernel)",
   "language": "python",
   "name": "python3"
  },
  "language_info": {
   "codemirror_mode": {
    "name": "ipython",
    "version": 3
   },
   "file_extension": ".py",
   "mimetype": "text/x-python",
   "name": "python",
   "nbconvert_exporter": "python",
   "pygments_lexer": "ipython3",
   "version": "3.8.5"
  }
 },
 "nbformat": 4,
 "nbformat_minor": 5
}
