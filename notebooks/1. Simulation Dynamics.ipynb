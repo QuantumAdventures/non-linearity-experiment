{
 "cells": [
  {
   "cell_type": "code",
   "execution_count": 1,
   "id": "74eb26a9",
   "metadata": {},
   "outputs": [],
   "source": [
    "import os\n",
    "import numpy as np\n",
    "import matplotlib as mpl\n",
    "import matplotlib.pyplot as plt\n",
    "import seaborn as sns\n",
    "from tqdm import tqdm\n",
    "from non_linearity.environment import Particle\n",
    "from non_linearity.simulation import simulation\n",
    "import non_linearity.utils.constants as ct\n",
    "from scipy import signal as sn"
   ]
  },
  {
   "cell_type": "code",
   "execution_count": 2,
   "id": "516d1b1a",
   "metadata": {},
   "outputs": [],
   "source": [
    "#mpl.rcParams.update(mpl.rcParamsDefault)\n",
    "plt.rcParams.update({'font.size': 10})\n",
    "plt.rcParams['axes.linewidth'] = 1.5\n",
    "plt.rcParams['font.family'] = 'serif'\n",
    "plt.rcParams['font.serif'] = ['Times New Roman'] + plt.rcParams['font.serif']\n",
    "plt.rcParams.update({\n",
    "    \"text.usetex\": True,\n",
    "})"
   ]
  },
  {
   "cell_type": "code",
   "execution_count": 90,
   "id": "13d158bc",
   "metadata": {},
   "outputs": [],
   "source": [
    "freq = 81.5e3\n",
    "omega = 2*np.pi*freq\n",
    "T = 1 / freq\n",
    "max_time = 500 * T\n",
    "M = 500\n",
    "delta_t = 2e-7\n",
    "N_time = int(max_time / delta_t)\n",
    "# psd_stamps = int(N_time / 2 + 1)\n",
    "t = np.linspace(0, max_time, int(N_time))\n",
    "gamma = 13e3\n",
    "gain1 = 1e5\n",
    "gain2 = 2e5"
   ]
  },
  {
   "cell_type": "code",
   "execution_count": 91,
   "id": "faf25466",
   "metadata": {},
   "outputs": [],
   "source": [
    "env = Particle(omega, gamma, radius=73e-9)"
   ]
  },
  {
   "cell_type": "code",
   "execution_count": 92,
   "id": "d9835176",
   "metadata": {
    "scrolled": true
   },
   "outputs": [
    {
     "name": "stdout",
     "output_type": "stream",
     "text": [
      "0.006134969325153374 15.337423312883436 30674.846625766873\n",
      "9.1GB RAM spent\n",
      "use smallest delta_t such that delay amount is appropriate\n",
      "commit between max_time and trace amount\n"
     ]
    }
   ],
   "source": [
    "print(max_time, (T/4)/delta_t, max_time/delta_t)\n",
    "print('9.1GB RAM spent')\n",
    "print('use smallest delta_t such that delay amount is appropriate')\n",
    "print('commit between max_time and trace amount')"
   ]
  },
  {
   "cell_type": "code",
   "execution_count": 93,
   "id": "89c7e24d",
   "metadata": {},
   "outputs": [],
   "source": [
    "def psd(traces, delta_t):\n",
    "    pxxs = []\n",
    "    for i in range(traces.shape[0]):\n",
    "        freq, pxx = sn.welch(traces[i,:], fs=1/delta_t, window='hamming', nperseg=int(traces.shape[1]/2))\n",
    "        if not np.isnan(pxx.max()) and not pxx.max() > 1e12:\n",
    "            pxxs.append(pxx)\n",
    "    return freq, np.array(pxxs)\n",
    "\n",
    "\n",
    "def generate_traces(env, gain, delta_t, N_time,  M, delay_range):\n",
    "    cubic_delayed = {i: [None] for i in delay_range}\n",
    "    print(\"-- Creating traces --\")\n",
    "    for key in tqdm(cubic_delayed.keys()):\n",
    "        cubic = np.zeros(shape=(M, N_time))\n",
    "        for i in range(M):\n",
    "            data = simulation(env.__omega__, env.__gamma__, env.thermal_force_std, delta_t, N_time, gain*(env.zp_x**3/env.zp_p), key)\n",
    "            data = np.array(data)\n",
    "            cubic[i, :] = data\n",
    "        cubic_delayed[key] = cubic\n",
    "    print(\"-- Analysing and making PSD --\")\n",
    "    delay_areas,  areas_std = [], []\n",
    "    for key in tqdm(list(cubic_delayed.keys())):\n",
    "        freq, pxx = psd(cubic_delayed[key], delta_t)\n",
    "        delay_areas.append(pxx.sum(axis=1).mean())\n",
    "        areas_std.append(pxx.sum(axis=1).std())\n",
    "\n",
    "    return delay_areas, areas_std, freq"
   ]
  },
  {
   "cell_type": "code",
   "execution_count": 94,
   "id": "41335925",
   "metadata": {},
   "outputs": [
    {
     "name": "stdout",
     "output_type": "stream",
     "text": [
      "-- Creating traces --\n"
     ]
    },
    {
     "name": "stderr",
     "output_type": "stream",
     "text": [
      "100%|██████████| 62/62 [01:08<00:00,  1.11s/it]\n"
     ]
    },
    {
     "name": "stdout",
     "output_type": "stream",
     "text": [
      "-- Analysing and making PSD --\n"
     ]
    },
    {
     "name": "stderr",
     "output_type": "stream",
     "text": [
      "100%|██████████| 62/62 [02:13<00:00,  2.16s/it]\n"
     ]
    }
   ],
   "source": [
    "delay_range = range(0,62,1)\n",
    "areas_gain1, _, _ = generate_traces(env, gain1, delta_t, N_time, M, delay_range)"
   ]
  },
  {
   "cell_type": "code",
   "execution_count": 95,
   "id": "4ef2370d",
   "metadata": {},
   "outputs": [
    {
     "name": "stdout",
     "output_type": "stream",
     "text": [
      "-- Creating traces --\n"
     ]
    },
    {
     "name": "stderr",
     "output_type": "stream",
     "text": [
      "100%|██████████| 62/62 [01:08<00:00,  1.11s/it]\n"
     ]
    },
    {
     "name": "stdout",
     "output_type": "stream",
     "text": [
      "-- Analysing and making PSD --\n"
     ]
    },
    {
     "name": "stderr",
     "output_type": "stream",
     "text": [
      "100%|██████████| 62/62 [02:10<00:00,  2.11s/it]\n"
     ]
    }
   ],
   "source": [
    "areas_gain2, _, _ = generate_traces(env, gain2, delta_t, N_time, M, delay_range)"
   ]
  },
  {
   "cell_type": "code",
   "execution_count": 96,
   "id": "9547a8d8",
   "metadata": {},
   "outputs": [
    {
     "name": "stdout",
     "output_type": "stream",
     "text": [
      "-- Creating traces --\n"
     ]
    },
    {
     "name": "stderr",
     "output_type": "stream",
     "text": [
      "100%|██████████| 1/1 [00:01<00:00,  1.06s/it]\n"
     ]
    },
    {
     "name": "stdout",
     "output_type": "stream",
     "text": [
      "-- Analysing and making PSD --\n"
     ]
    },
    {
     "name": "stderr",
     "output_type": "stream",
     "text": [
      "100%|██████████| 1/1 [00:01<00:00,  1.43s/it]\n"
     ]
    }
   ],
   "source": [
    "areas_ref, areas_std_ref, freq = generate_traces(env, 0, delta_t, N_time, M, [0])"
   ]
  },
  {
   "cell_type": "code",
   "execution_count": 97,
   "id": "fc1e5f1e",
   "metadata": {},
   "outputs": [],
   "source": [
    "def autocor_0(t, omega, gamma, m= 3.368e-18, T = 293):\n",
    "    C = 2*(gamma*ct.kb*T/m)\n",
    "    Omega = np.sqrt(omega**2-((gamma**2)/4))\n",
    "    T0 = C*np.exp(-gamma*t/2)*(2*Omega*np.cos(Omega*t)+gamma*np.sin(Omega*t))/(4*gamma*Omega*(omega**2))\n",
    "    return T0\n",
    "\n",
    "\n",
    "def autocor_perturbation(t, omega, gamma, b, tau, m= 3.368e-18, T = 293):\n",
    "    T0 = autocor_0(t, omega, gamma, m=m)\n",
    "    C = 2*(gamma*ct.kb*T/m) \n",
    "    Omega = np.sqrt(omega**2-((gamma**2)/4))\n",
    "    mult = np.exp(-gamma*t/2)/(64*(gamma**3)*(Omega**4)*(omega**6))\n",
    "    part1 = np.exp(gamma*tau/2)*(8*gamma*(Omega**4)-4*(omega**2)*(gamma**2)*(Omega**2)*(t-tau))*np.cos(Omega*(t-tau))\n",
    "    \n",
    "    part2 = Omega*np.exp(gamma*tau/2)*(8*gamma*(Omega**2)*(omega**2)*(t-tau)+\\\n",
    "                                       8*(Omega**4)+4*(gamma**2)*(omega**2)+6*(gamma**2)*(Omega**2))*np.sin(Omega*(t-tau))\n",
    "    part3 = np.exp(-gamma*tau/2)*(Omega**2)*(2*Omega*(gamma**2)-8*(Omega**3))*np.sin(Omega*(t+tau))\n",
    "    part4 = np.exp(-gamma*tau/2)*8*gamma*(Omega**4)*np.cos(Omega*(t+tau))\n",
    "    T1 = -3*C*C*b*mult*(part1+part2+part3+part4)\n",
    "    return T0+T1\n",
    "\n",
    "def theoretical_area_frac(omega, gamma, gain, delay, m=3.368e-18, T=293):\n",
    "    T1 = autocor_perturbation(0, omega, gamma, gain, delay, m=m, T=T)\n",
    "    return T1"
   ]
  },
  {
   "cell_type": "code",
   "execution_count": 98,
   "id": "26c06cb8",
   "metadata": {},
   "outputs": [],
   "source": [
    "theory_delays = np.linspace(0, T, 100)\n",
    "areas_1 = theoretical_area_frac(env.__omega__, env.__gamma__, -gain1/env._m_, theory_delays, m=env._m_)\n",
    "areas_2 = theoretical_area_frac(env.__omega__, env.__gamma__, -gain2/env._m_, theory_delays, m=env._m_)"
   ]
  },
  {
   "cell_type": "code",
   "execution_count": 109,
   "id": "9c5b23d1",
   "metadata": {},
   "outputs": [
    {
     "data": {
      "image/png": "[encoded data removed]",
      "text/plain": [
       "<Figure size 390x250 with 1 Axes>"
      ]
     },
     "metadata": {},
     "output_type": "display_data"
    }
   ],
   "source": [
    "colors = ['#2E86C1', '#85C1E9', '#1B4F72']\n",
    "fig = plt.figure(figsize=(5.4*1.3*10, 10*4.2))\n",
    "fig.set_size_inches(3*1.3, 2.5, forward=True)\n",
    "\n",
    "plt.plot(theory_delays/T, areas_1/(env.zp_x**2)-1/2, color=colors[1], label=r\"$G_{fb}=1\\times 10^5\\,\\textrm{N/m}{}^3$\")\n",
    "plt.scatter(delta_t*np.array(delay_range)/T, np.array(areas_gain1)*np.diff(freq)[0]-1/2,s=10, color=colors[1], alpha=0.25, label=r\"_$G_{fb}=1\\times 10^5\\,\\textrm{N/m}{}^3$\")\n",
    "\n",
    "\n",
    "plt.plot(theory_delays/T, areas_2/(env.zp_x**2)-1/2, color=colors[2], label=r\"$G_{fb}=2\\times 10^5\\,\\textrm{N/m}{}^3$\")\n",
    "plt.scatter(delta_t*np.array(delay_range)/T, np.array(areas_gain2)*np.diff(freq)[0]-1/2,s=10, color=colors[2], alpha=0.25, label=r\"_$G_{fb}=5.9\\times 10^5\\,\\textrm{N/m}{}^3$\")\n",
    "\n",
    "plt.xlabel(r'$\\tau/T$')\n",
    "plt.ylabel(r'$\\bar{n}$')\n",
    "plt.ylim([1.3e8, 1.8e8])\n",
    "plt.legend()\n",
    "plt.grid()\n",
    "plt.savefig('../plots/area_ratio_vs_delay.png',dpi=300, bbox_inches = 'tight')"
   ]
  },
  {
   "cell_type": "code",
   "execution_count": 103,
   "id": "74495810",
   "metadata": {},
   "outputs": [
    {
     "ename": "NameError",
     "evalue": "name 'identify_axes' is not defined",
     "output_type": "error",
     "traceback": [
      "\u001b[0;31m---------------------------------------------------------------------------\u001b[0m",
      "\u001b[0;31mNameError\u001b[0m                                 Traceback (most recent call last)",
      "\u001b[1;32m/Users/oscarkremer/non-linearity-experiment/notebooks/1. Simulation Dynamics.ipynb Cell 13\u001b[0m in \u001b[0;36m6\n\u001b[1;32m      <a href='vscode-notebook-cell:/Users/oscarkremer/non-linearity-experiment/notebooks/1.%20Simulation%20Dynamics.ipynb#X20sZmlsZQ%3D%3D?line=1'>2</a>\u001b[0m mosaic \u001b[39m=\u001b[39m \u001b[39m\"\"\"\u001b[39m\n\u001b[1;32m      <a href='vscode-notebook-cell:/Users/oscarkremer/non-linearity-experiment/notebooks/1.%20Simulation%20Dynamics.ipynb#X20sZmlsZQ%3D%3D?line=2'>3</a>\u001b[0m \u001b[39m    AB\u001b[39m\n\u001b[1;32m      <a href='vscode-notebook-cell:/Users/oscarkremer/non-linearity-experiment/notebooks/1.%20Simulation%20Dynamics.ipynb#X20sZmlsZQ%3D%3D?line=3'>4</a>\u001b[0m \u001b[39m    \u001b[39m\u001b[39m\"\"\"\u001b[39m\n\u001b[1;32m      <a href='vscode-notebook-cell:/Users/oscarkremer/non-linearity-experiment/notebooks/1.%20Simulation%20Dynamics.ipynb#X20sZmlsZQ%3D%3D?line=4'>5</a>\u001b[0m ax_dict \u001b[39m=\u001b[39m fig\u001b[39m.\u001b[39msubplot_mosaic(mosaic)\n\u001b[0;32m----> <a href='vscode-notebook-cell:/Users/oscarkremer/non-linearity-experiment/notebooks/1.%20Simulation%20Dynamics.ipynb#X20sZmlsZQ%3D%3D?line=5'>6</a>\u001b[0m identify_axes(ax_dict)\n",
      "\u001b[0;31mNameError\u001b[0m: name 'identify_axes' is not defined"
     ]
    },
    {
     "data": {
      "image/png": "[encoded data removed]",
      "text/plain": [
       "<Figure size 1080x420 with 2 Axes>"
      ]
     },
     "metadata": {},
     "output_type": "display_data"
    }
   ],
   "source": [
    "fig = plt.figure(figsize=(5.4*2, 4.2))\n",
    "mosaic = \"\"\"\n",
    "    AB\n",
    "    \"\"\"\n",
    "ax_dict = fig.subplot_mosaic(mosaic)\n",
    "identify_axes(ax_dict)"
   ]
  },
  {
   "cell_type": "code",
   "execution_count": null,
   "id": "8f49f81c",
   "metadata": {},
   "outputs": [],
   "source": []
  }
 ],
 "metadata": {
  "kernelspec": {
   "display_name": "Python 3 (ipykernel)",
   "language": "python",
   "name": "python3"
  },
  "language_info": {
   "codemirror_mode": {
    "name": "ipython",
    "version": 3
   },
   "file_extension": ".py",
   "mimetype": "text/x-python",
   "name": "python",
   "nbconvert_exporter": "python",
   "pygments_lexer": "ipython3",
   "version": "3.8.5"
  }
 },
 "nbformat": 4,
 "nbformat_minor": 5
}
