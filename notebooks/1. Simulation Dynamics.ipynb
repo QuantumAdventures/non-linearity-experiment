{
 "cells": [
  {
   "cell_type": "code",
   "execution_count": 36,
   "id": "74eb26a9",
   "metadata": {},
   "outputs": [],
   "source": [
    "import os\n",
    "import numpy as np\n",
    "import matplotlib.pyplot as plt\n",
    "import seaborn as sns\n",
    "from tqdm import tqdm\n",
    "from non_linearity.environment import Particle\n",
    "from non_linearity.simulation import simulation\n",
    "from scipy import signal as sn"
   ]
  },
  {
   "cell_type": "code",
   "execution_count": 37,
   "id": "13d158bc",
   "metadata": {},
   "outputs": [],
   "source": [
    "freq = 81.5e3\n",
    "omega = 2*np.pi*freq\n",
    "T = 1 / freq\n",
    "max_time = 1600 * T\n",
    "delta_t = T / 400\n",
    "N_time = int(max_time / delta_t)\n",
    "# psd_stamps = int(N_time / 2 + 1)\n",
    "t = np.linspace(0, max_time, int(N_time))\n",
    "gamma = 65e3"
   ]
  },
  {
   "cell_type": "code",
   "execution_count": 38,
   "id": "faf25466",
   "metadata": {},
   "outputs": [],
   "source": [
    "env = Particle(omega, gamma, radius=73e-9)"
   ]
  },
  {
   "cell_type": "code",
   "execution_count": 39,
   "id": "d9835176",
   "metadata": {
    "scrolled": true
   },
   "outputs": [
    {
     "data": {
      "text/plain": [
       "(0.001226993865030675, 100.0)"
      ]
     },
     "execution_count": 39,
     "metadata": {},
     "output_type": "execute_result"
    }
   ],
   "source": [
    "100*T, (T/4)/delta_t"
   ]
  },
  {
   "cell_type": "code",
   "execution_count": 40,
   "id": "89c7e24d",
   "metadata": {},
   "outputs": [
    {
     "data": {
      "text/plain": [
       "4413218.95448856"
      ]
     },
     "execution_count": 40,
     "metadata": {},
     "output_type": "execute_result"
    }
   ],
   "source": [
    "env.thermal_force_std"
   ]
  },
  {
   "cell_type": "code",
   "execution_count": 56,
   "id": "41335925",
   "metadata": {},
   "outputs": [
    {
     "name": "stderr",
     "output_type": "stream",
     "text": [
      "100%|██████████| 150/150 [00:07<00:00, 20.78it/s]\n",
      "100%|██████████| 150/150 [00:07<00:00, 20.17it/s]\n",
      "100%|██████████| 150/150 [00:07<00:00, 21.36it/s]\n",
      "100%|██████████| 150/150 [00:07<00:00, 21.29it/s]\n",
      "100%|██████████| 150/150 [00:07<00:00, 20.92it/s]\n",
      "100%|██████████| 150/150 [00:07<00:00, 21.06it/s]\n",
      "100%|██████████| 150/150 [00:07<00:00, 21.39it/s]\n",
      "100%|██████████| 150/150 [00:07<00:00, 19.63it/s]\n",
      "100%|██████████| 150/150 [00:07<00:00, 20.51it/s]\n",
      "100%|██████████| 150/150 [00:09<00:00, 15.42it/s]\n",
      "100%|██████████| 150/150 [00:08<00:00, 16.88it/s]\n",
      "100%|██████████| 150/150 [00:08<00:00, 18.46it/s]\n",
      "100%|██████████| 150/150 [00:07<00:00, 19.92it/s]\n",
      "100%|██████████| 150/150 [00:08<00:00, 16.94it/s]\n",
      "100%|██████████| 150/150 [00:07<00:00, 19.64it/s]\n",
      "100%|██████████| 150/150 [00:06<00:00, 21.74it/s]\n",
      "100%|██████████| 150/150 [00:07<00:00, 21.06it/s]\n",
      "100%|██████████| 150/150 [00:07<00:00, 20.75it/s]\n",
      "100%|██████████| 150/150 [00:07<00:00, 19.58it/s]\n",
      "100%|██████████| 150/150 [00:07<00:00, 20.78it/s]\n",
      "100%|██████████| 150/150 [00:06<00:00, 21.61it/s]\n",
      "100%|██████████| 150/150 [00:07<00:00, 20.78it/s]\n",
      "100%|██████████| 150/150 [00:07<00:00, 20.81it/s]\n",
      "100%|██████████| 150/150 [00:07<00:00, 21.38it/s]\n",
      "100%|██████████| 150/150 [00:08<00:00, 18.24it/s]\n",
      "100%|██████████| 150/150 [00:07<00:00, 20.68it/s]\n",
      "100%|██████████| 150/150 [00:08<00:00, 18.56it/s]\n",
      "100%|██████████| 150/150 [00:07<00:00, 21.19it/s]\n",
      "100%|██████████| 150/150 [00:08<00:00, 18.34it/s]\n",
      "100%|██████████| 150/150 [00:07<00:00, 20.61it/s]\n",
      "100%|██████████| 150/150 [00:07<00:00, 21.26it/s]\n",
      "100%|██████████| 150/150 [00:07<00:00, 20.22it/s]\n",
      "100%|██████████| 150/150 [00:07<00:00, 21.34it/s]\n",
      "100%|██████████| 150/150 [00:07<00:00, 19.81it/s]\n",
      "100%|██████████| 150/150 [00:07<00:00, 19.42it/s]\n",
      "100%|██████████| 150/150 [00:07<00:00, 19.50it/s]\n",
      "100%|██████████| 150/150 [00:07<00:00, 18.91it/s]\n",
      "100%|██████████| 150/150 [00:07<00:00, 19.01it/s]\n",
      "100%|██████████| 150/150 [00:09<00:00, 16.67it/s]\n",
      "100%|██████████| 150/150 [00:07<00:00, 20.77it/s]\n",
      "100%|██████████| 150/150 [00:07<00:00, 20.11it/s]\n"
     ]
    }
   ],
   "source": [
    "M = 150\n",
    "cubic_delayed = {i: [None] for i in range(0, 410, 10)}\n",
    "for key in cubic_delayed.keys():\n",
    "    cubic = np.zeros(shape=(M, N_time))\n",
    "    for i in tqdm(range(M)):\n",
    "        data = simulation(env.__omega__, env.__gamma__, env.thermal_force_std, delta_t, N_time, 5.9e5*(env.zp_x**3/env.zp_p), key)\n",
    "        data = np.array(data)\n",
    "        cubic[i, :] = data\n",
    "    cubic_delayed[key] = cubic"
   ]
  },
  {
   "cell_type": "code",
   "execution_count": 57,
   "id": "4ef2370d",
   "metadata": {},
   "outputs": [
    {
     "name": "stderr",
     "output_type": "stream",
     "text": [
      "100%|██████████| 150/150 [00:07<00:00, 20.49it/s]\n",
      "100%|██████████| 150/150 [00:07<00:00, 20.40it/s]\n",
      "100%|██████████| 150/150 [00:07<00:00, 20.23it/s]\n",
      "100%|██████████| 150/150 [00:07<00:00, 19.15it/s]\n",
      "100%|██████████| 150/150 [00:08<00:00, 17.77it/s]\n",
      "100%|██████████| 150/150 [00:07<00:00, 19.74it/s]\n",
      "100%|██████████| 150/150 [00:07<00:00, 19.76it/s]\n",
      "100%|██████████| 150/150 [00:07<00:00, 19.66it/s]\n",
      "100%|██████████| 150/150 [00:06<00:00, 21.54it/s]\n",
      "100%|██████████| 150/150 [00:08<00:00, 17.23it/s]\n",
      "100%|██████████| 150/150 [00:08<00:00, 18.16it/s]\n",
      "100%|██████████| 150/150 [00:07<00:00, 19.74it/s]\n",
      "100%|██████████| 150/150 [00:07<00:00, 20.33it/s]\n",
      "100%|██████████| 150/150 [00:07<00:00, 19.05it/s]\n",
      "100%|██████████| 150/150 [00:07<00:00, 20.89it/s]\n",
      "100%|██████████| 150/150 [00:07<00:00, 20.43it/s]\n",
      "100%|██████████| 150/150 [00:07<00:00, 20.41it/s]\n",
      "100%|██████████| 150/150 [00:07<00:00, 20.74it/s]\n",
      "100%|██████████| 150/150 [00:07<00:00, 18.96it/s]\n",
      "100%|██████████| 150/150 [00:07<00:00, 19.40it/s]\n",
      "100%|██████████| 150/150 [00:07<00:00, 20.77it/s]\n",
      "100%|██████████| 150/150 [00:07<00:00, 20.60it/s]\n",
      "100%|██████████| 150/150 [00:08<00:00, 17.97it/s]\n",
      "100%|██████████| 150/150 [00:07<00:00, 20.20it/s]\n",
      "100%|██████████| 150/150 [00:07<00:00, 20.40it/s]\n",
      "100%|██████████| 150/150 [00:07<00:00, 19.62it/s]\n",
      " 50%|█████     | 75/150 [00:03<00:03, 21.56it/s]"
     ]
    },
    {
     "ename": "",
     "evalue": "",
     "output_type": "error",
     "traceback": [
      "\u001b[1;31mCannot execute code, session has been disposed. Please try restarting the Kernel."
     ]
    },
    {
     "ename": "",
     "evalue": "",
     "output_type": "error",
     "traceback": [
      "\u001b[1;31mThe Kernel crashed while executing code in the the current cell or a previous cell. Please review the code in the cell(s) to identify a possible cause of the failure. Click <a href='https://aka.ms/vscodeJupyterKernelCrash'>here</a> for more info. View Jupyter <a href='command:jupyter.viewOutput'>log</a> for further details."
     ]
    }
   ],
   "source": [
    "M = 150\n",
    "neg_cubic_delayed = {i: [None] for i in range(0, 410, 10)}\n",
    "for key in neg_cubic_delayed.keys():\n",
    "    cubic = np.zeros(shape=(M, N_time))\n",
    "    for i in tqdm(range(M)):\n",
    "        data = simulation(env.__omega__, env.__gamma__, env.thermal_force_std, delta_t, N_time, -5.9e5*(env.zp_x**3/env.zp_p), key)\n",
    "        data = np.array(data)\n",
    "        cubic[i, :] = data\n",
    "    neg_cubic_delayed[key] = cubic"
   ]
  },
  {
   "cell_type": "code",
   "execution_count": 42,
   "id": "9547a8d8",
   "metadata": {},
   "outputs": [
    {
     "name": "stderr",
     "output_type": "stream",
     "text": [
      "  2%|▏         | 2/100 [00:00<00:06, 15.99it/s]"
     ]
    },
    {
     "name": "stderr",
     "output_type": "stream",
     "text": [
      "100%|██████████| 100/100 [00:04<00:00, 21.70it/s]\n"
     ]
    }
   ],
   "source": [
    "M = 100\n",
    "reference = np.zeros(shape=(M, N_time))\n",
    "\n",
    "for i in tqdm(range(M)):\n",
    "    data = simulation(env.__omega__, env.__gamma__, env.thermal_force_std, delta_t, N_time, 0, 0)\n",
    "    data = np.array(data)\n",
    "    reference[i, :] = data"
   ]
  },
  {
   "cell_type": "code",
   "execution_count": 44,
   "id": "a6b8fc99",
   "metadata": {},
   "outputs": [],
   "source": [
    "def psd(traces, delta_t):\n",
    "    pxxs = []\n",
    "    for i in range(traces.shape[0]):\n",
    "        freq, pxx = sn.welch(traces[i,:], fs=1/delta_t, window='hamming', nperseg=int(traces.shape[1]/2))\n",
    "        if not np.isnan(pxx.max()) and not pxx.max()>1e12:\n",
    "            pxxs.append(pxx)\n",
    "    return freq, np.array(pxxs).mean(axis=0)"
   ]
  },
  {
   "cell_type": "code",
   "execution_count": 45,
   "id": "38e4d1b4",
   "metadata": {},
   "outputs": [],
   "source": [
    "#psds = psd_batches('../data/traces/simulation/references', delta_t)\n",
    "#areas = compute_area(psds)"
   ]
  },
  {
   "cell_type": "code",
   "execution_count": 46,
   "id": "d1d030ea",
   "metadata": {},
   "outputs": [],
   "source": [
    "#plt.semilogy(np.array(psds['power']).mean(axis=0))\n",
    "#plt.xlim([1e2, 1e3])"
   ]
  },
  {
   "cell_type": "code",
   "execution_count": 50,
   "id": "56d5066e",
   "metadata": {},
   "outputs": [],
   "source": [
    "#freq, pxx = psd(states, delta_t)\n",
    "#freq, pxx = psd(states, delta_t)\n",
    "#freq, pxx = psd(reference, delta_t)\n",
    "#plt.semilogy(freq_c, np.array(psds['power']).mean(axis=0))\n",
    "#for i in range(100):\n",
    "#    freq, pxx = sn.welch(storage[i,:], fs=1/delta_t, window='hamming', nperseg=int(storage.shape[1]/2))\n",
    "#    print(np.isnan(pxx.max()))\n",
    "\n",
    "#damped_pxxs = {i: []for i in range(0, 300, 100)}\n",
    "#for i in damped_pxxs.keys():\n",
    "#    freq_d, damped_pxx = psd(damped_delays[i], delta_t)\n",
    "#    damped_pxxs[i] = {'freq': freq_d, 'psd': damped_pxx}\n",
    "#    plt.semilogy(freq_d, damped_pxx)\n",
    "#plt.semilogy(freq, pxx)\n",
    "#plt.semilogy(freq, pxx)\n",
    "\n",
    "#for key in list(cubic_delayed.keys())[::10]:\n",
    "##    freq, pxx = psd(cubic_delayed[key], delta_t)\n",
    " #   plt.semilogy(freq, pxx)\n",
    "#plt.semilogy(freq_d, damped_pxx)\n",
    "\n",
    "#plt.legend(['Without Feedback','Cubic-Damped', 'Damped'])\n",
    "#plt.xlim([3e4, 1.2e5])\n",
    "#plt.ylim([1e1, 1e6])"
   ]
  },
  {
   "cell_type": "code",
   "execution_count": 51,
   "id": "0124460a",
   "metadata": {},
   "outputs": [],
   "source": [
    "ref_psd = psd(reference, delta_t)[1].sum()\n",
    "delay_areas = []\n",
    "for key in list(cubic_delayed.keys()):\n",
    "    freq, pxx = psd(cubic_delayed[key], delta_t)\n",
    "    delay_areas.append(pxx.sum())\n",
    "\n",
    "delay_areas = np.array(delay_areas)\n",
    "non_nan_indexes = ~np.isnan(np.array(delay_areas))\n",
    "delay_areas = delay_areas[non_nan_indexes]\n",
    "delays = np.array(list(cubic_delayed.keys()))[non_nan_indexes]*delta_t"
   ]
  },
  {
   "cell_type": "code",
   "execution_count": 52,
   "id": "fc1e5f1e",
   "metadata": {},
   "outputs": [],
   "source": [
    "def autocor_0(t, omega, gamma, m= 3.368e-18):\n",
    "    kb = 1.3806e-23\n",
    "    T = 293\n",
    "    C = 2*(gamma*kb*T/m)\n",
    "    \n",
    "    Omega = np.sqrt(omega**2-((gamma**2)/4))\n",
    "    T0 = C*np.exp(-gamma*t/2)*(2*Omega*np.cos(Omega*t)+gamma*np.sin(Omega*t))/(4*gamma*Omega*(omega**2))\n",
    "    return T0\n",
    "\n",
    "\n",
    "def autocor_perturbation(t, omega, gamma, b, tau, m= 3.368e-18):\n",
    "    kb = 1.3806e-23\n",
    "    T = 293\n",
    "    T0 = autocor_0(t, omega, gamma, m=m)\n",
    "    C = 2*(gamma*kb*T/m) \n",
    "    Omega = np.sqrt(omega**2-((gamma**2)/4))\n",
    "    mult = np.exp(-gamma*t/2)/(64*(gamma**3)*(Omega**4)*(omega**6))\n",
    "    part1 = np.exp(gamma*tau/2)*(8*gamma*(Omega**4)-4*(omega**2)*(gamma**2)*(Omega**2)*(t-tau))*np.cos(Omega*(t-tau))\n",
    "    \n",
    "    part2 = Omega*np.exp(gamma*tau/2)*(8*gamma*(Omega**2)*(omega**2)*(t-tau)+\\\n",
    "                                       8*(Omega**4)+4*(gamma**2)*(omega**2)+6*(gamma**2)*(Omega**2))*np.sin(Omega*(t-tau))\n",
    "    part3 = np.exp(-gamma*tau/2)*(Omega**2)*(2*Omega*(gamma**2)-8*(Omega**3))*np.sin(Omega*(t+tau))\n",
    "    part4 = np.exp(-gamma*tau/2)*8*gamma*(Omega**4)*np.cos(Omega*(t+tau))\n",
    "    T1 = -3*C*C*b*mult*(part1+part2+part3+part4)\n",
    "    return T0+T1\n",
    "\n",
    "def theoretical_area_frac(omega, gamma, gain, delay, m=3.368e-18):\n",
    "    T0 = autocor_0(0, omega, gamma, m=m)\n",
    "    T1 = autocor_perturbation(0, omega, gamma, gain, delay, m=m)\n",
    "    return T1/T0"
   ]
  },
  {
   "cell_type": "code",
   "execution_count": 53,
   "id": "26c06cb8",
   "metadata": {},
   "outputs": [],
   "source": [
    "theory_delays = np.linspace(0, T, 100)\n",
    "areas_t = theoretical_area_frac(env.__omega__, env.__gamma__, -5e5/env._m_, theory_delays, m=env._m_)"
   ]
  },
  {
   "cell_type": "code",
   "execution_count": 55,
   "id": "9c5b23d1",
   "metadata": {},
   "outputs": [
    {
     "data": {
      "image/png": "[encoded data removed]",
      "text/plain": [
       "<Figure size 640x480 with 1 Axes>"
      ]
     },
     "metadata": {},
     "output_type": "display_data"
    }
   ],
   "source": [
    "plt.plot(delays, np.array(delay_areas)/ref_psd)\n",
    "plt.plot(theory_delays, areas_t)\n",
    "plt.legend(['Simulation', 'Theory'])\n",
    "plt.xlabel(r'$\\tau$')\n",
    "plt.title(r'$\\langle x(0)x(0)\\rangle_{c}/\\langle x(0)x(0)\\rangle$')\n",
    "#plt.ylim([0,2])\n",
    "plt.grid()\n",
    "#damped_pxxs.keys()"
   ]
  },
  {
   "cell_type": "code",
   "execution_count": null,
   "id": "c91ab3c6",
   "metadata": {},
   "outputs": [],
   "source": []
  }
 ],
 "metadata": {
  "kernelspec": {
   "display_name": "Python 3 (ipykernel)",
   "language": "python",
   "name": "python3"
  },
  "language_info": {
   "codemirror_mode": {
    "name": "ipython",
    "version": 3
   },
   "file_extension": ".py",
   "mimetype": "text/x-python",
   "name": "python",
   "nbconvert_exporter": "python",
   "pygments_lexer": "ipython3",
   "version": "3.8.5"
  }
 },
 "nbformat": 4,
 "nbformat_minor": 5
}
