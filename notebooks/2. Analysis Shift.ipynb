{
 "cells": [
  {
   "cell_type": "markdown",
   "id": "546deafc",
   "metadata": {},
   "source": [
    "### Shift Analysis\n",
    "\n",
    "In this notebook we will make an analysis about the shift behavior, comparing with theoretical predictions, to do so, we will:\n",
    "\n",
    "* Define methods to convert the raw data to refined information;\n",
    "* Fit the datasets;\n",
    "* Comparision between theory and experimental results.\n",
    "\n",
    "A brief summary of the organization of this notebook:\n",
    "\n",
    "### Summary\n",
    "\n",
    "- [1 - Packages and imports](#1)\n",
    "\n",
    "- [2 - Useful methods](#2)\n",
    "\n",
    "- [3 - Loading data and applying LinearRegression fit](#3)\n",
    "\n",
    "- [4 - Simulation for comparison](#4)\n",
    "\n",
    "- [5 - Plots and comparison with theoretical predictions](#5)"
   ]
  },
  {
   "cell_type": "markdown",
   "id": "28c13351",
   "metadata": {},
   "source": [
    "<a name='1'></a> \n",
    "### 1. Packages and imports"
   ]
  },
  {
   "cell_type": "code",
   "execution_count": 40,
   "id": "d4e8528c",
   "metadata": {},
   "outputs": [],
   "source": [
    "import matplotlib as mpl\n",
    "import matplotlib.pyplot as plt\n",
    "import numpy as np\n",
    "import pandas as pd\n",
    "from tqdm import tqdm\n",
    "from scipy import stats\n",
    "from sklearn.linear_model import LinearRegression\n",
    "from scipy.optimize import curve_fit\n",
    "from non_linearity.environment import Particle\n",
    "from non_linearity.simulation import simulation\n",
    "import non_linearity.utils.constants as ct\n",
    "from scipy import signal as sn\n"
   ]
  },
  {
   "cell_type": "code",
   "execution_count": 41,
   "id": "fe35664f",
   "metadata": {},
   "outputs": [],
   "source": [
    "plt.rcParams.update({'font.size': 10})\n",
    "plt.rcParams['axes.linewidth'] = 1.5\n",
    "plt.rcParams['font.family'] = 'serif'\n",
    "plt.rcParams['font.serif'] = ['Times New Roman'] + plt.rcParams['font.serif']\n",
    "plt.rcParams.update({\n",
    "    \"text.usetex\": True,\n",
    "})"
   ]
  },
  {
   "cell_type": "markdown",
   "id": "5908cc49",
   "metadata": {},
   "source": [
    "<a name='1'></a> \n",
    "### 2. Useful methods\n",
    "\n",
    "Here we will define methods to convert the digital gain from the red pitaya to an analog value, method to create the parameters used in the plot and a function to include information from the first and third quartil."
   ]
  },
  {
   "cell_type": "code",
   "execution_count": 42,
   "id": "a2a469f3",
   "metadata": {},
   "outputs": [],
   "source": [
    "def convert_gains(gain, bits_decimal = 8):\n",
    "    '''\n",
    "    Function to convert gain values from integer representation of multiples of \n",
    "    the ADC resolution to float\n",
    "    '''\n",
    "    resolution = 2**-8\n",
    "    return -32+(gain-8192)*resolution if gain >=8192 else  gain*resolution\n",
    "\n",
    "\n",
    "def get_plot_params(df):\n",
    "    '''\n",
    "    Extract median and std from shifts to create plot with shifts and \n",
    "    the respectives error bars\n",
    "    '''\n",
    "    filt_grouped = df.groupby('final_gain', as_index=False).agg(np.median)\n",
    "    gains = filt_grouped['final_gain'].values\n",
    "    median_shifts = filt_grouped['shift'].values\n",
    "    std = df.groupby('final_gain').agg(np.std)['shift'].values\n",
    "    return gains, median_shifts, std\n",
    "\n",
    "\n",
    "\n",
    "def include_quartis(df):\n",
    "    '''\n",
    "    Include Q1 and Q3 values for each gain to remove outliers and \n",
    "    execute data cleaning\n",
    "    '''\n",
    "    q1 = df.groupby('gain', as_index=False).quantile(0.25)\n",
    "    q1['shift_q1'] = q1['shift']\n",
    "    q1 = q1.drop('shift', axis=1)\n",
    "    df = pd.merge(df, q1[['gain', 'shift_q1']], on='gain')\n",
    "    q3 = df.groupby('gain', as_index=False).quantile(0.75)\n",
    "    q3['shift_q3'] = q3['shift']\n",
    "    q3 = q3.drop('shift', axis=1)\n",
    "    df = pd.merge(df, q3[['gain', 'shift_q3']], on='gain')\n",
    "    df['diq'] = df['shift_q3'] - df['shift_q1']\n",
    "    df['upper'] = df['shift_q3'] + 1.5*df['diq']\n",
    "    df['bottom'] = df['shift_q1'] - 1.5*df['diq']\n",
    "    return df"
   ]
  },
  {
   "cell_type": "markdown",
   "id": "d4e04fa9",
   "metadata": {},
   "source": [
    "<a name='3'></a> \n",
    "### 3. Loading data and applying LinearRegression fit\n",
    "\n",
    "With the auxiliary methods defined, we will load the data from the `data.csv` dataframe, which contain columns specifying the `gain` in digital units, `batch` and angular frequencies (with and without perturbation). For comparison we will use two fit function, one defining a linear function a using `curve_fit` from `scipy.optimization` and other with `LinearRegression()` model from `scikit-learning`."
   ]
  },
  {
   "cell_type": "code",
   "execution_count": 43,
   "id": "612dbfdc",
   "metadata": {},
   "outputs": [
    {
     "data": {
      "text/html": [
       "<div>\n",
       "<style scoped>\n",
       "    .dataframe tbody tr th:only-of-type {\n",
       "        vertical-align: middle;\n",
       "    }\n",
       "\n",
       "    .dataframe tbody tr th {\n",
       "        vertical-align: top;\n",
       "    }\n",
       "\n",
       "    .dataframe thead th {\n",
       "        text-align: right;\n",
       "    }\n",
       "</style>\n",
       "<table border=\"1\" class=\"dataframe\">\n",
       "  <thead>\n",
       "    <tr style=\"text-align: right;\">\n",
       "      <th></th>\n",
       "      <th>gain</th>\n",
       "      <th>batch</th>\n",
       "      <th>omega</th>\n",
       "      <th>omega_ref</th>\n",
       "    </tr>\n",
       "  </thead>\n",
       "  <tbody>\n",
       "    <tr>\n",
       "      <th>0</th>\n",
       "      <td>10394</td>\n",
       "      <td>0</td>\n",
       "      <td>80519.193286</td>\n",
       "      <td>80058.792346</td>\n",
       "    </tr>\n",
       "    <tr>\n",
       "      <th>1</th>\n",
       "      <td>10601</td>\n",
       "      <td>0</td>\n",
       "      <td>79652.248500</td>\n",
       "      <td>81345.428762</td>\n",
       "    </tr>\n",
       "    <tr>\n",
       "      <th>2</th>\n",
       "      <td>10824</td>\n",
       "      <td>0</td>\n",
       "      <td>80586.942211</td>\n",
       "      <td>81274.120058</td>\n",
       "    </tr>\n",
       "    <tr>\n",
       "      <th>3</th>\n",
       "      <td>11065</td>\n",
       "      <td>0</td>\n",
       "      <td>80608.286129</td>\n",
       "      <td>80792.427812</td>\n",
       "    </tr>\n",
       "    <tr>\n",
       "      <th>4</th>\n",
       "      <td>11332</td>\n",
       "      <td>0</td>\n",
       "      <td>80649.449494</td>\n",
       "      <td>80750.302388</td>\n",
       "    </tr>\n",
       "  </tbody>\n",
       "</table>\n",
       "</div>"
      ],
      "text/plain": [
       "    gain  batch         omega     omega_ref\n",
       "0  10394      0  80519.193286  80058.792346\n",
       "1  10601      0  79652.248500  81345.428762\n",
       "2  10824      0  80586.942211  81274.120058\n",
       "3  11065      0  80608.286129  80792.427812\n",
       "4  11332      0  80649.449494  80750.302388"
      ]
     },
     "execution_count": 43,
     "metadata": {},
     "output_type": "execute_result"
    }
   ],
   "source": [
    "df = pd.read_csv('../data/shift/data.csv', index_col=False)\n",
    "df.head()"
   ]
  },
  {
   "cell_type": "code",
   "execution_count": 44,
   "id": "65034ee3",
   "metadata": {},
   "outputs": [],
   "source": [
    "df = df[~df['gain'].isin([7388, 8000, 8384, 9000])]\n",
    "df['shift'] = df['omega'] - df['omega_ref']\n",
    "df = include_quartis(df)\n",
    "df = df[(df['shift']>df['bottom'])&(df['shift']<df['upper'])]\n",
    "df['gain'] = df['gain'].apply(convert_gains)\n",
    "df['final_gain'] = 11.27*3.03e-15*np.power(-11*1.504e4*df['gain'].values,3)\n",
    "df = df.sort_values(by=['final_gain'])\n",
    "\n",
    "filt_df = df[(df['final_gain']>-4e6)&(df['final_gain']<4e6)]\n",
    "out_of_perturbation = df[(df['final_gain']<-4e6)|(df['final_gain']>4e6)] \n",
    "filt_df = df.copy()\n",
    "gains, median_shifts, std = get_plot_params(filt_df)\n",
    "gains_pert, median_shifts_pert, std_pert = get_plot_params(out_of_perturbation)\n",
    "\n",
    "X = filt_df['final_gain'].values.reshape((-1,1))\n",
    "y = filt_df['shift'].values"
   ]
  },
  {
   "cell_type": "code",
   "execution_count": 45,
   "id": "010dc0de",
   "metadata": {},
   "outputs": [],
   "source": [
    "def line(x, a):\n",
    "    return a*x"
   ]
  },
  {
   "cell_type": "code",
   "execution_count": 46,
   "id": "a03e3d5b",
   "metadata": {},
   "outputs": [
    {
     "data": {
      "text/plain": [
       "(array([0.00054106]), 8.555400510194927e-06)"
      ]
     },
     "execution_count": 46,
     "metadata": {},
     "output_type": "execute_result"
    }
   ],
   "source": [
    "ans, cov = curve_fit(line, gains, -median_shifts)\n",
    "ans, np.sqrt(cov[0,0])"
   ]
  },
  {
   "cell_type": "code",
   "execution_count": 47,
   "id": "8b765e59",
   "metadata": {},
   "outputs": [
    {
     "data": {
      "text/plain": [
       "(array([0.00054107]), 0.9925606003643307)"
      ]
     },
     "execution_count": 47,
     "metadata": {},
     "output_type": "execute_result"
    }
   ],
   "source": [
    "model = LinearRegression().fit(gains.reshape((gains.shape[0], 1)), -median_shifts)\n",
    "r_sq = model.score(gains.reshape((gains.shape[0], 1)), -median_shifts)\n",
    "model.coef_, r_sq"
   ]
  },
  {
   "cell_type": "markdown",
   "metadata": {},
   "source": [
    "<a name='4'></a> \n",
    "### 4. Simulation for comparison\n"
   ]
  },
  {
   "cell_type": "code",
   "execution_count": 48,
   "metadata": {},
   "outputs": [],
   "source": [
    "freq = 79e3\n",
    "omega = 2*np.pi*freq\n",
    "T = 1 / freq\n",
    "max_time = 500 * T\n",
    "M = 500\n",
    "delta_t = 2e-7\n",
    "N_time = int(max_time / delta_t)\n",
    "t = np.linspace(0, max_time, int(N_time))\n",
    "gamma = 13578.7501\n",
    "env = Particle(omega, gamma, radius=73e-9)"
   ]
  },
  {
   "cell_type": "code",
   "execution_count": 68,
   "metadata": {},
   "outputs": [],
   "source": [
    "def extract_central_freq(freq, psds):\n",
    "    indexes = np.argwhere((freq>65000) & (freq <95000))\n",
    "    freq_cropped, power_cropped = freq[indexes], psds[indexes]\n",
    "    p0 =  [39103.417023, 2*np.pi*80000.0, 13000.2758744481, 0]\n",
    "    ans, cov = curve_fit(lorentzian, 2*np.pi*freq_cropped[:, 0], power_cropped[:,0], p0=p0, maxfev=10000)\n",
    "    return ans[1], cov[1,1]\n",
    "\n",
    "\n",
    "def lorentzian(omega,A,center,gamma,base):\n",
    "    num = A*gamma\n",
    "    den = (center**2-omega**2)**2+omega**2*gamma**2\n",
    "    return num/den + base\n",
    "\n",
    "\n",
    "def psd(traces, delta_t):\n",
    "    pxxs = []\n",
    "    for i in range(traces.shape[0]):\n",
    "        freq, pxx = sn.welch(traces[i,:], fs=1/delta_t, window='hamming', nperseg=int(traces.shape[1]))\n",
    "#        if not np.isnan(pxx.max()) and not pxx.max() > 1e18:\n",
    "        pxxs.append(pxx)\n",
    "    return freq, np.array(pxxs)\n",
    "\n",
    "\n",
    "def generate_traces(env, delta_t, N_time,  M, gain_range):\n",
    "    cubic_variables = {i:{'gain': gain, 'traces': [], \n",
    "                          'freq':[], 'psd': [], \n",
    "                          'psd_cubic': []} \n",
    "                          for i, gain in enumerate(gain_range)}\n",
    "    print(\"-- Creating traces --\")\n",
    "    print(cubic_variables)\n",
    "    for key in tqdm(cubic_variables.keys()):\n",
    "        cubic = np.zeros(shape=(M, N_time))\n",
    "        for i in range(M):\n",
    "            data = simulation(env.__omega__, env.__gamma__, env.thermal_force_std, delta_t, N_time, cubic_variables[key]['gain']*(env.zp_x**3/env.zp_p), 0)\n",
    "            data = np.array(data)\n",
    "            cubic[i, :] = data\n",
    "        cubic_variables[key]['traces'] = cubic\n",
    "    print(cubic_variables)\n",
    "    print(\"-- Analysing and making PSD --\")\n",
    "    for key in tqdm(list(cubic_variables.keys())):\n",
    "\n",
    "        freq, pxx = psd(cubic_variables[key]['traces'], delta_t)\n",
    "        freq, pxx_cubic = psd(np.power(cubic_variables[key]['traces'], 3), delta_t)\n",
    "        cubic_variables[key]['psd'] = pxx\n",
    "        print(pxx_cubic)\n",
    "        cubic_variables[key]['psd_cubic'] = pxx_cubic\n",
    "        cubic_variables[key]['freq'] = freq\n",
    "        print(cubic_variables)\n",
    "\n",
    "#        plt.plot(freq, pxx[1,:])\n",
    "#        plt.yscale('log')\n",
    "#        plt.show()\n",
    "\n",
    "#        delay_areas.append(pxx.sum(axis=1).mean())\n",
    "#        areas_std.append(pxx.sum(axis=1).std())\n",
    "\n",
    "    return cubic_variables"
   ]
  },
  {
   "cell_type": "code",
   "execution_count": 69,
   "metadata": {},
   "outputs": [
    {
     "name": "stdout",
     "output_type": "stream",
     "text": [
      "[0.]\n",
      "-- Creating traces --\n",
      "{0: {'gain': 0.0, 'traces': [], 'freq': [], 'psd': [], 'psd_cubic': []}}\n"
     ]
    },
    {
     "name": "stderr",
     "output_type": "stream",
     "text": [
      "100%|██████████| 1/1 [00:00<00:00,  1.07it/s]\n"
     ]
    },
    {
     "name": "stdout",
     "output_type": "stream",
     "text": [
      "{0: {'gain': 0.0, 'traces': array([[ -126.58073872,  -439.4553065 ,  -779.57631737, ...,\n",
      "        -2483.74516816, -3209.06452038, -4013.66784643],\n",
      "       [ -252.92908923,  -289.5497109 ,  -146.5083456 , ...,\n",
      "         7380.35811757,  5569.98821906,  3841.49844365],\n",
      "       [  -92.4151093 ,  -283.1656191 ,  -434.36569979, ...,\n",
      "        -3319.75718807, -5212.36423055, -7107.04006275],\n",
      "       ...,\n",
      "       [  159.96246045,   348.46141405,   536.50852729, ...,\n",
      "        26215.4213159 , 24001.97424566, 21517.1069531 ],\n",
      "       [   70.01188571,    73.62765229,    99.58049014, ...,\n",
      "         7874.14631208,  8275.31112672,  8481.62002988],\n",
      "       [  -82.45743843,  -161.19194146,  -165.75811573, ...,\n",
      "        -1357.92569931, -2145.21821907, -3010.56837301]]), 'freq': [], 'psd': [], 'psd_cubic': []}}\n",
      "-- Analysing and making PSD --\n"
     ]
    },
    {
     "name": "stderr",
     "output_type": "stream",
     "text": [
      "100%|██████████| 1/1 [00:05<00:00,  5.06s/it]"
     ]
    },
    {
     "name": "stdout",
     "output_type": "stream",
     "text": [
      "[[8.22599777e+16 5.26813534e+18 1.49241882e+19 ... 1.33346708e+14\n",
      "  2.26184042e+14 1.98007084e+14]\n",
      " [3.47578183e+17 2.91230222e+17 5.88510401e+18 ... 4.47600650e+13\n",
      "  1.26403766e+13 6.47687764e+13]\n",
      " [4.49215078e+17 2.10934824e+18 5.16927214e+18 ... 1.38293982e+12\n",
      "  3.73424650e+13 1.79056809e+14]\n",
      " ...\n",
      " [5.22967674e+17 1.76098108e+18 6.97029119e+17 ... 8.82153259e+13\n",
      "  2.73071271e+13 5.42203565e+13]\n",
      " [2.35146577e+16 5.77907021e+18 4.21447322e+19 ... 6.65603612e+13\n",
      "  7.28040635e+12 1.75893158e+14]\n",
      " [6.08760434e+17 7.08002084e+18 3.08227821e+18 ... 5.02717198e+13\n",
      "  4.56900192e+13 2.31025007e+13]]\n",
      "{0: {'gain': 0.0, 'traces': array([[ -126.58073872,  -439.4553065 ,  -779.57631737, ...,\n",
      "        -2483.74516816, -3209.06452038, -4013.66784643],\n",
      "       [ -252.92908923,  -289.5497109 ,  -146.5083456 , ...,\n",
      "         7380.35811757,  5569.98821906,  3841.49844365],\n",
      "       [  -92.4151093 ,  -283.1656191 ,  -434.36569979, ...,\n",
      "        -3319.75718807, -5212.36423055, -7107.04006275],\n",
      "       ...,\n",
      "       [  159.96246045,   348.46141405,   536.50852729, ...,\n",
      "        26215.4213159 , 24001.97424566, 21517.1069531 ],\n",
      "       [   70.01188571,    73.62765229,    99.58049014, ...,\n",
      "         7874.14631208,  8275.31112672,  8481.62002988],\n",
      "       [  -82.45743843,  -161.19194146,  -165.75811573, ...,\n",
      "        -1357.92569931, -2145.21821907, -3010.56837301]]), 'freq': array([0.00000000e+00, 1.58002844e+02, 3.16005688e+02, ...,\n",
      "       2.49960499e+06, 2.49976300e+06, 2.49992100e+06]), 'psd': array([[3.87661689e+00, 2.64847428e+01, 1.31325947e+01, ...,\n",
      "        1.31222472e-04, 1.95793287e-04, 3.70892478e-05],\n",
      "       [6.73856057e+00, 2.49967900e+01, 8.41728512e+00, ...,\n",
      "        2.29674767e-04, 5.29750292e-05, 2.35402734e-05],\n",
      "       [1.64018322e-01, 1.06936457e+01, 4.47014187e+00, ...,\n",
      "        3.32680505e-05, 4.48819418e-06, 1.23647342e-04],\n",
      "       ...,\n",
      "       [8.85831862e+00, 4.38215470e+01, 3.70263009e+01, ...,\n",
      "        3.22603184e-04, 4.15961972e-05, 5.49552395e-05],\n",
      "       [1.03684045e+00, 2.52222617e+01, 5.46774842e+01, ...,\n",
      "        4.47068036e-04, 3.14530413e-04, 2.98205009e-05],\n",
      "       [4.32291940e-01, 1.01766101e+01, 9.64817936e-02, ...,\n",
      "        2.05327958e-05, 1.04018756e-04, 7.78379897e-05]]), 'psd_cubic': array([[8.22599777e+16, 5.26813534e+18, 1.49241882e+19, ...,\n",
      "        1.33346708e+14, 2.26184042e+14, 1.98007084e+14],\n",
      "       [3.47578183e+17, 2.91230222e+17, 5.88510401e+18, ...,\n",
      "        4.47600650e+13, 1.26403766e+13, 6.47687764e+13],\n",
      "       [4.49215078e+17, 2.10934824e+18, 5.16927214e+18, ...,\n",
      "        1.38293982e+12, 3.73424650e+13, 1.79056809e+14],\n",
      "       ...,\n",
      "       [5.22967674e+17, 1.76098108e+18, 6.97029119e+17, ...,\n",
      "        8.82153259e+13, 2.73071271e+13, 5.42203565e+13],\n",
      "       [2.35146577e+16, 5.77907021e+18, 4.21447322e+19, ...,\n",
      "        6.65603612e+13, 7.28040635e+12, 1.75893158e+14],\n",
      "       [6.08760434e+17, 7.08002084e+18, 3.08227821e+18, ...,\n",
      "        5.02717198e+13, 4.56900192e+13, 2.31025007e+13]])}}\n"
     ]
    },
    {
     "name": "stderr",
     "output_type": "stream",
     "text": [
      "\n"
     ]
    }
   ],
   "source": [
    "sim_gains = np.linspace(0, 0, 1)\n",
    "print(sim_gains)\n",
    "cubic_variables = generate_traces(env, delta_t, N_time, M, sim_gains)\n",
    "sim_gains = sim_gains/1e6\n"
   ]
  },
  {
   "cell_type": "code",
   "execution_count": 70,
   "metadata": {},
   "outputs": [
    {
     "data": {
      "text/plain": [
       "{0: {'gain': 0.0,\n",
       "  'traces': array([[ -126.58073872,  -439.4553065 ,  -779.57631737, ...,\n",
       "          -2483.74516816, -3209.06452038, -4013.66784643],\n",
       "         [ -252.92908923,  -289.5497109 ,  -146.5083456 , ...,\n",
       "           7380.35811757,  5569.98821906,  3841.49844365],\n",
       "         [  -92.4151093 ,  -283.1656191 ,  -434.36569979, ...,\n",
       "          -3319.75718807, -5212.36423055, -7107.04006275],\n",
       "         ...,\n",
       "         [  159.96246045,   348.46141405,   536.50852729, ...,\n",
       "          26215.4213159 , 24001.97424566, 21517.1069531 ],\n",
       "         [   70.01188571,    73.62765229,    99.58049014, ...,\n",
       "           7874.14631208,  8275.31112672,  8481.62002988],\n",
       "         [  -82.45743843,  -161.19194146,  -165.75811573, ...,\n",
       "          -1357.92569931, -2145.21821907, -3010.56837301]]),\n",
       "  'freq': array([0.00000000e+00, 1.58002844e+02, 3.16005688e+02, ...,\n",
       "         2.49960499e+06, 2.49976300e+06, 2.49992100e+06]),\n",
       "  'psd': array([[3.87661689e+00, 2.64847428e+01, 1.31325947e+01, ...,\n",
       "          1.31222472e-04, 1.95793287e-04, 3.70892478e-05],\n",
       "         [6.73856057e+00, 2.49967900e+01, 8.41728512e+00, ...,\n",
       "          2.29674767e-04, 5.29750292e-05, 2.35402734e-05],\n",
       "         [1.64018322e-01, 1.06936457e+01, 4.47014187e+00, ...,\n",
       "          3.32680505e-05, 4.48819418e-06, 1.23647342e-04],\n",
       "         ...,\n",
       "         [8.85831862e+00, 4.38215470e+01, 3.70263009e+01, ...,\n",
       "          3.22603184e-04, 4.15961972e-05, 5.49552395e-05],\n",
       "         [1.03684045e+00, 2.52222617e+01, 5.46774842e+01, ...,\n",
       "          4.47068036e-04, 3.14530413e-04, 2.98205009e-05],\n",
       "         [4.32291940e-01, 1.01766101e+01, 9.64817936e-02, ...,\n",
       "          2.05327958e-05, 1.04018756e-04, 7.78379897e-05]]),\n",
       "  'psd_cubic': array([[8.22599777e+16, 5.26813534e+18, 1.49241882e+19, ...,\n",
       "          1.33346708e+14, 2.26184042e+14, 1.98007084e+14],\n",
       "         [3.47578183e+17, 2.91230222e+17, 5.88510401e+18, ...,\n",
       "          4.47600650e+13, 1.26403766e+13, 6.47687764e+13],\n",
       "         [4.49215078e+17, 2.10934824e+18, 5.16927214e+18, ...,\n",
       "          1.38293982e+12, 3.73424650e+13, 1.79056809e+14],\n",
       "         ...,\n",
       "         [5.22967674e+17, 1.76098108e+18, 6.97029119e+17, ...,\n",
       "          8.82153259e+13, 2.73071271e+13, 5.42203565e+13],\n",
       "         [2.35146577e+16, 5.77907021e+18, 4.21447322e+19, ...,\n",
       "          6.65603612e+13, 7.28040635e+12, 1.75893158e+14],\n",
       "         [6.08760434e+17, 7.08002084e+18, 3.08227821e+18, ...,\n",
       "          5.02717198e+13, 4.56900192e+13, 2.31025007e+13]])}}"
      ]
     },
     "execution_count": 70,
     "metadata": {},
     "output_type": "execute_result"
    }
   ],
   "source": [
    "cubic_variables"
   ]
  },
  {
   "cell_type": "code",
   "execution_count": 71,
   "metadata": {},
   "outputs": [
    {
     "data": {
      "image/png": "[encoded data removed]",
      "text/plain": [
       "<Figure size 640x480 with 1 Axes>"
      ]
     },
     "metadata": {},
     "output_type": "display_data"
    }
   ],
   "source": [
    "plt.plot(cubic_variables[0]['freq'], cubic_variables[0]['psd'].mean(axis=0))\n",
    "plt.plot(cubic_variables[0]['freq'], cubic_variables[0]['psd_cubic'].mean(axis=0))\n",
    "plt.show()"
   ]
  },
  {
   "cell_type": "markdown",
   "id": "21d2375a",
   "metadata": {},
   "source": [
    "<a name='5'></a> \n",
    "### 5. Plots and comparison with theoretical predictions\n",
    "\n",
    "With the plot points extracted and the linear regression model fitted we will"
   ]
  },
  {
   "cell_type": "code",
   "execution_count": 39,
   "id": "f34415d9",
   "metadata": {},
   "outputs": [
    {
     "data": {
      "image/png": "[encoded data removed]",
      "text/plain": [
       "<Figure size 300x250 with 1 Axes>"
      ]
     },
     "metadata": {},
     "output_type": "display_data"
    }
   ],
   "source": [
    "gain_linspace = np.linspace(1.4*df['final_gain'].values.min(), \n",
    "                    1.4*df['final_gain'].values.max(), 100)   \n",
    "y = model.coef_*gain_linspace + model.intercept_\n",
    "delta_f = -0.000558736548199816 \n",
    "colors = ['#2E86C1', '#85C1E9', '#1B4F72']\n",
    "fig = plt.figure(figsize=(5.4, 4.2))\n",
    "fig.set_size_inches(3, 2.5, forward=True)\n",
    "plt.plot(gain_linspace/1e6, -gain_linspace*delta_f/1e3, linestyle='--', color=colors[2])\n",
    "plt.ylim([-5.5, 5.5])\n",
    "plt.xlim([-5.5, 5.5])\n",
    "plt.errorbar(sim_gains[::5], -shifts_sim[::5]/(2*np.pi), \n",
    "             yerr=np.sqrt(std_freqs[::5])/(2*np.pi*1e3), \n",
    "             fmt='o', markersize=4,\n",
    "             color=colors[0])\n",
    "plt.errorbar(gains[::5]/1e6, -median_shifts[::5]/1e3, yerr=std[::5]/1e3, \n",
    "                fmt='o', color=colors[2], markersize=4)   \n",
    "plt.grid()\n",
    "plt.xlabel(r'$G_{fb} \\,(10^6\\, \\textrm{N/m}{}^3)$')\n",
    "plt.ylabel(r'$\\Delta \\Omega_z/2\\pi$ (kHz)')\n",
    "plt.legend(['Theory', 'Simulation', 'Experiment'], fontsize=10)\n",
    "plt.fill_between([-5.5, -3.83], [6e3, 6e3], [-6e3, -6e3], color='gray', alpha=0.15)\n",
    "plt.fill_between([3.83, 5.5], [6e3, 6e3], [-6e3, -6e3], color='gray', alpha=0.15)\n",
    "plt.savefig('../plots/test_shift.pdf', bbox_inches='tight', dpi=300)\n",
    "plt.show()"
   ]
  },
  {
   "cell_type": "code",
   "execution_count": null,
   "metadata": {},
   "outputs": [],
   "source": []
  }
 ],
 "metadata": {
  "kernelspec": {
   "display_name": "Python 3 (ipykernel)",
   "language": "python",
   "name": "python3"
  },
  "language_info": {
   "codemirror_mode": {
    "name": "ipython",
    "version": 3
   },
   "file_extension": ".py",
   "mimetype": "text/x-python",
   "name": "python",
   "nbconvert_exporter": "python",
   "pygments_lexer": "ipython3",
   "version": "3.8.5"
  }
 },
 "nbformat": 4,
 "nbformat_minor": 5
}
