{
 "cells": [
  {
   "cell_type": "code",
   "execution_count": 1,
   "id": "d4e8528c",
   "metadata": {},
   "outputs": [],
   "source": [
    "import matplotlib as mpl\n",
    "import matplotlib.pyplot as plt\n",
    "import numpy as np\n",
    "import pandas as pd\n",
    "from scipy import stats\n",
    "from sklearn.linear_model import LinearRegression"
   ]
  },
  {
   "cell_type": "code",
   "execution_count": 2,
   "id": "fe35664f",
   "metadata": {},
   "outputs": [],
   "source": [
    "mpl.rcParams.update(mpl.rcParamsDefault)\n",
    "plt.rcParams.update({'font.size': 10})\n",
    "plt.rcParams['axes.linewidth'] = 1.5\n",
    "plt.rcParams['font.family'] = 'serif'\n",
    "plt.rcParams['font.serif'] = ['Times New Roman'] + plt.rcParams['font.serif']\n",
    "plt.rcParams.update({\n",
    "    \"text.usetex\": True,\n",
    "})"
   ]
  },
  {
   "cell_type": "code",
   "execution_count": 3,
   "id": "a2a469f3",
   "metadata": {},
   "outputs": [],
   "source": [
    "def convert_gains(gain, bits_decimal = 8):\n",
    "    '''\n",
    "    Function to convert gain values from integer representation of multiples of \n",
    "    the ADC resolution to float\n",
    "    '''\n",
    "    resolution = 2**-8\n",
    "    return -32+(gain-8192)*resolution if gain >=8192 else  gain*resolution\n",
    "\n",
    "def get_plot_params(df):\n",
    "    '''\n",
    "    Extract median and std from shifts to create plot with shifts and \n",
    "    the respectives error bars\n",
    "    '''\n",
    "    filt_grouped = df.groupby('final_gain', as_index=False).agg(np.median)\n",
    "    gains = filt_grouped['final_gain'].values\n",
    "    median_shifts = filt_grouped['shift'].values\n",
    "    std = df.groupby('final_gain').agg(np.std)['shift'].values\n",
    "    return gains, median_shifts, std\n",
    "\n",
    "\n",
    "\n",
    "def include_quartis(df):\n",
    "    '''\n",
    "    Include Q1 and Q3 values for each gain to remove outliers and \n",
    "    execute data cleaning\n",
    "    '''\n",
    "    q1 = df.groupby('gain', as_index=False).quantile(0.25)\n",
    "    q1['shift_q1'] = q1['shift']\n",
    "    q1 = q1.drop('shift', axis=1)\n",
    "    df = pd.merge(df, q1[['gain', 'shift_q1']], on='gain')\n",
    "    q3 = df.groupby('gain', as_index=False).quantile(0.75)\n",
    "    q3['shift_q3'] = q3['shift']\n",
    "    q3 = q3.drop('shift', axis=1)\n",
    "    df = pd.merge(df, q3[['gain', 'shift_q3']], on='gain')\n",
    "    df['diq'] = df['shift_q3'] - df['shift_q1']\n",
    "    df['upper'] = df['shift_q3'] + 1.5*df['diq']\n",
    "    df['bottom'] = df['shift_q1'] - 1.5*df['diq']\n",
    "    return df"
   ]
  },
  {
   "cell_type": "code",
   "execution_count": 4,
   "id": "612dbfdc",
   "metadata": {},
   "outputs": [
    {
     "data": {
      "text/html": [
       "<div>\n",
       "<style scoped>\n",
       "    .dataframe tbody tr th:only-of-type {\n",
       "        vertical-align: middle;\n",
       "    }\n",
       "\n",
       "    .dataframe tbody tr th {\n",
       "        vertical-align: top;\n",
       "    }\n",
       "\n",
       "    .dataframe thead th {\n",
       "        text-align: right;\n",
       "    }\n",
       "</style>\n",
       "<table border=\"1\" class=\"dataframe\">\n",
       "  <thead>\n",
       "    <tr style=\"text-align: right;\">\n",
       "      <th></th>\n",
       "      <th>gain</th>\n",
       "      <th>batch</th>\n",
       "      <th>omega</th>\n",
       "      <th>omega_ref</th>\n",
       "    </tr>\n",
       "  </thead>\n",
       "  <tbody>\n",
       "    <tr>\n",
       "      <th>0</th>\n",
       "      <td>10394</td>\n",
       "      <td>0</td>\n",
       "      <td>80519.193286</td>\n",
       "      <td>80058.792346</td>\n",
       "    </tr>\n",
       "    <tr>\n",
       "      <th>1</th>\n",
       "      <td>10601</td>\n",
       "      <td>0</td>\n",
       "      <td>79652.248500</td>\n",
       "      <td>81345.428762</td>\n",
       "    </tr>\n",
       "    <tr>\n",
       "      <th>2</th>\n",
       "      <td>10824</td>\n",
       "      <td>0</td>\n",
       "      <td>80586.942211</td>\n",
       "      <td>81274.120058</td>\n",
       "    </tr>\n",
       "    <tr>\n",
       "      <th>3</th>\n",
       "      <td>11065</td>\n",
       "      <td>0</td>\n",
       "      <td>80608.286129</td>\n",
       "      <td>80792.427812</td>\n",
       "    </tr>\n",
       "    <tr>\n",
       "      <th>4</th>\n",
       "      <td>11332</td>\n",
       "      <td>0</td>\n",
       "      <td>80649.449494</td>\n",
       "      <td>80750.302388</td>\n",
       "    </tr>\n",
       "  </tbody>\n",
       "</table>\n",
       "</div>"
      ],
      "text/plain": [
       "    gain  batch         omega     omega_ref\n",
       "0  10394      0  80519.193286  80058.792346\n",
       "1  10601      0  79652.248500  81345.428762\n",
       "2  10824      0  80586.942211  81274.120058\n",
       "3  11065      0  80608.286129  80792.427812\n",
       "4  11332      0  80649.449494  80750.302388"
      ]
     },
     "execution_count": 4,
     "metadata": {},
     "output_type": "execute_result"
    }
   ],
   "source": [
    "df = pd.read_csv('../data/shift/data.csv', index_col=False)\n",
    "df.head()"
   ]
  },
  {
   "cell_type": "code",
   "execution_count": 5,
   "id": "65034ee3",
   "metadata": {},
   "outputs": [],
   "source": [
    "df = df[~df['gain'].isin([7388, 8000, 8384, 9000])]\n",
    "df['shift'] = df['omega'] - df['omega_ref']\n",
    "df = include_quartis(df)\n",
    "df = df[(df['shift']>df['bottom'])&(df['shift']<df['upper'])]\n",
    "df['gain'] = df['gain'].apply(convert_gains)\n",
    "df['final_gain'] = 11.27*3.03e-15*np.power(-11*1.504e4*df['gain'].values,3)\n",
    "df = df.sort_values(by=['final_gain'])\n",
    "\n",
    "filt_df = df[(df['final_gain']>-2e6)&(df['final_gain']<2e6)]\n",
    "out_of_perturbation = df[(df['final_gain']<-2e6)|(df['final_gain']>2e6)] \n",
    "filt_df = df.copy()\n",
    "gains, median_shifts, std = get_plot_params(filt_df)\n",
    "gains_pert, median_shifts_pert, std_pert = get_plot_params(out_of_perturbation)\n",
    "\n",
    "X = filt_df['final_gain'].values.reshape((-1,1))\n",
    "y = filt_df['shift'].values"
   ]
  },
  {
   "cell_type": "code",
   "execution_count": 6,
   "id": "8b765e59",
   "metadata": {},
   "outputs": [
    {
     "data": {
      "text/plain": [
       "array([-0.00051795])"
      ]
     },
     "execution_count": 6,
     "metadata": {},
     "output_type": "execute_result"
    }
   ],
   "source": [
    "model = LinearRegression().fit(X, y)\n",
    "r_sq = model.score(X, y)\n",
    "model.coef_"
   ]
  },
  {
   "cell_type": "code",
   "execution_count": 9,
   "id": "f34415d9",
   "metadata": {},
   "outputs": [
    {
     "data": {
      "image/png": "[encoded data removed]",
      "text/plain": [
       "<Figure size 300x250 with 1 Axes>"
      ]
     },
     "metadata": {},
     "output_type": "display_data"
    }
   ],
   "source": [
    "gain_linspace = np.linspace(1.4*df['final_gain'].values.min(), \n",
    "                    1.4*df['final_gain'].values.max(), 100)   \n",
    "y = model.coef_*gain_linspace + model.intercept_\n",
    "delta_f = -0.000558736548199816 \n",
    "colors = ['#2E86C1', '#85C1E9', '#1B4F72']\n",
    "fig = plt.figure(figsize=(5.4, 4.2))\n",
    "fig.set_size_inches(3, 2.5, forward=True)\n",
    "plt.plot(gain_linspace/1e6, gain_linspace*delta_f/1e3, linestyle='--', color=colors[2])\n",
    "plt.ylim([-5.5, 5.5])\n",
    "plt.xlim([-5.5, 5.5])\n",
    "plt.errorbar(gains[::5]/1e6, median_shifts[::5]/1e3, yerr=std[::5]/1e3, \n",
    "                fmt='o', color=colors[0], markersize=4)   \n",
    "plt.grid()\n",
    "plt.xlabel(r'$G_{fb} \\,(10^6\\, \\textrm{N/m}{}^3)$')\n",
    "plt.ylabel(r'$\\Delta \\Omega_z/2\\pi$ (kHz)')\n",
    "plt.legend(['Theory', 'Experiment'], fontsize=10)\n",
    "plt.fill_between([-5.5, -3.83], [6e3, 6e3], [-6e3, -6e3], color='gray', alpha=0.15)\n",
    "plt.fill_between([3.83, 5.5], [6e3, 6e3], [-6e3, -6e3], color='gray', alpha=0.15)\n",
    "plt.savefig('../plots/test_shift.pdf', bbox_inches='tight')\n",
    "plt.show()"
   ]
  },
  {
   "cell_type": "code",
   "execution_count": null,
   "id": "8641e67c",
   "metadata": {},
   "outputs": [
    {
     "data": {
      "text/plain": [
       "3.839858674559637"
      ]
     },
     "execution_count": 6,
     "metadata": {},
     "output_type": "execute_result"
    }
   ],
   "source": [
    "rho=2200\n",
    "R = 150e-9/2\n",
    "m = rho*np.pi*4*R**3/3\n",
    "kb = 1.38e-23\n",
    "omega = 2*np.pi*8.5e4\n",
    "T = 273+22\n",
    "gamma = 13578.7501\n",
    "m*m*gamma*omega**3/(2*kb*T)/1e6"
   ]
  },
  {
   "cell_type": "code",
   "execution_count": 7,
   "id": "f5a51995",
   "metadata": {},
   "outputs": [
    {
     "name": "stdout",
     "output_type": "stream",
     "text": [
      "Total length of dataset - 10988\n",
      "[10394 10601 10824 11065 11332 11630 11971 12374 12881 13604     0  2780\n",
      "  3503  4010  4413  4754  5052  5319  5560  5783  5990  7388  8000  8384\n",
      "  9000  6183  6365  6537  6700  6856  7005  7149  7286  7419  7546  7670\n",
      "  7790  7906  8019  8129 10200 10018  9846  9683  9527  9378  9234  9097\n",
      "  8964  8837  8713  8593  8477  8364  8254]\n",
      "Total length of FILTERED dataset - 10711\n"
     ]
    }
   ],
   "source": [
    "df = pd.read_csv('../data/shift/data.csv', index_col=False)\n",
    "df['shift'] = df['omega'] - df['omega_ref']\n",
    "\n",
    "df = include_quartis(df)\n",
    "print('Total length of dataset - {}'.format(len(df)))\n",
    "print(df['gain'].unique())\n",
    "df = df[(df['shift']>df['bottom'])&(df['shift']<df['upper'])]\n",
    "print('Total length of FILTERED dataset - {}'.format(len(df)))\n",
    "df['final_gain'] = df['gain'].apply(convert_gains)\n",
    "# remove gains that are not in the step and were taken in the first measure\n",
    "df['final_gain'] = 11.27*3.03e-15*np.power(-11*1.504e4*df['final_gain'].values,3)\n"
   ]
  },
  {
   "cell_type": "code",
   "execution_count": 8,
   "id": "8c49334f",
   "metadata": {},
   "outputs": [
    {
     "data": {
      "text/plain": [
       "array([10394, 10601, 10824, 11065, 11332, 11630, 11971, 12374, 12881,\n",
       "       13604,     0,  2780,  3503,  4010,  4413,  4754,  5052,  5319,\n",
       "        5560,  5783,  5990,  7388,  8000,  8384,  9000,  6183,  6365,\n",
       "        6537,  6700,  6856,  7005,  7149,  7286,  7419,  7546,  7670,\n",
       "        7790,  7906,  8019,  8129, 10200, 10018,  9846,  9683,  9527,\n",
       "        9378,  9234,  9097,  8964,  8837,  8713,  8593,  8477,  8364,\n",
       "        8254])"
      ]
     },
     "execution_count": 8,
     "metadata": {},
     "output_type": "execute_result"
    }
   ],
   "source": [
    "df['gain'].unique()"
   ]
  },
  {
   "cell_type": "code",
   "execution_count": 9,
   "id": "17871343",
   "metadata": {},
   "outputs": [
    {
     "data": {
      "text/plain": [
       "ShapiroResult(statistic=0.9766166806221008, pvalue=0.5978496074676514)"
      ]
     },
     "execution_count": 9,
     "metadata": {},
     "output_type": "execute_result"
    }
   ],
   "source": [
    "stats.shapiro(df[df['gain']==2780]['shift'].values[::5])"
   ]
  },
  {
   "cell_type": "code",
   "execution_count": 16,
   "id": "e973843b",
   "metadata": {},
   "outputs": [],
   "source": [
    "def gaussian_plot_params(df, gain):\n",
    "    sub_df = df[df['gain']==gain]\n",
    "    mean = sub_df['shift'].values.mean()\n",
    "    std = sub_df['shift'].values.std()\n",
    "    final_gain = sub_df['final_gain'].values[0]\n",
    "    return mean, std, final_gain"
   ]
  },
  {
   "cell_type": "code",
   "execution_count": 17,
   "id": "85753825",
   "metadata": {},
   "outputs": [
    {
     "data": {
      "text/plain": [
       "200"
      ]
     },
     "execution_count": 17,
     "metadata": {},
     "output_type": "execute_result"
    }
   ],
   "source": [
    "len(df['batch'].unique())"
   ]
  }
 ],
 "metadata": {
  "kernelspec": {
   "display_name": "Python 3 (ipykernel)",
   "language": "python",
   "name": "python3"
  },
  "language_info": {
   "codemirror_mode": {
    "name": "ipython",
    "version": 3
   },
   "file_extension": ".py",
   "mimetype": "text/x-python",
   "name": "python",
   "nbconvert_exporter": "python",
   "pygments_lexer": "ipython3",
   "version": "3.8.5"
  }
 },
 "nbformat": 4,
 "nbformat_minor": 5
}
